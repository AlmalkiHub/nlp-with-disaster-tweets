{
  "nbformat": 4,
  "nbformat_minor": 0,
  "metadata": {
    "colab": {
      "name": "Natural_Language_Processing_with_Disaster_Tweets.ipynb",
      "provenance": [],
      "authorship_tag": "ABX9TyN3PJg/Y5fQCRrEvq34UWi3"
    },
    "kernelspec": {
      "name": "python3",
      "display_name": "Python 3"
    },
    "language_info": {
      "name": "python"
    },
    "accelerator": "GPU"
  },
  "cells": [
    {
      "cell_type": "markdown",
      "source": [
        "## `Ali Almalki` "
      ],
      "metadata": {
        "id": "P9To0De42rbr"
      }
    },
    {
      "cell_type": "markdown",
      "source": [
        "I am going to follow the following approach:\n",
        "\n",
        "```\n",
        "Text -> turn into numbers -> build a model -> train the model to find patterns -> use patterns (make predictions)\n",
        "```"
      ],
      "metadata": {
        "id": "yurGaOy0neWj"
      }
    },
    {
      "cell_type": "markdown",
      "source": [
        "## What we're going to cover\n",
        "\n",
        "\n",
        "* Downloading a text dataset\n",
        "* Visualizing text data\n",
        "* Converting text into numbers using tokenization\n",
        "* Turning our tokenized text into an embedding\n",
        "* Modelling a text dataset\n",
        "  * Starting with a baseline (TF-IDF)\n",
        "  * Building several deep learning text models\n",
        "    * Dense, LSTM, GRU, Conv1D, Transfer learning\n",
        "* Comparing the performance of each our models\n",
        "* Combining our models into an ensemble\n",
        "* Saving and loading a trained model\n",
        "* Find the most wrong predictions"
      ],
      "metadata": {
        "id": "QnWd1Utrm7mK"
      }
    },
    {
      "cell_type": "code",
      "source": [
        "# Check the GPU\n",
        "!nvidia-smi -L"
      ],
      "metadata": {
        "colab": {
          "base_uri": "https://localhost:8080/"
        },
        "id": "rcsO1RnUukrY",
        "outputId": "ce41f884-2f0e-4474-e6c1-3044b011bff7"
      },
      "execution_count": 3,
      "outputs": [
        {
          "output_type": "stream",
          "name": "stdout",
          "text": [
            "GPU 0: Tesla T4 (UUID: GPU-74699d0f-21d2-50be-22f1-a098c9addc0c)\n"
          ]
        }
      ]
    },
    {
      "cell_type": "markdown",
      "source": [
        "## Get helper functions"
      ],
      "metadata": {
        "id": "Hd42IASaukuw"
      }
    },
    {
      "cell_type": "code",
      "source": [
        "# Download helper functions\n",
        "!wget https://raw.githubusercontent.com/mrdbourke/tensorflow-deep-learning/main/extras/helper_functions.py\n",
        "\n",
        "# Import series of helper functions for the notebook\n",
        "from helper_functions import unzip_data, create_tensorboard_callback, plot_loss_curves, compare_historys "
      ],
      "metadata": {
        "colab": {
          "base_uri": "https://localhost:8080/"
        },
        "id": "bkPktbPJukx5",
        "outputId": "eb683da9-78c7-44cb-a0cb-622adcbc7e9d"
      },
      "execution_count": 4,
      "outputs": [
        {
          "output_type": "stream",
          "name": "stdout",
          "text": [
            "--2022-06-24 19:44:05--  https://raw.githubusercontent.com/mrdbourke/tensorflow-deep-learning/main/extras/helper_functions.py\n",
            "Resolving raw.githubusercontent.com (raw.githubusercontent.com)... 185.199.110.133, 185.199.111.133, 185.199.108.133, ...\n",
            "Connecting to raw.githubusercontent.com (raw.githubusercontent.com)|185.199.110.133|:443... connected.\n",
            "HTTP request sent, awaiting response... 200 OK\n",
            "Length: 10246 (10K) [text/plain]\n",
            "Saving to: ‘helper_functions.py.1’\n",
            "\n",
            "\rhelper_functions.py   0%[                    ]       0  --.-KB/s               \rhelper_functions.py 100%[===================>]  10.01K  --.-KB/s    in 0s      \n",
            "\n",
            "2022-06-24 19:44:05 (86.4 MB/s) - ‘helper_functions.py.1’ saved [10246/10246]\n",
            "\n"
          ]
        }
      ]
    },
    {
      "cell_type": "markdown",
      "source": [
        "## Get a text dataset"
      ],
      "metadata": {
        "id": "G-ZO_9P_uk0l"
      }
    },
    {
      "cell_type": "code",
      "source": [
        "!wget https://storage.googleapis.com/ztm_tf_course/nlp_getting_started.zip\n",
        "\n",
        "#Unzip data \n",
        "unzip_data(\"nlp_getting_started.zip\")"
      ],
      "metadata": {
        "colab": {
          "base_uri": "https://localhost:8080/"
        },
        "id": "3M3Ocsi4wcjy",
        "outputId": "d316b3d5-dddb-41ea-b7cf-d6480fea9126"
      },
      "execution_count": 5,
      "outputs": [
        {
          "output_type": "stream",
          "name": "stdout",
          "text": [
            "--2022-06-24 19:44:05--  https://storage.googleapis.com/ztm_tf_course/nlp_getting_started.zip\n",
            "Resolving storage.googleapis.com (storage.googleapis.com)... 74.125.197.128, 74.125.135.128, 74.125.142.128, ...\n",
            "Connecting to storage.googleapis.com (storage.googleapis.com)|74.125.197.128|:443... connected.\n",
            "HTTP request sent, awaiting response... 200 OK\n",
            "Length: 607343 (593K) [application/zip]\n",
            "Saving to: ‘nlp_getting_started.zip.1’\n",
            "\n",
            "\r          nlp_getti   0%[                    ]       0  --.-KB/s               \rnlp_getting_started 100%[===================>] 593.11K  --.-KB/s    in 0.01s   \n",
            "\n",
            "2022-06-24 19:44:05 (40.8 MB/s) - ‘nlp_getting_started.zip.1’ saved [607343/607343]\n",
            "\n"
          ]
        }
      ]
    },
    {
      "cell_type": "code",
      "source": [
        "# Standard scientific python imports \n",
        "import numpy as np\n",
        "import pandas as pd\n",
        "import matplotlib.pyplot as plt \n",
        "import random \n",
        "import io\n",
        "import tensorflow as tf\n",
        "import tensorflow_hub as hub\n",
        "from tensorflow.keras.layers import TextVectorization \n",
        "from tensorflow.keras import layers\n",
        "from sklearn.model_selection import train_test_split\n",
        "from sklearn.feature_extraction.text import TfidfVectorizer\n",
        "from sklearn.naive_bayes import MultinomialNB\n",
        "from sklearn.pipeline import Pipeline\n",
        "from sklearn.metrics import accuracy_score, precision_recall_fscore_support\n",
        "from helper_functions import create_tensorboard_callback\n",
        "from google.colab import files"
      ],
      "metadata": {
        "id": "GDPT_dMz4gNG"
      },
      "execution_count": 6,
      "outputs": []
    },
    {
      "cell_type": "markdown",
      "source": [
        "## Become one with the data 😉"
      ],
      "metadata": {
        "id": "V4Gv0YtI5M3i"
      }
    },
    {
      "cell_type": "markdown",
      "source": [
        "### Visualizing a text dataset"
      ],
      "metadata": {
        "id": "H8cAmOciwcm4"
      }
    },
    {
      "cell_type": "code",
      "source": [
        "train_df = pd.read_csv(\"train.csv\")\n",
        "test_df = pd.read_csv(\"test.csv\")\n",
        "train_df.head()"
      ],
      "metadata": {
        "colab": {
          "base_uri": "https://localhost:8080/",
          "height": 206
        },
        "id": "nZOT_D1_wcpS",
        "outputId": "cc36f79a-69a2-4c88-a6a1-41fd44877e83"
      },
      "execution_count": 7,
      "outputs": [
        {
          "output_type": "execute_result",
          "data": {
            "text/plain": [
              "   id keyword location                                               text  \\\n",
              "0   1     NaN      NaN  Our Deeds are the Reason of this #earthquake M...   \n",
              "1   4     NaN      NaN             Forest fire near La Ronge Sask. Canada   \n",
              "2   5     NaN      NaN  All residents asked to 'shelter in place' are ...   \n",
              "3   6     NaN      NaN  13,000 people receive #wildfires evacuation or...   \n",
              "4   7     NaN      NaN  Just got sent this photo from Ruby #Alaska as ...   \n",
              "\n",
              "   target  \n",
              "0       1  \n",
              "1       1  \n",
              "2       1  \n",
              "3       1  \n",
              "4       1  "
            ],
            "text/html": [
              "\n",
              "  <div id=\"df-4f670f16-2c7b-4ba0-be78-51c3dfda8f00\">\n",
              "    <div class=\"colab-df-container\">\n",
              "      <div>\n",
              "<style scoped>\n",
              "    .dataframe tbody tr th:only-of-type {\n",
              "        vertical-align: middle;\n",
              "    }\n",
              "\n",
              "    .dataframe tbody tr th {\n",
              "        vertical-align: top;\n",
              "    }\n",
              "\n",
              "    .dataframe thead th {\n",
              "        text-align: right;\n",
              "    }\n",
              "</style>\n",
              "<table border=\"1\" class=\"dataframe\">\n",
              "  <thead>\n",
              "    <tr style=\"text-align: right;\">\n",
              "      <th></th>\n",
              "      <th>id</th>\n",
              "      <th>keyword</th>\n",
              "      <th>location</th>\n",
              "      <th>text</th>\n",
              "      <th>target</th>\n",
              "    </tr>\n",
              "  </thead>\n",
              "  <tbody>\n",
              "    <tr>\n",
              "      <th>0</th>\n",
              "      <td>1</td>\n",
              "      <td>NaN</td>\n",
              "      <td>NaN</td>\n",
              "      <td>Our Deeds are the Reason of this #earthquake M...</td>\n",
              "      <td>1</td>\n",
              "    </tr>\n",
              "    <tr>\n",
              "      <th>1</th>\n",
              "      <td>4</td>\n",
              "      <td>NaN</td>\n",
              "      <td>NaN</td>\n",
              "      <td>Forest fire near La Ronge Sask. Canada</td>\n",
              "      <td>1</td>\n",
              "    </tr>\n",
              "    <tr>\n",
              "      <th>2</th>\n",
              "      <td>5</td>\n",
              "      <td>NaN</td>\n",
              "      <td>NaN</td>\n",
              "      <td>All residents asked to 'shelter in place' are ...</td>\n",
              "      <td>1</td>\n",
              "    </tr>\n",
              "    <tr>\n",
              "      <th>3</th>\n",
              "      <td>6</td>\n",
              "      <td>NaN</td>\n",
              "      <td>NaN</td>\n",
              "      <td>13,000 people receive #wildfires evacuation or...</td>\n",
              "      <td>1</td>\n",
              "    </tr>\n",
              "    <tr>\n",
              "      <th>4</th>\n",
              "      <td>7</td>\n",
              "      <td>NaN</td>\n",
              "      <td>NaN</td>\n",
              "      <td>Just got sent this photo from Ruby #Alaska as ...</td>\n",
              "      <td>1</td>\n",
              "    </tr>\n",
              "  </tbody>\n",
              "</table>\n",
              "</div>\n",
              "      <button class=\"colab-df-convert\" onclick=\"convertToInteractive('df-4f670f16-2c7b-4ba0-be78-51c3dfda8f00')\"\n",
              "              title=\"Convert this dataframe to an interactive table.\"\n",
              "              style=\"display:none;\">\n",
              "        \n",
              "  <svg xmlns=\"http://www.w3.org/2000/svg\" height=\"24px\"viewBox=\"0 0 24 24\"\n",
              "       width=\"24px\">\n",
              "    <path d=\"M0 0h24v24H0V0z\" fill=\"none\"/>\n",
              "    <path d=\"M18.56 5.44l.94 2.06.94-2.06 2.06-.94-2.06-.94-.94-2.06-.94 2.06-2.06.94zm-11 1L8.5 8.5l.94-2.06 2.06-.94-2.06-.94L8.5 2.5l-.94 2.06-2.06.94zm10 10l.94 2.06.94-2.06 2.06-.94-2.06-.94-.94-2.06-.94 2.06-2.06.94z\"/><path d=\"M17.41 7.96l-1.37-1.37c-.4-.4-.92-.59-1.43-.59-.52 0-1.04.2-1.43.59L10.3 9.45l-7.72 7.72c-.78.78-.78 2.05 0 2.83L4 21.41c.39.39.9.59 1.41.59.51 0 1.02-.2 1.41-.59l7.78-7.78 2.81-2.81c.8-.78.8-2.07 0-2.86zM5.41 20L4 18.59l7.72-7.72 1.47 1.35L5.41 20z\"/>\n",
              "  </svg>\n",
              "      </button>\n",
              "      \n",
              "  <style>\n",
              "    .colab-df-container {\n",
              "      display:flex;\n",
              "      flex-wrap:wrap;\n",
              "      gap: 12px;\n",
              "    }\n",
              "\n",
              "    .colab-df-convert {\n",
              "      background-color: #E8F0FE;\n",
              "      border: none;\n",
              "      border-radius: 50%;\n",
              "      cursor: pointer;\n",
              "      display: none;\n",
              "      fill: #1967D2;\n",
              "      height: 32px;\n",
              "      padding: 0 0 0 0;\n",
              "      width: 32px;\n",
              "    }\n",
              "\n",
              "    .colab-df-convert:hover {\n",
              "      background-color: #E2EBFA;\n",
              "      box-shadow: 0px 1px 2px rgba(60, 64, 67, 0.3), 0px 1px 3px 1px rgba(60, 64, 67, 0.15);\n",
              "      fill: #174EA6;\n",
              "    }\n",
              "\n",
              "    [theme=dark] .colab-df-convert {\n",
              "      background-color: #3B4455;\n",
              "      fill: #D2E3FC;\n",
              "    }\n",
              "\n",
              "    [theme=dark] .colab-df-convert:hover {\n",
              "      background-color: #434B5C;\n",
              "      box-shadow: 0px 1px 3px 1px rgba(0, 0, 0, 0.15);\n",
              "      filter: drop-shadow(0px 1px 2px rgba(0, 0, 0, 0.3));\n",
              "      fill: #FFFFFF;\n",
              "    }\n",
              "  </style>\n",
              "\n",
              "      <script>\n",
              "        const buttonEl =\n",
              "          document.querySelector('#df-4f670f16-2c7b-4ba0-be78-51c3dfda8f00 button.colab-df-convert');\n",
              "        buttonEl.style.display =\n",
              "          google.colab.kernel.accessAllowed ? 'block' : 'none';\n",
              "\n",
              "        async function convertToInteractive(key) {\n",
              "          const element = document.querySelector('#df-4f670f16-2c7b-4ba0-be78-51c3dfda8f00');\n",
              "          const dataTable =\n",
              "            await google.colab.kernel.invokeFunction('convertToInteractive',\n",
              "                                                     [key], {});\n",
              "          if (!dataTable) return;\n",
              "\n",
              "          const docLinkHtml = 'Like what you see? Visit the ' +\n",
              "            '<a target=\"_blank\" href=https://colab.research.google.com/notebooks/data_table.ipynb>data table notebook</a>'\n",
              "            + ' to learn more about interactive tables.';\n",
              "          element.innerHTML = '';\n",
              "          dataTable['output_type'] = 'display_data';\n",
              "          await google.colab.output.renderOutput(dataTable, element);\n",
              "          const docLink = document.createElement('div');\n",
              "          docLink.innerHTML = docLinkHtml;\n",
              "          element.appendChild(docLink);\n",
              "        }\n",
              "      </script>\n",
              "    </div>\n",
              "  </div>\n",
              "  "
            ]
          },
          "metadata": {},
          "execution_count": 7
        }
      ]
    },
    {
      "cell_type": "code",
      "source": [
        "# Check dataset shape (rows number, columns number)\n",
        "train_df.shape"
      ],
      "metadata": {
        "colab": {
          "base_uri": "https://localhost:8080/"
        },
        "id": "h9Cx-kKXwcrx",
        "outputId": "a6a204af-4e12-4281-ce4c-9a1f496292b0"
      },
      "execution_count": 8,
      "outputs": [
        {
          "output_type": "execute_result",
          "data": {
            "text/plain": [
              "(7613, 5)"
            ]
          },
          "metadata": {},
          "execution_count": 8
        }
      ]
    },
    {
      "cell_type": "code",
      "source": [
        "test_df.shape"
      ],
      "metadata": {
        "colab": {
          "base_uri": "https://localhost:8080/"
        },
        "id": "QhDRwlwt4IxY",
        "outputId": "0da067b8-fa9d-4d14-dfa5-6a0a4f0c030f"
      },
      "execution_count": 9,
      "outputs": [
        {
          "output_type": "execute_result",
          "data": {
            "text/plain": [
              "(3263, 4)"
            ]
          },
          "metadata": {},
          "execution_count": 9
        }
      ]
    },
    {
      "cell_type": "code",
      "source": [
        "test_df.columns"
      ],
      "metadata": {
        "colab": {
          "base_uri": "https://localhost:8080/"
        },
        "id": "jdkkQU8g4La_",
        "outputId": "b738095d-9b9f-4ad2-9f51-b41fc3349a70"
      },
      "execution_count": 10,
      "outputs": [
        {
          "output_type": "execute_result",
          "data": {
            "text/plain": [
              "Index(['id', 'keyword', 'location', 'text'], dtype='object')"
            ]
          },
          "metadata": {},
          "execution_count": 10
        }
      ]
    },
    {
      "cell_type": "code",
      "source": [
        "# Check dataset columns names\n",
        "train_df.columns"
      ],
      "metadata": {
        "colab": {
          "base_uri": "https://localhost:8080/"
        },
        "id": "nBjKdwESwcuk",
        "outputId": "c3f07f4c-b6d2-472c-9e36-d1b084d3526b"
      },
      "execution_count": 11,
      "outputs": [
        {
          "output_type": "execute_result",
          "data": {
            "text/plain": [
              "Index(['id', 'keyword', 'location', 'text', 'target'], dtype='object')"
            ]
          },
          "metadata": {},
          "execution_count": 11
        }
      ]
    },
    {
      "cell_type": "code",
      "source": [
        "# Check dataset null values\n",
        "train_df.isnull().sum()"
      ],
      "metadata": {
        "colab": {
          "base_uri": "https://localhost:8080/"
        },
        "id": "kj_I9dUl3cMq",
        "outputId": "17bc3685-5dcc-4031-ffca-973037dda112"
      },
      "execution_count": 12,
      "outputs": [
        {
          "output_type": "execute_result",
          "data": {
            "text/plain": [
              "id             0\n",
              "keyword       61\n",
              "location    2533\n",
              "text           0\n",
              "target         0\n",
              "dtype: int64"
            ]
          },
          "metadata": {},
          "execution_count": 12
        }
      ]
    },
    {
      "cell_type": "code",
      "source": [
        "train_df.describe()"
      ],
      "metadata": {
        "colab": {
          "base_uri": "https://localhost:8080/",
          "height": 300
        },
        "id": "aiJV2Qxv3i8I",
        "outputId": "d9415812-a6e0-4626-8b6d-dfd4d4ee5799"
      },
      "execution_count": 13,
      "outputs": [
        {
          "output_type": "execute_result",
          "data": {
            "text/plain": [
              "                 id      target\n",
              "count   7613.000000  7613.00000\n",
              "mean    5441.934848     0.42966\n",
              "std     3137.116090     0.49506\n",
              "min        1.000000     0.00000\n",
              "25%     2734.000000     0.00000\n",
              "50%     5408.000000     0.00000\n",
              "75%     8146.000000     1.00000\n",
              "max    10873.000000     1.00000"
            ],
            "text/html": [
              "\n",
              "  <div id=\"df-8fff530c-d208-42cd-83df-9e0a0117d3cf\">\n",
              "    <div class=\"colab-df-container\">\n",
              "      <div>\n",
              "<style scoped>\n",
              "    .dataframe tbody tr th:only-of-type {\n",
              "        vertical-align: middle;\n",
              "    }\n",
              "\n",
              "    .dataframe tbody tr th {\n",
              "        vertical-align: top;\n",
              "    }\n",
              "\n",
              "    .dataframe thead th {\n",
              "        text-align: right;\n",
              "    }\n",
              "</style>\n",
              "<table border=\"1\" class=\"dataframe\">\n",
              "  <thead>\n",
              "    <tr style=\"text-align: right;\">\n",
              "      <th></th>\n",
              "      <th>id</th>\n",
              "      <th>target</th>\n",
              "    </tr>\n",
              "  </thead>\n",
              "  <tbody>\n",
              "    <tr>\n",
              "      <th>count</th>\n",
              "      <td>7613.000000</td>\n",
              "      <td>7613.00000</td>\n",
              "    </tr>\n",
              "    <tr>\n",
              "      <th>mean</th>\n",
              "      <td>5441.934848</td>\n",
              "      <td>0.42966</td>\n",
              "    </tr>\n",
              "    <tr>\n",
              "      <th>std</th>\n",
              "      <td>3137.116090</td>\n",
              "      <td>0.49506</td>\n",
              "    </tr>\n",
              "    <tr>\n",
              "      <th>min</th>\n",
              "      <td>1.000000</td>\n",
              "      <td>0.00000</td>\n",
              "    </tr>\n",
              "    <tr>\n",
              "      <th>25%</th>\n",
              "      <td>2734.000000</td>\n",
              "      <td>0.00000</td>\n",
              "    </tr>\n",
              "    <tr>\n",
              "      <th>50%</th>\n",
              "      <td>5408.000000</td>\n",
              "      <td>0.00000</td>\n",
              "    </tr>\n",
              "    <tr>\n",
              "      <th>75%</th>\n",
              "      <td>8146.000000</td>\n",
              "      <td>1.00000</td>\n",
              "    </tr>\n",
              "    <tr>\n",
              "      <th>max</th>\n",
              "      <td>10873.000000</td>\n",
              "      <td>1.00000</td>\n",
              "    </tr>\n",
              "  </tbody>\n",
              "</table>\n",
              "</div>\n",
              "      <button class=\"colab-df-convert\" onclick=\"convertToInteractive('df-8fff530c-d208-42cd-83df-9e0a0117d3cf')\"\n",
              "              title=\"Convert this dataframe to an interactive table.\"\n",
              "              style=\"display:none;\">\n",
              "        \n",
              "  <svg xmlns=\"http://www.w3.org/2000/svg\" height=\"24px\"viewBox=\"0 0 24 24\"\n",
              "       width=\"24px\">\n",
              "    <path d=\"M0 0h24v24H0V0z\" fill=\"none\"/>\n",
              "    <path d=\"M18.56 5.44l.94 2.06.94-2.06 2.06-.94-2.06-.94-.94-2.06-.94 2.06-2.06.94zm-11 1L8.5 8.5l.94-2.06 2.06-.94-2.06-.94L8.5 2.5l-.94 2.06-2.06.94zm10 10l.94 2.06.94-2.06 2.06-.94-2.06-.94-.94-2.06-.94 2.06-2.06.94z\"/><path d=\"M17.41 7.96l-1.37-1.37c-.4-.4-.92-.59-1.43-.59-.52 0-1.04.2-1.43.59L10.3 9.45l-7.72 7.72c-.78.78-.78 2.05 0 2.83L4 21.41c.39.39.9.59 1.41.59.51 0 1.02-.2 1.41-.59l7.78-7.78 2.81-2.81c.8-.78.8-2.07 0-2.86zM5.41 20L4 18.59l7.72-7.72 1.47 1.35L5.41 20z\"/>\n",
              "  </svg>\n",
              "      </button>\n",
              "      \n",
              "  <style>\n",
              "    .colab-df-container {\n",
              "      display:flex;\n",
              "      flex-wrap:wrap;\n",
              "      gap: 12px;\n",
              "    }\n",
              "\n",
              "    .colab-df-convert {\n",
              "      background-color: #E8F0FE;\n",
              "      border: none;\n",
              "      border-radius: 50%;\n",
              "      cursor: pointer;\n",
              "      display: none;\n",
              "      fill: #1967D2;\n",
              "      height: 32px;\n",
              "      padding: 0 0 0 0;\n",
              "      width: 32px;\n",
              "    }\n",
              "\n",
              "    .colab-df-convert:hover {\n",
              "      background-color: #E2EBFA;\n",
              "      box-shadow: 0px 1px 2px rgba(60, 64, 67, 0.3), 0px 1px 3px 1px rgba(60, 64, 67, 0.15);\n",
              "      fill: #174EA6;\n",
              "    }\n",
              "\n",
              "    [theme=dark] .colab-df-convert {\n",
              "      background-color: #3B4455;\n",
              "      fill: #D2E3FC;\n",
              "    }\n",
              "\n",
              "    [theme=dark] .colab-df-convert:hover {\n",
              "      background-color: #434B5C;\n",
              "      box-shadow: 0px 1px 3px 1px rgba(0, 0, 0, 0.15);\n",
              "      filter: drop-shadow(0px 1px 2px rgba(0, 0, 0, 0.3));\n",
              "      fill: #FFFFFF;\n",
              "    }\n",
              "  </style>\n",
              "\n",
              "      <script>\n",
              "        const buttonEl =\n",
              "          document.querySelector('#df-8fff530c-d208-42cd-83df-9e0a0117d3cf button.colab-df-convert');\n",
              "        buttonEl.style.display =\n",
              "          google.colab.kernel.accessAllowed ? 'block' : 'none';\n",
              "\n",
              "        async function convertToInteractive(key) {\n",
              "          const element = document.querySelector('#df-8fff530c-d208-42cd-83df-9e0a0117d3cf');\n",
              "          const dataTable =\n",
              "            await google.colab.kernel.invokeFunction('convertToInteractive',\n",
              "                                                     [key], {});\n",
              "          if (!dataTable) return;\n",
              "\n",
              "          const docLinkHtml = 'Like what you see? Visit the ' +\n",
              "            '<a target=\"_blank\" href=https://colab.research.google.com/notebooks/data_table.ipynb>data table notebook</a>'\n",
              "            + ' to learn more about interactive tables.';\n",
              "          element.innerHTML = '';\n",
              "          dataTable['output_type'] = 'display_data';\n",
              "          await google.colab.output.renderOutput(dataTable, element);\n",
              "          const docLink = document.createElement('div');\n",
              "          docLink.innerHTML = docLinkHtml;\n",
              "          element.appendChild(docLink);\n",
              "        }\n",
              "      </script>\n",
              "    </div>\n",
              "  </div>\n",
              "  "
            ]
          },
          "metadata": {},
          "execution_count": 13
        }
      ]
    },
    {
      "cell_type": "code",
      "source": [
        "train_df.info()"
      ],
      "metadata": {
        "colab": {
          "base_uri": "https://localhost:8080/"
        },
        "id": "tX6Nz2jo30gg",
        "outputId": "81cda03f-54d2-49e0-9238-ebe045196422"
      },
      "execution_count": 14,
      "outputs": [
        {
          "output_type": "stream",
          "name": "stdout",
          "text": [
            "<class 'pandas.core.frame.DataFrame'>\n",
            "RangeIndex: 7613 entries, 0 to 7612\n",
            "Data columns (total 5 columns):\n",
            " #   Column    Non-Null Count  Dtype \n",
            "---  ------    --------------  ----- \n",
            " 0   id        7613 non-null   int64 \n",
            " 1   keyword   7552 non-null   object\n",
            " 2   location  5080 non-null   object\n",
            " 3   text      7613 non-null   object\n",
            " 4   target    7613 non-null   int64 \n",
            "dtypes: int64(2), object(3)\n",
            "memory usage: 297.5+ KB\n"
          ]
        }
      ]
    },
    {
      "cell_type": "code",
      "source": [
        "# View a sample of the dataframe\n",
        "train_df[\"text\"][0]"
      ],
      "metadata": {
        "colab": {
          "base_uri": "https://localhost:8080/",
          "height": 35
        },
        "id": "I6_CICiE34ry",
        "outputId": "17d5230c-dc01-4e15-f011-c7191ad476e9"
      },
      "execution_count": 15,
      "outputs": [
        {
          "output_type": "execute_result",
          "data": {
            "text/plain": [
              "'Our Deeds are the Reason of this #earthquake May ALLAH Forgive us all'"
            ],
            "application/vnd.google.colaboratory.intrinsic+json": {
              "type": "string"
            }
          },
          "metadata": {},
          "execution_count": 15
        }
      ]
    },
    {
      "cell_type": "code",
      "source": [
        "train_df[\"text\"][1]"
      ],
      "metadata": {
        "colab": {
          "base_uri": "https://localhost:8080/",
          "height": 35
        },
        "id": "7wviBhBa4ljj",
        "outputId": "8e4001fc-6ae8-4641-bcb5-f2c190db0ed3"
      },
      "execution_count": 16,
      "outputs": [
        {
          "output_type": "execute_result",
          "data": {
            "text/plain": [
              "'Forest fire near La Ronge Sask. Canada'"
            ],
            "application/vnd.google.colaboratory.intrinsic+json": {
              "type": "string"
            }
          },
          "metadata": {},
          "execution_count": 16
        }
      ]
    },
    {
      "cell_type": "code",
      "source": [
        "# Shuffle the dataset\n",
        "train_df_shuffled = train_df.sample(frac=1, random_state=42)\n",
        "train_df_shuffled.head()"
      ],
      "metadata": {
        "colab": {
          "base_uri": "https://localhost:8080/",
          "height": 206
        },
        "id": "IDdaXMZP4qAF",
        "outputId": "69651039-d26d-44cc-8c83-ad1152956248"
      },
      "execution_count": 17,
      "outputs": [
        {
          "output_type": "execute_result",
          "data": {
            "text/plain": [
              "        id      keyword               location  \\\n",
              "2644  3796  destruction                    NaN   \n",
              "2227  3185       deluge                    NaN   \n",
              "5448  7769       police                     UK   \n",
              "132    191   aftershock                    NaN   \n",
              "6845  9810       trauma  Montgomery County, MD   \n",
              "\n",
              "                                                   text  target  \n",
              "2644  So you have a new weapon that can cause un-ima...       1  \n",
              "2227  The f$&amp;@ing things I do for #GISHWHES Just...       0  \n",
              "5448  DT @georgegalloway: RT @Galloway4Mayor: ÛÏThe...       1  \n",
              "132   Aftershock back to school kick off was great. ...       0  \n",
              "6845  in response to trauma Children of Addicts deve...       0  "
            ],
            "text/html": [
              "\n",
              "  <div id=\"df-57e3ea0e-e1dc-4112-97db-e3ae483ac9be\">\n",
              "    <div class=\"colab-df-container\">\n",
              "      <div>\n",
              "<style scoped>\n",
              "    .dataframe tbody tr th:only-of-type {\n",
              "        vertical-align: middle;\n",
              "    }\n",
              "\n",
              "    .dataframe tbody tr th {\n",
              "        vertical-align: top;\n",
              "    }\n",
              "\n",
              "    .dataframe thead th {\n",
              "        text-align: right;\n",
              "    }\n",
              "</style>\n",
              "<table border=\"1\" class=\"dataframe\">\n",
              "  <thead>\n",
              "    <tr style=\"text-align: right;\">\n",
              "      <th></th>\n",
              "      <th>id</th>\n",
              "      <th>keyword</th>\n",
              "      <th>location</th>\n",
              "      <th>text</th>\n",
              "      <th>target</th>\n",
              "    </tr>\n",
              "  </thead>\n",
              "  <tbody>\n",
              "    <tr>\n",
              "      <th>2644</th>\n",
              "      <td>3796</td>\n",
              "      <td>destruction</td>\n",
              "      <td>NaN</td>\n",
              "      <td>So you have a new weapon that can cause un-ima...</td>\n",
              "      <td>1</td>\n",
              "    </tr>\n",
              "    <tr>\n",
              "      <th>2227</th>\n",
              "      <td>3185</td>\n",
              "      <td>deluge</td>\n",
              "      <td>NaN</td>\n",
              "      <td>The f$&amp;amp;@ing things I do for #GISHWHES Just...</td>\n",
              "      <td>0</td>\n",
              "    </tr>\n",
              "    <tr>\n",
              "      <th>5448</th>\n",
              "      <td>7769</td>\n",
              "      <td>police</td>\n",
              "      <td>UK</td>\n",
              "      <td>DT @georgegalloway: RT @Galloway4Mayor: ÛÏThe...</td>\n",
              "      <td>1</td>\n",
              "    </tr>\n",
              "    <tr>\n",
              "      <th>132</th>\n",
              "      <td>191</td>\n",
              "      <td>aftershock</td>\n",
              "      <td>NaN</td>\n",
              "      <td>Aftershock back to school kick off was great. ...</td>\n",
              "      <td>0</td>\n",
              "    </tr>\n",
              "    <tr>\n",
              "      <th>6845</th>\n",
              "      <td>9810</td>\n",
              "      <td>trauma</td>\n",
              "      <td>Montgomery County, MD</td>\n",
              "      <td>in response to trauma Children of Addicts deve...</td>\n",
              "      <td>0</td>\n",
              "    </tr>\n",
              "  </tbody>\n",
              "</table>\n",
              "</div>\n",
              "      <button class=\"colab-df-convert\" onclick=\"convertToInteractive('df-57e3ea0e-e1dc-4112-97db-e3ae483ac9be')\"\n",
              "              title=\"Convert this dataframe to an interactive table.\"\n",
              "              style=\"display:none;\">\n",
              "        \n",
              "  <svg xmlns=\"http://www.w3.org/2000/svg\" height=\"24px\"viewBox=\"0 0 24 24\"\n",
              "       width=\"24px\">\n",
              "    <path d=\"M0 0h24v24H0V0z\" fill=\"none\"/>\n",
              "    <path d=\"M18.56 5.44l.94 2.06.94-2.06 2.06-.94-2.06-.94-.94-2.06-.94 2.06-2.06.94zm-11 1L8.5 8.5l.94-2.06 2.06-.94-2.06-.94L8.5 2.5l-.94 2.06-2.06.94zm10 10l.94 2.06.94-2.06 2.06-.94-2.06-.94-.94-2.06-.94 2.06-2.06.94z\"/><path d=\"M17.41 7.96l-1.37-1.37c-.4-.4-.92-.59-1.43-.59-.52 0-1.04.2-1.43.59L10.3 9.45l-7.72 7.72c-.78.78-.78 2.05 0 2.83L4 21.41c.39.39.9.59 1.41.59.51 0 1.02-.2 1.41-.59l7.78-7.78 2.81-2.81c.8-.78.8-2.07 0-2.86zM5.41 20L4 18.59l7.72-7.72 1.47 1.35L5.41 20z\"/>\n",
              "  </svg>\n",
              "      </button>\n",
              "      \n",
              "  <style>\n",
              "    .colab-df-container {\n",
              "      display:flex;\n",
              "      flex-wrap:wrap;\n",
              "      gap: 12px;\n",
              "    }\n",
              "\n",
              "    .colab-df-convert {\n",
              "      background-color: #E8F0FE;\n",
              "      border: none;\n",
              "      border-radius: 50%;\n",
              "      cursor: pointer;\n",
              "      display: none;\n",
              "      fill: #1967D2;\n",
              "      height: 32px;\n",
              "      padding: 0 0 0 0;\n",
              "      width: 32px;\n",
              "    }\n",
              "\n",
              "    .colab-df-convert:hover {\n",
              "      background-color: #E2EBFA;\n",
              "      box-shadow: 0px 1px 2px rgba(60, 64, 67, 0.3), 0px 1px 3px 1px rgba(60, 64, 67, 0.15);\n",
              "      fill: #174EA6;\n",
              "    }\n",
              "\n",
              "    [theme=dark] .colab-df-convert {\n",
              "      background-color: #3B4455;\n",
              "      fill: #D2E3FC;\n",
              "    }\n",
              "\n",
              "    [theme=dark] .colab-df-convert:hover {\n",
              "      background-color: #434B5C;\n",
              "      box-shadow: 0px 1px 3px 1px rgba(0, 0, 0, 0.15);\n",
              "      filter: drop-shadow(0px 1px 2px rgba(0, 0, 0, 0.3));\n",
              "      fill: #FFFFFF;\n",
              "    }\n",
              "  </style>\n",
              "\n",
              "      <script>\n",
              "        const buttonEl =\n",
              "          document.querySelector('#df-57e3ea0e-e1dc-4112-97db-e3ae483ac9be button.colab-df-convert');\n",
              "        buttonEl.style.display =\n",
              "          google.colab.kernel.accessAllowed ? 'block' : 'none';\n",
              "\n",
              "        async function convertToInteractive(key) {\n",
              "          const element = document.querySelector('#df-57e3ea0e-e1dc-4112-97db-e3ae483ac9be');\n",
              "          const dataTable =\n",
              "            await google.colab.kernel.invokeFunction('convertToInteractive',\n",
              "                                                     [key], {});\n",
              "          if (!dataTable) return;\n",
              "\n",
              "          const docLinkHtml = 'Like what you see? Visit the ' +\n",
              "            '<a target=\"_blank\" href=https://colab.research.google.com/notebooks/data_table.ipynb>data table notebook</a>'\n",
              "            + ' to learn more about interactive tables.';\n",
              "          element.innerHTML = '';\n",
              "          dataTable['output_type'] = 'display_data';\n",
              "          await google.colab.output.renderOutput(dataTable, element);\n",
              "          const docLink = document.createElement('div');\n",
              "          docLink.innerHTML = docLinkHtml;\n",
              "          element.appendChild(docLink);\n",
              "        }\n",
              "      </script>\n",
              "    </div>\n",
              "  </div>\n",
              "  "
            ]
          },
          "metadata": {},
          "execution_count": 17
        }
      ]
    },
    {
      "cell_type": "code",
      "source": [
        "# How many examples of each class? Is the dataset balanced?\n",
        "train_df.target.value_counts()"
      ],
      "metadata": {
        "colab": {
          "base_uri": "https://localhost:8080/"
        },
        "id": "IuBXPv9i5Dmj",
        "outputId": "f88253ad-fe98-4404-dd8c-603474cbbed4"
      },
      "execution_count": 18,
      "outputs": [
        {
          "output_type": "execute_result",
          "data": {
            "text/plain": [
              "0    4342\n",
              "1    3271\n",
              "Name: target, dtype: int64"
            ]
          },
          "metadata": {},
          "execution_count": 18
        }
      ]
    },
    {
      "cell_type": "code",
      "source": [
        "# How many total samples?\n",
        "len(train_df), len(test_df)"
      ],
      "metadata": {
        "colab": {
          "base_uri": "https://localhost:8080/"
        },
        "id": "KX46EQTd5hHQ",
        "outputId": "0640436f-cb4a-425a-ce38-852f05f0bc4d"
      },
      "execution_count": 19,
      "outputs": [
        {
          "output_type": "execute_result",
          "data": {
            "text/plain": [
              "(7613, 3263)"
            ]
          },
          "metadata": {},
          "execution_count": 19
        }
      ]
    },
    {
      "cell_type": "code",
      "source": [
        "# Visualize some random training examples \n",
        "\n",
        "random_index = random.randint(0, len(train_df)-5)\n",
        "for row in train_df_shuffled[[\"text\", \"target\"]][random_index:random_index+5].itertuples():\n",
        "  _, text, target = row \n",
        "  print(f\"Target: {target}\", \"Real Disaster!\" if target > 0 else \"Not real disaster\")\n",
        "  print(f\"Text:\\n {text}\\n\")\n",
        "  print(\"---\\n\")\n"
      ],
      "metadata": {
        "colab": {
          "base_uri": "https://localhost:8080/"
        },
        "id": "5eoeQHPe6Cs4",
        "outputId": "0eee5bf5-aa17-4b60-9d02-768e1da1dd0a"
      },
      "execution_count": 20,
      "outputs": [
        {
          "output_type": "stream",
          "name": "stdout",
          "text": [
            "Target: 0 Not real disaster\n",
            "Text:\n",
            " U.S National Park Services Tonto National Forest: Stop the Annihilation of the Salt River Wild Horse... https://t.co/x2Wn7O2a3w via @Change\n",
            "\n",
            "---\n",
            "\n",
            "Target: 1 Real Disaster!\n",
            "Text:\n",
            " #Australia #News ; #Japan marks 70th anniversary of #Hiroshima atomic bombing  http://t.co/7aD0L7cgee READ MORE; http://t.co/hHzQl9tzNP\n",
            "\n",
            "---\n",
            "\n",
            "Target: 1 Real Disaster!\n",
            "Text:\n",
            " Came across this fire video not mine..enjoy..#fire #firemen #firetruck #emergency #rescue #911 #summertime #sirensÛ_ http://t.co/hcYAJsAcfJ\n",
            "\n",
            "---\n",
            "\n",
            "Target: 0 Not real disaster\n",
            "Text:\n",
            " New post: 'People are finally panicking about cable TV' http://t.co/pkfV8lkSlD\n",
            "\n",
            "---\n",
            "\n",
            "Target: 0 Not real disaster\n",
            "Text:\n",
            " @ellenfromnowon 7-speed nexus shifter å£9! (For community cargo bike?) http://t.co/rjPjBwVfck\n",
            "\n",
            "---\n",
            "\n"
          ]
        }
      ]
    },
    {
      "cell_type": "markdown",
      "source": [
        "### Split data into training and validation "
      ],
      "metadata": {
        "id": "VdQF4XVF8Hbh"
      }
    },
    {
      "cell_type": "code",
      "source": [
        "train_df_shuffled"
      ],
      "metadata": {
        "colab": {
          "base_uri": "https://localhost:8080/",
          "height": 468
        },
        "id": "rZ5k0Py-1Dn_",
        "outputId": "387f0c86-fb5e-43b2-c3fb-8634e0addeb9"
      },
      "execution_count": 21,
      "outputs": [
        {
          "output_type": "execute_result",
          "data": {
            "text/plain": [
              "         id       keyword                        location  \\\n",
              "2644   3796   destruction                             NaN   \n",
              "2227   3185        deluge                             NaN   \n",
              "5448   7769        police                              UK   \n",
              "132     191    aftershock                             NaN   \n",
              "6845   9810        trauma           Montgomery County, MD   \n",
              "...     ...           ...                             ...   \n",
              "5226   7470  obliteration                         Merica!   \n",
              "5390   7691         panic                             NaN   \n",
              "860    1242         blood                             NaN   \n",
              "7603  10862           NaN                             NaN   \n",
              "7270  10409     whirlwind  Stamford & Cork (& Shropshire)   \n",
              "\n",
              "                                                   text  target  \n",
              "2644  So you have a new weapon that can cause un-ima...       1  \n",
              "2227  The f$&amp;@ing things I do for #GISHWHES Just...       0  \n",
              "5448  DT @georgegalloway: RT @Galloway4Mayor: ÛÏThe...       1  \n",
              "132   Aftershock back to school kick off was great. ...       0  \n",
              "6845  in response to trauma Children of Addicts deve...       0  \n",
              "...                                                 ...     ...  \n",
              "5226  @Eganator2000 There aren't many Obliteration s...       0  \n",
              "5390  just had a panic attack bc I don't have enough...       0  \n",
              "860   Omron HEM-712C Automatic Blood Pressure Monito...       0  \n",
              "7603  Officials say a quarantine is in place at an A...       1  \n",
              "7270  I moved to England five years ago today. What ...       1  \n",
              "\n",
              "[7613 rows x 5 columns]"
            ],
            "text/html": [
              "\n",
              "  <div id=\"df-07a0cc9f-1a14-4097-a77a-ed7d94d685d8\">\n",
              "    <div class=\"colab-df-container\">\n",
              "      <div>\n",
              "<style scoped>\n",
              "    .dataframe tbody tr th:only-of-type {\n",
              "        vertical-align: middle;\n",
              "    }\n",
              "\n",
              "    .dataframe tbody tr th {\n",
              "        vertical-align: top;\n",
              "    }\n",
              "\n",
              "    .dataframe thead th {\n",
              "        text-align: right;\n",
              "    }\n",
              "</style>\n",
              "<table border=\"1\" class=\"dataframe\">\n",
              "  <thead>\n",
              "    <tr style=\"text-align: right;\">\n",
              "      <th></th>\n",
              "      <th>id</th>\n",
              "      <th>keyword</th>\n",
              "      <th>location</th>\n",
              "      <th>text</th>\n",
              "      <th>target</th>\n",
              "    </tr>\n",
              "  </thead>\n",
              "  <tbody>\n",
              "    <tr>\n",
              "      <th>2644</th>\n",
              "      <td>3796</td>\n",
              "      <td>destruction</td>\n",
              "      <td>NaN</td>\n",
              "      <td>So you have a new weapon that can cause un-ima...</td>\n",
              "      <td>1</td>\n",
              "    </tr>\n",
              "    <tr>\n",
              "      <th>2227</th>\n",
              "      <td>3185</td>\n",
              "      <td>deluge</td>\n",
              "      <td>NaN</td>\n",
              "      <td>The f$&amp;amp;@ing things I do for #GISHWHES Just...</td>\n",
              "      <td>0</td>\n",
              "    </tr>\n",
              "    <tr>\n",
              "      <th>5448</th>\n",
              "      <td>7769</td>\n",
              "      <td>police</td>\n",
              "      <td>UK</td>\n",
              "      <td>DT @georgegalloway: RT @Galloway4Mayor: ÛÏThe...</td>\n",
              "      <td>1</td>\n",
              "    </tr>\n",
              "    <tr>\n",
              "      <th>132</th>\n",
              "      <td>191</td>\n",
              "      <td>aftershock</td>\n",
              "      <td>NaN</td>\n",
              "      <td>Aftershock back to school kick off was great. ...</td>\n",
              "      <td>0</td>\n",
              "    </tr>\n",
              "    <tr>\n",
              "      <th>6845</th>\n",
              "      <td>9810</td>\n",
              "      <td>trauma</td>\n",
              "      <td>Montgomery County, MD</td>\n",
              "      <td>in response to trauma Children of Addicts deve...</td>\n",
              "      <td>0</td>\n",
              "    </tr>\n",
              "    <tr>\n",
              "      <th>...</th>\n",
              "      <td>...</td>\n",
              "      <td>...</td>\n",
              "      <td>...</td>\n",
              "      <td>...</td>\n",
              "      <td>...</td>\n",
              "    </tr>\n",
              "    <tr>\n",
              "      <th>5226</th>\n",
              "      <td>7470</td>\n",
              "      <td>obliteration</td>\n",
              "      <td>Merica!</td>\n",
              "      <td>@Eganator2000 There aren't many Obliteration s...</td>\n",
              "      <td>0</td>\n",
              "    </tr>\n",
              "    <tr>\n",
              "      <th>5390</th>\n",
              "      <td>7691</td>\n",
              "      <td>panic</td>\n",
              "      <td>NaN</td>\n",
              "      <td>just had a panic attack bc I don't have enough...</td>\n",
              "      <td>0</td>\n",
              "    </tr>\n",
              "    <tr>\n",
              "      <th>860</th>\n",
              "      <td>1242</td>\n",
              "      <td>blood</td>\n",
              "      <td>NaN</td>\n",
              "      <td>Omron HEM-712C Automatic Blood Pressure Monito...</td>\n",
              "      <td>0</td>\n",
              "    </tr>\n",
              "    <tr>\n",
              "      <th>7603</th>\n",
              "      <td>10862</td>\n",
              "      <td>NaN</td>\n",
              "      <td>NaN</td>\n",
              "      <td>Officials say a quarantine is in place at an A...</td>\n",
              "      <td>1</td>\n",
              "    </tr>\n",
              "    <tr>\n",
              "      <th>7270</th>\n",
              "      <td>10409</td>\n",
              "      <td>whirlwind</td>\n",
              "      <td>Stamford &amp; Cork (&amp; Shropshire)</td>\n",
              "      <td>I moved to England five years ago today. What ...</td>\n",
              "      <td>1</td>\n",
              "    </tr>\n",
              "  </tbody>\n",
              "</table>\n",
              "<p>7613 rows × 5 columns</p>\n",
              "</div>\n",
              "      <button class=\"colab-df-convert\" onclick=\"convertToInteractive('df-07a0cc9f-1a14-4097-a77a-ed7d94d685d8')\"\n",
              "              title=\"Convert this dataframe to an interactive table.\"\n",
              "              style=\"display:none;\">\n",
              "        \n",
              "  <svg xmlns=\"http://www.w3.org/2000/svg\" height=\"24px\"viewBox=\"0 0 24 24\"\n",
              "       width=\"24px\">\n",
              "    <path d=\"M0 0h24v24H0V0z\" fill=\"none\"/>\n",
              "    <path d=\"M18.56 5.44l.94 2.06.94-2.06 2.06-.94-2.06-.94-.94-2.06-.94 2.06-2.06.94zm-11 1L8.5 8.5l.94-2.06 2.06-.94-2.06-.94L8.5 2.5l-.94 2.06-2.06.94zm10 10l.94 2.06.94-2.06 2.06-.94-2.06-.94-.94-2.06-.94 2.06-2.06.94z\"/><path d=\"M17.41 7.96l-1.37-1.37c-.4-.4-.92-.59-1.43-.59-.52 0-1.04.2-1.43.59L10.3 9.45l-7.72 7.72c-.78.78-.78 2.05 0 2.83L4 21.41c.39.39.9.59 1.41.59.51 0 1.02-.2 1.41-.59l7.78-7.78 2.81-2.81c.8-.78.8-2.07 0-2.86zM5.41 20L4 18.59l7.72-7.72 1.47 1.35L5.41 20z\"/>\n",
              "  </svg>\n",
              "      </button>\n",
              "      \n",
              "  <style>\n",
              "    .colab-df-container {\n",
              "      display:flex;\n",
              "      flex-wrap:wrap;\n",
              "      gap: 12px;\n",
              "    }\n",
              "\n",
              "    .colab-df-convert {\n",
              "      background-color: #E8F0FE;\n",
              "      border: none;\n",
              "      border-radius: 50%;\n",
              "      cursor: pointer;\n",
              "      display: none;\n",
              "      fill: #1967D2;\n",
              "      height: 32px;\n",
              "      padding: 0 0 0 0;\n",
              "      width: 32px;\n",
              "    }\n",
              "\n",
              "    .colab-df-convert:hover {\n",
              "      background-color: #E2EBFA;\n",
              "      box-shadow: 0px 1px 2px rgba(60, 64, 67, 0.3), 0px 1px 3px 1px rgba(60, 64, 67, 0.15);\n",
              "      fill: #174EA6;\n",
              "    }\n",
              "\n",
              "    [theme=dark] .colab-df-convert {\n",
              "      background-color: #3B4455;\n",
              "      fill: #D2E3FC;\n",
              "    }\n",
              "\n",
              "    [theme=dark] .colab-df-convert:hover {\n",
              "      background-color: #434B5C;\n",
              "      box-shadow: 0px 1px 3px 1px rgba(0, 0, 0, 0.15);\n",
              "      filter: drop-shadow(0px 1px 2px rgba(0, 0, 0, 0.3));\n",
              "      fill: #FFFFFF;\n",
              "    }\n",
              "  </style>\n",
              "\n",
              "      <script>\n",
              "        const buttonEl =\n",
              "          document.querySelector('#df-07a0cc9f-1a14-4097-a77a-ed7d94d685d8 button.colab-df-convert');\n",
              "        buttonEl.style.display =\n",
              "          google.colab.kernel.accessAllowed ? 'block' : 'none';\n",
              "\n",
              "        async function convertToInteractive(key) {\n",
              "          const element = document.querySelector('#df-07a0cc9f-1a14-4097-a77a-ed7d94d685d8');\n",
              "          const dataTable =\n",
              "            await google.colab.kernel.invokeFunction('convertToInteractive',\n",
              "                                                     [key], {});\n",
              "          if (!dataTable) return;\n",
              "\n",
              "          const docLinkHtml = 'Like what you see? Visit the ' +\n",
              "            '<a target=\"_blank\" href=https://colab.research.google.com/notebooks/data_table.ipynb>data table notebook</a>'\n",
              "            + ' to learn more about interactive tables.';\n",
              "          element.innerHTML = '';\n",
              "          dataTable['output_type'] = 'display_data';\n",
              "          await google.colab.output.renderOutput(dataTable, element);\n",
              "          const docLink = document.createElement('div');\n",
              "          docLink.innerHTML = docLinkHtml;\n",
              "          element.appendChild(docLink);\n",
              "        }\n",
              "      </script>\n",
              "    </div>\n",
              "  </div>\n",
              "  "
            ]
          },
          "metadata": {},
          "execution_count": 21
        }
      ]
    },
    {
      "cell_type": "code",
      "source": [
        "train_tweets, val_tweets, train_labels, val_labels = train_test_split(train_df_shuffled[\"text\"].to_numpy(),\n",
        "                                                                      train_df_shuffled[\"target\"].to_numpy(),\n",
        "                                                                      test_size=0.2,# Use 20% of training data for validation split \n",
        "                                                                      random_state=42)\n"
      ],
      "metadata": {
        "id": "jWgb9GIl0ave"
      },
      "execution_count": 22,
      "outputs": []
    },
    {
      "cell_type": "code",
      "source": [
        "len(train_tweets), len(train_labels), len(val_tweets), len(val_labels)"
      ],
      "metadata": {
        "colab": {
          "base_uri": "https://localhost:8080/"
        },
        "id": "DvJb6kqC1sA-",
        "outputId": "7c998b78-b517-426a-8825-22c75fec9a39"
      },
      "execution_count": 23,
      "outputs": [
        {
          "output_type": "execute_result",
          "data": {
            "text/plain": [
              "(6090, 6090, 1523, 1523)"
            ]
          },
          "metadata": {},
          "execution_count": 23
        }
      ]
    },
    {
      "cell_type": "code",
      "source": [
        "# Check the first 10 samples\n",
        "train_tweets[:10], train_labels[:10]"
      ],
      "metadata": {
        "colab": {
          "base_uri": "https://localhost:8080/"
        },
        "id": "GacuXf7L12B1",
        "outputId": "3b8d3590-b555-4d53-954e-18ec1fbb09dd"
      },
      "execution_count": 24,
      "outputs": [
        {
          "output_type": "execute_result",
          "data": {
            "text/plain": [
              "(array(['Detonation fashionable mountaineering electronic watch water-resistant couples leisure tab\\x89Û_ http://t.co/E61x9Y65QD http://t.co/OVLET0gDqm',\n",
              "        \"Men escape car engulfed in flames in Parley's Canyon crews investigating cause - http://t.co/tFan6qq2Ys http://t.co/rAkwWritPo\",\n",
              "        'I-77 Mile Marker 31 to 40 South Mooresville  Iredell Vehicle Accident Congestion at 8/6 1:18 PM',\n",
              "        \"#Greece's tax revenues collapse as debt crisis continues via @guardian #bailout http://t.co/cJvbQXw83s ^mp\",\n",
              "        'Be not afraid of sudden fear neither of the desolation of the wicked when it cometh. For the Lord shall be thy... http://t.co/bP597YDs2b',\n",
              "        'Storm batters Auckland and Northland: A violent overnight storm has battered Auckland and Northland uprooting... http://t.co/enrPGRgtTs',\n",
              "        \"Benzema increasingly looks to be a casualty of Benitez's new look squad. Arsenal bound? 50-50 chance I think\",\n",
              "        'Acquire your postexistence straight a elevation in addition to upheaval ideas yet perquisite: bRZjc',\n",
              "        \"@NeanderRebel If you take the suit off him I wouldn't be surprised to hear this is the face that belonged to another democrat mass-murderer\",\n",
              "        'kc5kH mhtw4fnet\\n\\nCrews gaining on huge Northern California wildfire - CBS News'],\n",
              "       dtype=object), array([0, 1, 1, 1, 0, 1, 1, 0, 1, 1]))"
            ]
          },
          "metadata": {},
          "execution_count": 24
        }
      ]
    },
    {
      "cell_type": "code",
      "source": [
        "# Check the first two samples\n",
        "train_tweets[:2], train_labels[:2]"
      ],
      "metadata": {
        "id": "M7Uhooyq2Dy-",
        "colab": {
          "base_uri": "https://localhost:8080/"
        },
        "outputId": "57d19804-b165-4779-d736-9516bc219f3a"
      },
      "execution_count": 25,
      "outputs": [
        {
          "output_type": "execute_result",
          "data": {
            "text/plain": [
              "(array(['Detonation fashionable mountaineering electronic watch water-resistant couples leisure tab\\x89Û_ http://t.co/E61x9Y65QD http://t.co/OVLET0gDqm',\n",
              "        \"Men escape car engulfed in flames in Parley's Canyon crews investigating cause - http://t.co/tFan6qq2Ys http://t.co/rAkwWritPo\"],\n",
              "       dtype=object), array([0, 1]))"
            ]
          },
          "metadata": {},
          "execution_count": 25
        }
      ]
    },
    {
      "cell_type": "markdown",
      "source": [
        "## Converting text into numbers\n",
        "\n",
        "When dealing with a text problem, one of the first things you'll have to do before you can build a model is to convert your text to numbers.\n",
        "\n",
        "There are a few ways to do this, namely:\n",
        "* Tokenziation - direct mapping of token (a token could be a word or a character) to number\n",
        "* Embedding - create a matrix of feature vector for each token (the size of the feature vector can be defined and this embedding can be learned)"
      ],
      "metadata": {
        "id": "aff-kfBsrCvB"
      }
    },
    {
      "cell_type": "markdown",
      "source": [
        "### Text vectorization (tokenization)"
      ],
      "metadata": {
        "id": "-27i7P-srR7R"
      }
    },
    {
      "cell_type": "code",
      "source": [
        "train_tweets[:5]"
      ],
      "metadata": {
        "colab": {
          "base_uri": "https://localhost:8080/"
        },
        "id": "Ox9s2d2VrR-Y",
        "outputId": "ab72e522-a91b-4c66-aad4-ffcfaa32fbee"
      },
      "execution_count": 26,
      "outputs": [
        {
          "output_type": "execute_result",
          "data": {
            "text/plain": [
              "array(['Detonation fashionable mountaineering electronic watch water-resistant couples leisure tab\\x89Û_ http://t.co/E61x9Y65QD http://t.co/OVLET0gDqm',\n",
              "       \"Men escape car engulfed in flames in Parley's Canyon crews investigating cause - http://t.co/tFan6qq2Ys http://t.co/rAkwWritPo\",\n",
              "       'I-77 Mile Marker 31 to 40 South Mooresville  Iredell Vehicle Accident Congestion at 8/6 1:18 PM',\n",
              "       \"#Greece's tax revenues collapse as debt crisis continues via @guardian #bailout http://t.co/cJvbQXw83s ^mp\",\n",
              "       'Be not afraid of sudden fear neither of the desolation of the wicked when it cometh. For the Lord shall be thy... http://t.co/bP597YDs2b'],\n",
              "      dtype=object)"
            ]
          },
          "metadata": {},
          "execution_count": 26
        }
      ]
    },
    {
      "cell_type": "code",
      "source": [
        "# # Use the default TextVectorization parameters\n",
        "text_vectorizer = tf.keras.layers.TextVectorization(\n",
        "    max_tokens=None, # how many words in the vocabulary (automatically add <OOV>)\n",
        "    standardize='lower_and_strip_punctuation',\n",
        "    split='whitespace',\n",
        "    ngrams=None, # create groups of n-words?\n",
        "    output_mode='int', # how to map tokens to numbers\n",
        "    output_sequence_length=None,  # how long do you want your sequences to be?\n",
        "    pad_to_max_tokens=False,\n",
        "    vocabulary=None,\n",
        "    idf_weights=None,\n",
        "    sparse=False,\n",
        "    ragged=False,\n",
        ")"
      ],
      "metadata": {
        "id": "QVbiCFDrrSBj"
      },
      "execution_count": 27,
      "outputs": []
    },
    {
      "cell_type": "code",
      "source": [
        "print(train_tweets[0].split())\n",
        "print(len(train_tweets[0].split()))"
      ],
      "metadata": {
        "colab": {
          "base_uri": "https://localhost:8080/"
        },
        "id": "idZLQ2yRySxW",
        "outputId": "7660a103-6859-4e14-d870-b91b7a80d150"
      },
      "execution_count": 28,
      "outputs": [
        {
          "output_type": "stream",
          "name": "stdout",
          "text": [
            "['Detonation', 'fashionable', 'mountaineering', 'electronic', 'watch', 'water-resistant', 'couples', 'leisure', 'tab\\x89Û_', 'http://t.co/E61x9Y65QD', 'http://t.co/OVLET0gDqm']\n",
            "11\n"
          ]
        }
      ]
    },
    {
      "cell_type": "code",
      "source": [
        "# Find the average number of tokens (words) in the training tweets\n",
        "round(sum([len(i.split()) for i in train_tweets])/len(train_tweets))"
      ],
      "metadata": {
        "colab": {
          "base_uri": "https://localhost:8080/"
        },
        "id": "LbbVu1iDrSEX",
        "outputId": "1bf7b16b-75cc-4676-cf02-d5b29d81d18e"
      },
      "execution_count": 29,
      "outputs": [
        {
          "output_type": "execute_result",
          "data": {
            "text/plain": [
              "15"
            ]
          },
          "metadata": {},
          "execution_count": 29
        }
      ]
    },
    {
      "cell_type": "code",
      "source": [
        "# Setup text vectorization variables\n",
        "max_vocab_length = 10000 # max number of words to have in our vocabulary\n",
        "max_length = 15 # max length our sequences will be (e.g. how many words from a Tweet does a model see?)\n",
        "\n",
        "text_vectorizer = TextVectorization(max_tokens=max_vocab_length,\n",
        "                                    output_mode=\"int\",\n",
        "                                    output_sequence_length=max_length)"
      ],
      "metadata": {
        "id": "F5Yypf2nrSG5"
      },
      "execution_count": 30,
      "outputs": []
    },
    {
      "cell_type": "code",
      "source": [
        "text_vectorizer"
      ],
      "metadata": {
        "colab": {
          "base_uri": "https://localhost:8080/"
        },
        "id": "8EE5zAqKpAUb",
        "outputId": "449b58d3-2aea-46c0-996b-bc6c3d981796"
      },
      "execution_count": 31,
      "outputs": [
        {
          "output_type": "execute_result",
          "data": {
            "text/plain": [
              "<keras.layers.preprocessing.text_vectorization.TextVectorization at 0x7f82c05a1e10>"
            ]
          },
          "metadata": {},
          "execution_count": 31
        }
      ]
    },
    {
      "cell_type": "markdown",
      "source": [
        "To map our `TextVectorization` instance `text_vectorizer` to our data, we can call the `adapt()` method on it whilst passing it our training text."
      ],
      "metadata": {
        "id": "qUwfl9cJrSO9"
      }
    },
    {
      "cell_type": "code",
      "source": [
        "train_tweets[:10], train_labels[:10]"
      ],
      "metadata": {
        "colab": {
          "base_uri": "https://localhost:8080/"
        },
        "id": "Kn6lILYbpVy0",
        "outputId": "8f2cfb14-78fc-4016-9787-b4fc355f10f8"
      },
      "execution_count": 32,
      "outputs": [
        {
          "output_type": "execute_result",
          "data": {
            "text/plain": [
              "(array(['Detonation fashionable mountaineering electronic watch water-resistant couples leisure tab\\x89Û_ http://t.co/E61x9Y65QD http://t.co/OVLET0gDqm',\n",
              "        \"Men escape car engulfed in flames in Parley's Canyon crews investigating cause - http://t.co/tFan6qq2Ys http://t.co/rAkwWritPo\",\n",
              "        'I-77 Mile Marker 31 to 40 South Mooresville  Iredell Vehicle Accident Congestion at 8/6 1:18 PM',\n",
              "        \"#Greece's tax revenues collapse as debt crisis continues via @guardian #bailout http://t.co/cJvbQXw83s ^mp\",\n",
              "        'Be not afraid of sudden fear neither of the desolation of the wicked when it cometh. For the Lord shall be thy... http://t.co/bP597YDs2b',\n",
              "        'Storm batters Auckland and Northland: A violent overnight storm has battered Auckland and Northland uprooting... http://t.co/enrPGRgtTs',\n",
              "        \"Benzema increasingly looks to be a casualty of Benitez's new look squad. Arsenal bound? 50-50 chance I think\",\n",
              "        'Acquire your postexistence straight a elevation in addition to upheaval ideas yet perquisite: bRZjc',\n",
              "        \"@NeanderRebel If you take the suit off him I wouldn't be surprised to hear this is the face that belonged to another democrat mass-murderer\",\n",
              "        'kc5kH mhtw4fnet\\n\\nCrews gaining on huge Northern California wildfire - CBS News'],\n",
              "       dtype=object), array([0, 1, 1, 1, 0, 1, 1, 0, 1, 1]))"
            ]
          },
          "metadata": {},
          "execution_count": 32
        }
      ]
    },
    {
      "cell_type": "code",
      "source": [
        "# Fit the text vectorizer to the training text\n",
        "text_vectorizer.adapt(train_tweets)"
      ],
      "metadata": {
        "id": "pTZFIxdDpEt7"
      },
      "execution_count": 33,
      "outputs": []
    },
    {
      "cell_type": "markdown",
      "source": [
        "Training data mapped! Let's try our `text_vectorizer` on a custom sentence (one similar to what you might see in the training data)."
      ],
      "metadata": {
        "id": "QckFIse3pmtE"
      }
    },
    {
      "cell_type": "code",
      "source": [
        "max_length"
      ],
      "metadata": {
        "colab": {
          "base_uri": "https://localhost:8080/"
        },
        "id": "ZVNTTeuWqO5X",
        "outputId": "d61276d8-f174-4254-e35d-f1bf093c9b24"
      },
      "execution_count": 34,
      "outputs": [
        {
          "output_type": "execute_result",
          "data": {
            "text/plain": [
              "15"
            ]
          },
          "metadata": {},
          "execution_count": 34
        }
      ]
    },
    {
      "cell_type": "code",
      "source": [
        "# Create sample tweet and tokenize it\n",
        "sample_tweet = \"There is a heavy flood in Jeddah city this morning!\"\n",
        "text_vectorizer([sample_tweet])"
      ],
      "metadata": {
        "colab": {
          "base_uri": "https://localhost:8080/"
        },
        "id": "sVGHr9Obpt8b",
        "outputId": "749e2b7b-70ad-44b3-9cf6-878414669f84"
      },
      "execution_count": 35,
      "outputs": [
        {
          "output_type": "execute_result",
          "data": {
            "text/plain": [
              "<tf.Tensor: shape=(1, 15), dtype=int64, numpy=\n",
              "array([[  75,    9,    3,  911,  229,    4,    1,  178,   19, 1089,    0,\n",
              "           0,    0,    0,    0]])>"
            ]
          },
          "metadata": {},
          "execution_count": 35
        }
      ]
    },
    {
      "cell_type": "markdown",
      "source": [
        "Wonderful, it seems we've got a way to turn our text into numbers (in this case, word-level tokenization). Notice the 0's at the end of the returned tensor, this is because we set `output_sequence_length=15`, meaning no matter the size of the sequence we pass to `text_vectorizer`, it always returns a sequence with a length of 15.\n",
        "\n",
        "How about we try our `text_vectorizer` on a few random sentences?"
      ],
      "metadata": {
        "id": "4_RKIwWUpt_q"
      }
    },
    {
      "cell_type": "code",
      "source": [
        "# Choose a random tweet from the training dataset and tokenize it\n",
        "random_tweet = random.choice(train_tweets)\n",
        "print(f\"Original tweet:\\n{random_tweet}\\\n",
        "      \\n\\nVectorized version:\")\n",
        "text_vectorizer([random_tweet])\n"
      ],
      "metadata": {
        "colab": {
          "base_uri": "https://localhost:8080/"
        },
        "id": "-lDgrkZlpuDE",
        "outputId": "cd19aec4-87d5-440b-f4af-3f4f8c6607f9"
      },
      "execution_count": 36,
      "outputs": [
        {
          "output_type": "stream",
          "name": "stdout",
          "text": [
            "Original tweet:\n",
            "@kakajambori ??\n",
            "U control the future of india..\n",
            "Yor Subject: Exploration or seismic Maintenance( Electrical or Mechanical)      \n",
            "\n",
            "Vectorized version:\n"
          ]
        },
        {
          "output_type": "execute_result",
          "data": {
            "text/plain": [
              "<tf.Tensor: shape=(1, 15), dtype=int64, numpy=\n",
              "array([[   1,  144,  710,    2, 1102,    6,  565, 6037, 2109, 1542,   53,\n",
              "         649, 3381, 2296,   53]])>"
            ]
          },
          "metadata": {},
          "execution_count": 36
        }
      ]
    },
    {
      "cell_type": "markdown",
      "source": [
        "We can also check the unique tokens in our vocabulary using the `get_vocabulary()` method."
      ],
      "metadata": {
        "id": "IFYLF4dWrqSD"
      }
    },
    {
      "cell_type": "code",
      "source": [
        "# Get the unique words in the vocabulary\n",
        "words_in_vocab = text_vectorizer.get_vocabulary() # Get all of the unique words in our training data\n"
      ],
      "metadata": {
        "id": "iny_3Lv-sfKW"
      },
      "execution_count": 37,
      "outputs": []
    },
    {
      "cell_type": "code",
      "source": [
        "# Get the most common words \n",
        "words_in_vocab[:10]"
      ],
      "metadata": {
        "colab": {
          "base_uri": "https://localhost:8080/"
        },
        "id": "tYuy_0AmsfNb",
        "outputId": "55df2cba-03e0-4253-f7f3-725556d66d18"
      },
      "execution_count": 38,
      "outputs": [
        {
          "output_type": "execute_result",
          "data": {
            "text/plain": [
              "['', '[UNK]', 'the', 'a', 'in', 'to', 'of', 'and', 'i', 'is']"
            ]
          },
          "metadata": {},
          "execution_count": 38
        }
      ]
    },
    {
      "cell_type": "code",
      "source": [
        "# How many words in our vocabulary\n",
        "len(words_in_vocab)"
      ],
      "metadata": {
        "colab": {
          "base_uri": "https://localhost:8080/"
        },
        "id": "_XBI6cZwtiaA",
        "outputId": "687f527c-6ee8-4c5c-b7cf-ab3fd2387d50"
      },
      "execution_count": 39,
      "outputs": [
        {
          "output_type": "execute_result",
          "data": {
            "text/plain": [
              "10000"
            ]
          },
          "metadata": {},
          "execution_count": 39
        }
      ]
    },
    {
      "cell_type": "code",
      "source": [
        "# Get the most common words\n",
        "top_5_words = words_in_vocab[:5]\n",
        "top_5_words\n"
      ],
      "metadata": {
        "colab": {
          "base_uri": "https://localhost:8080/"
        },
        "id": "xi7Kl5I2s5-y",
        "outputId": "88507460-3265-4c51-e964-ab8e7abc0fd0"
      },
      "execution_count": 40,
      "outputs": [
        {
          "output_type": "execute_result",
          "data": {
            "text/plain": [
              "['', '[UNK]', 'the', 'a', 'in']"
            ]
          },
          "metadata": {},
          "execution_count": 40
        }
      ]
    },
    {
      "cell_type": "code",
      "source": [
        "# Get the least common words\n",
        "bottom_5_words = words_in_vocab[-5:]\n",
        "bottom_5_words"
      ],
      "metadata": {
        "colab": {
          "base_uri": "https://localhost:8080/"
        },
        "id": "_9_7sW2XtGEx",
        "outputId": "c376a9a0-3e4d-40a4-ac57-1cdd1077242a"
      },
      "execution_count": 41,
      "outputs": [
        {
          "output_type": "execute_result",
          "data": {
            "text/plain": [
              "['minded', 'mindblowing', 'milne', 'milledgeville', 'millcityio']"
            ]
          },
          "metadata": {},
          "execution_count": 41
        }
      ]
    },
    {
      "cell_type": "code",
      "source": [
        "print(f\"Number of words in vocab: {len(words_in_vocab)}\")\n",
        "print(f\"Top 5 most common words: {top_5_words}\") \n",
        "print(f\"Bottom 5 least common words: {bottom_5_words}\")"
      ],
      "metadata": {
        "colab": {
          "base_uri": "https://localhost:8080/"
        },
        "id": "JeBSAW5ltfLF",
        "outputId": "bca9f513-479c-4fd3-e256-61225f1ae83b"
      },
      "execution_count": 42,
      "outputs": [
        {
          "output_type": "stream",
          "name": "stdout",
          "text": [
            "Number of words in vocab: 10000\n",
            "Top 5 most common words: ['', '[UNK]', 'the', 'a', 'in']\n",
            "Bottom 5 least common words: ['minded', 'mindblowing', 'milne', 'milledgeville', 'millcityio']\n"
          ]
        }
      ]
    },
    {
      "cell_type": "markdown",
      "source": [
        "### Creating an Embedding using an Embedding Layer\n",
        "\n",
        "We've got a way to map our text to numbers. How about we go a step further and turn those numbers into an embedding?\n",
        "\n",
        "The powerful thing about an embedding is it can be learned during training. This means rather than just being static (e.g. `1` = I, `2` = love, `3` = TensorFlow), a word's numeric representation can be improved as a model goes through data samples.\n",
        "\n",
        "We can see what an embedding of a word looks like by using the [`tf.keras.layers.Embedding`](https://www.tensorflow.org/api_docs/python/tf/keras/layers/Embedding) layer. \n",
        "\n",
        "The main parameters we're concerned about here are:\n",
        "* `input_dim` - The size of the vocabulary (e.g. `len(text_vectorizer.get_vocabulary()`).\n",
        "* `output_dim` - The size of the output embedding vector, for example, a value of `100` outputs a  feature vector of size 100 for each word.\n",
        "* `embeddings_initializer` - How to initialize the embeddings matrix, default is `\"uniform\"` which randomly initalizes embedding matrix with uniform distribution. This can be changed for using pre-learned embeddings.\n",
        "* `input_length` - Length of sequences being passed to embedding layer.\n",
        "\n",
        "Knowing these, let's make an embedding layer."
      ],
      "metadata": {
        "id": "B6O_BtaItz7v"
      }
    },
    {
      "cell_type": "code",
      "source": [
        "# Check \n",
        "max_vocab_length, max_length"
      ],
      "metadata": {
        "colab": {
          "base_uri": "https://localhost:8080/"
        },
        "id": "RSnOqFf5A5LN",
        "outputId": "e9e4b8c7-0d83-4f4b-f60d-385a2d515e38"
      },
      "execution_count": 43,
      "outputs": [
        {
          "output_type": "execute_result",
          "data": {
            "text/plain": [
              "(10000, 15)"
            ]
          },
          "metadata": {},
          "execution_count": 43
        }
      ]
    },
    {
      "cell_type": "code",
      "source": [
        "# Create a TensorFlow Embedding Layer\n",
        "embedding = layers.Embedding(input_dim=max_vocab_length, # input shape\n",
        "                             output_dim=128, # output shape (preferably a number that is divisable by 8. e.g. 128/8=16.0,32/8=4.0)\n",
        "                             embeddings_initializer=\"uniform\",\n",
        "                             input_length=max_length) # how long is each input\n",
        "embedding                  "
      ],
      "metadata": {
        "colab": {
          "base_uri": "https://localhost:8080/"
        },
        "id": "QpzOPqL_8wqr",
        "outputId": "d0e0f295-31ba-49ea-b857-adf707b41ada"
      },
      "execution_count": 44,
      "outputs": [
        {
          "output_type": "execute_result",
          "data": {
            "text/plain": [
              "<keras.layers.embeddings.Embedding at 0x7f82c0437810>"
            ]
          },
          "metadata": {},
          "execution_count": 44
        }
      ]
    },
    {
      "cell_type": "markdown",
      "source": [
        "Notice how `embedding` is a TensoFlow layer? This is important because we can use it as part of a model, meaning its parameters (word representations) can be updated and improved as the model learns.\n",
        "\n",
        "How about we try it out on a sample sentence?"
      ],
      "metadata": {
        "id": "u3U6gkQe9Nku"
      }
    },
    {
      "cell_type": "code",
      "source": [
        "# Get a random tweet from training tweets\n",
        "random_tweet = random.choice(train_tweets)\n",
        "print(f\"Original tweet:\\n{random_tweet}\\\n",
        "      \\n\\nEmbedded version:\")\n",
        "\n",
        "# Embed the random tweet (turn it into numerical representation)\n",
        "sample_embed = embedding(text_vectorizer([random_tweet]))\n",
        "sample_embed"
      ],
      "metadata": {
        "colab": {
          "base_uri": "https://localhost:8080/"
        },
        "id": "-JkG3EwX9NnV",
        "outputId": "62dd4051-a1c5-4042-c1d8-fb2bc61b275c"
      },
      "execution_count": 45,
      "outputs": [
        {
          "output_type": "stream",
          "name": "stdout",
          "text": [
            "Original tweet:\n",
            "@realDonaldTrump @rushlimbaugh ITS PROOF democrats are AFRAID of TRUMP clintons are trying to DERAIL TRUMP w the meddling      \n",
            "\n",
            "Embedded version:\n"
          ]
        },
        {
          "output_type": "execute_result",
          "data": {
            "text/plain": [
              "<tf.Tensor: shape=(1, 15, 128), dtype=float32, numpy=\n",
              "array([[[-0.03357576, -0.04285913, -0.01324692, ...,  0.02696728,\n",
              "         -0.01788583, -0.03925152],\n",
              "        [-0.03965668, -0.04484088, -0.04756632, ...,  0.00536186,\n",
              "          0.00892211,  0.03149856],\n",
              "        [ 0.04895807,  0.00195414,  0.0107785 , ..., -0.02606229,\n",
              "         -0.03510846,  0.01732546],\n",
              "        ...,\n",
              "        [ 0.02610311,  0.0108101 ,  0.01243619, ..., -0.03203014,\n",
              "          0.04385457, -0.03038381],\n",
              "        [ 0.03364075, -0.01980685, -0.04977756, ...,  0.02731914,\n",
              "         -0.03775548, -0.01697035],\n",
              "        [-0.03872652, -0.04050428,  0.03231746, ..., -0.00349262,\n",
              "          0.03875412, -0.04788325]]], dtype=float32)>"
            ]
          },
          "metadata": {},
          "execution_count": 45
        }
      ]
    },
    {
      "cell_type": "markdown",
      "source": [
        "Each token in the tweet gets turned into a length 128 feature vector. <br>\n",
        "(sequence(tweet), number of tokens, embedding dense (feature) vector) -> (1, 15, 128)"
      ],
      "metadata": {
        "id": "jqjVl_8nCO9t"
      }
    },
    {
      "cell_type": "code",
      "source": [
        "# Check out a single token's embedding\n",
        "# print(len(sample_embed))\n",
        "print(sample_embed[0][0])\n",
        "print(type(sample_embed))\n",
        "print(sample_embed[0][0].shape)\n",
        "print(random_tweet)"
      ],
      "metadata": {
        "colab": {
          "base_uri": "https://localhost:8080/"
        },
        "id": "56c0D8mHCPBk",
        "outputId": "8eeb4a3b-a7eb-4c14-dc0b-4a00cfe9120e"
      },
      "execution_count": 46,
      "outputs": [
        {
          "output_type": "stream",
          "name": "stdout",
          "text": [
            "tf.Tensor(\n",
            "[-3.3575762e-02 -4.2859126e-02 -1.3246916e-02  4.3210816e-02\n",
            " -1.9061936e-02 -4.8610188e-02  4.8494115e-03  3.4679901e-02\n",
            " -4.5913674e-02 -1.6068388e-02  3.1485930e-03 -4.8934676e-02\n",
            " -4.4084977e-02  1.5522864e-02  3.3222709e-02 -3.3385206e-02\n",
            "  1.3866138e-02 -2.5048554e-02 -2.6491094e-02  3.5127830e-02\n",
            " -3.6635436e-02  8.5345134e-03  2.5046732e-02  4.5277178e-05\n",
            " -2.9780556e-02 -1.0865651e-02 -2.7764952e-02  4.6789441e-02\n",
            " -8.2088336e-03  2.5851261e-02  2.5108580e-02  2.4150338e-02\n",
            " -2.1766722e-02 -1.0205794e-02 -4.2318858e-02  7.7698231e-03\n",
            "  1.1627018e-02  3.5646927e-02 -4.8173595e-02  4.4220518e-02\n",
            " -4.8165727e-02 -2.6103426e-02  2.2661183e-02 -3.6939010e-03\n",
            "  1.3419140e-02  3.0530158e-02 -8.6037517e-03 -1.1929870e-02\n",
            " -1.0515559e-02  3.4868494e-03 -8.1526861e-03  3.8221207e-02\n",
            "  2.4061572e-02  1.5500393e-02 -2.9015386e-02 -3.1355396e-03\n",
            " -2.8113771e-02  1.7419171e-02 -3.9762665e-02  2.1500979e-02\n",
            " -5.5388436e-03  2.9364314e-02  3.7956905e-02  3.9619040e-02\n",
            "  4.4786248e-02  2.2191796e-02 -7.0182905e-03  4.2730834e-02\n",
            "  4.8287656e-02 -9.4568506e-03 -1.4759563e-02 -2.9787278e-02\n",
            "  1.8010963e-02 -2.2413004e-02 -2.1856010e-02  3.0285764e-02\n",
            " -9.8623261e-03 -4.1060366e-02 -2.3891795e-02  2.8330531e-02\n",
            " -1.5499104e-02  2.4934638e-02 -1.9330217e-02  2.0892028e-02\n",
            "  3.9131019e-02 -2.1075964e-02  4.8375044e-02  1.6214047e-02\n",
            "  3.3292387e-02  4.2684902e-02 -4.0189158e-02 -4.5789134e-02\n",
            " -4.8119366e-02  3.5880279e-02 -3.5148285e-02 -3.3402063e-02\n",
            "  3.6145460e-02 -2.1784306e-02  1.3522062e-02 -4.4251073e-02\n",
            " -7.3964000e-03  4.0644262e-02  3.9327312e-02  1.3334755e-02\n",
            " -4.8084568e-02 -4.0050019e-02 -2.8153980e-02 -4.5850694e-02\n",
            "  7.0574656e-03 -4.2116247e-02 -8.3781481e-03 -4.5372616e-02\n",
            "  7.7939853e-03  3.2722209e-02 -2.6056064e-02  2.7594436e-02\n",
            "  4.3418754e-02 -6.9198608e-03  4.5511913e-02  3.2761816e-02\n",
            " -1.9096017e-02  4.9571481e-02  1.9522551e-02  4.3363918e-02\n",
            " -3.3757649e-02  2.6967276e-02 -1.7885827e-02 -3.9251518e-02], shape=(128,), dtype=float32)\n",
            "<class 'tensorflow.python.framework.ops.EagerTensor'>\n",
            "(128,)\n",
            "@realDonaldTrump @rushlimbaugh ITS PROOF democrats are AFRAID of TRUMP clintons are trying to DERAIL TRUMP w the meddling\n"
          ]
        }
      ]
    },
    {
      "cell_type": "markdown",
      "source": [
        "# Modelling Part\n",
        "We'll be running a series of experiemnts:\n",
        "* **Model 0**: Naive Bayes (baseline)\n",
        "* **Model 1**: Feed-forward neural network (dense model)\n",
        "* **Model 2**: LSTM model\n",
        "* **Model 3**: GRU model\n",
        "* **Model 4**: Bidirectional-LSTM model\n",
        "* **Model 5**: 1D Convolutional Neural Network\n",
        "* **Model 6**: TensorFlow Hub Pretrained Feature Extractor\n",
        "* **Model 7**: Same as model 6 with 10% of training data\n",
        "\n",
        "Model 0 is the simplest to acquire a baseline which we'll expect each other of the other deeper models to beat.\n",
        "\n",
        "Each experiment will go through the following steps:\n",
        "* Construct the model\n",
        "* Train the model\n",
        "* Make predictions with the model\n",
        "* Track prediction evaluation metrics for later comparison\n"
      ],
      "metadata": {
        "id": "Th3kckXuCPEm"
      }
    },
    {
      "cell_type": "markdown",
      "source": [
        "### **Model 0**: Naive Bayes (baseline)\n",
        "\n",
        "As with all machine learning modelling experiments, it's important to create a baseline model so you've got a benchmark for future experiments to build upon.\n",
        "\n",
        "To create our baseline, we'll create a Scikit-Learn Pipeline using the TF-IDF (term frequency-inverse document frequency) formula to convert our words to numbers and then model them with the [Multinomial Naive Bayes algorithm](https://scikit-learn.org/stable/modules/generated/sklearn.naive_bayes.MultinomialNB.html#sklearn.naive_bayes.MultinomialNB).\n"
      ],
      "metadata": {
        "id": "AHJLMIdH_C-a"
      }
    },
    {
      "cell_type": "code",
      "source": [
        "# 1. Create tokenization and modelling pipeline\n",
        "model_0 = Pipeline([\n",
        "                    (\"tf-idf\", TfidfVectorizer()), # convert words into numbers using tf-idf\n",
        "                    (\"clf\", MultinomialNB()) # model the text\n",
        "])\n",
        "\n",
        "# 2. Fit the Pipeline to the training data \n",
        "model_0.fit(train_tweets, train_labels)\n",
        "\n",
        "# 3. Evaluate our baseline model performance\n",
        "baseline_score = model_0.score(val_tweets, val_labels)\n",
        "print(f\"Our baseline model achieves an accuracy of: {baseline_score*100:.2f}% \")\n"
      ],
      "metadata": {
        "colab": {
          "base_uri": "https://localhost:8080/"
        },
        "id": "JGNakTfdHr14",
        "outputId": "3bd4f696-9757-4dcc-e99a-3a4b895f2c78"
      },
      "execution_count": 47,
      "outputs": [
        {
          "output_type": "stream",
          "name": "stdout",
          "text": [
            "Our baseline model achieves an accuracy of: 79.91% \n"
          ]
        }
      ]
    },
    {
      "cell_type": "code",
      "source": [
        "# Make predictions \n",
        "baseline_preds = model_0.predict(val_tweets)\n",
        "\n",
        "# Check out the first 30 predictions\n",
        "baseline_preds[:30]"
      ],
      "metadata": {
        "colab": {
          "base_uri": "https://localhost:8080/"
        },
        "id": "ndNHJq_RHr45",
        "outputId": "f72356b8-4979-436f-c448-66937f740304"
      },
      "execution_count": 48,
      "outputs": [
        {
          "output_type": "execute_result",
          "data": {
            "text/plain": [
              "array([1, 1, 1, 0, 0, 1, 1, 1, 1, 0, 0, 1, 0, 0, 0, 0, 0, 0, 0, 1, 1, 0,\n",
              "       0, 0, 1, 1, 0, 0, 0, 0])"
            ]
          },
          "metadata": {},
          "execution_count": 48
        }
      ]
    },
    {
      "cell_type": "markdown",
      "source": [
        "### Creating an evaluation function for our model experiments\n",
        "\n",
        "A helper function which takes an array of predictions and ground truth labels and computes the following:\n",
        "* Accuracy\n",
        "* Precision\n",
        "* Recall\n",
        "* F1-score"
      ],
      "metadata": {
        "id": "dswlHm2ACLUP"
      }
    },
    {
      "cell_type": "code",
      "source": [
        "def calculate_results(y_true, y_pred):\n",
        "  \"\"\"\n",
        "  Calculates model accuracy, precision, recall and f1 score of a binary classification model.\n",
        "\n",
        "  Args:\n",
        "  -----\n",
        "  y_true = true labels in the form of a 1D array\n",
        "  y_pred = predicted labels in the form of a 1D array\n",
        "\n",
        "  Returns a dictionary of accuracy, precision, recall, f1-score.\n",
        "  \"\"\"\n",
        "  # Calculate model accuracy\n",
        "  model_accuracy = accuracy_score(y_true, y_pred)\n",
        "  # Calculate model precision, recall and f1 score using \"weighted\" average\n",
        "  model_precision, model_recall, model_f1, _ = precision_recall_fscore_support(y_true, y_pred, average=\"weighted\")\n",
        "  model_results = {\"accuracy\":model_accuracy,\n",
        "                   \"precision\":model_precision,\n",
        "                   \"recall\":model_recall,\n",
        "                   \"f1\":model_f1}\n",
        "  return model_results\n"
      ],
      "metadata": {
        "id": "DejTtx8oCLXB"
      },
      "execution_count": 49,
      "outputs": []
    },
    {
      "cell_type": "code",
      "source": [
        "# Get baseline model results\n",
        "baseline_results = calculate_results(y_true=val_labels,\n",
        "                                     y_pred=baseline_preds)\n",
        "baseline_results"
      ],
      "metadata": {
        "colab": {
          "base_uri": "https://localhost:8080/"
        },
        "id": "7sF1MiEvCLZw",
        "outputId": "477717cd-618a-42d9-b1a7-9bcc29e396f0"
      },
      "execution_count": 50,
      "outputs": [
        {
          "output_type": "execute_result",
          "data": {
            "text/plain": [
              "{'accuracy': 0.799080761654629,\n",
              " 'f1': 0.7920155324845473,\n",
              " 'precision': 0.8146358812834972,\n",
              " 'recall': 0.799080761654629}"
            ]
          },
          "metadata": {},
          "execution_count": 50
        }
      ]
    },
    {
      "cell_type": "markdown",
      "source": [
        "### **Model 1**: Feed-forward neural network (dense model)"
      ],
      "metadata": {
        "id": "RT0Ibz2JN_M4"
      }
    },
    {
      "cell_type": "code",
      "source": [
        "# Create a directory to save TensorBoard logs\n",
        "SAVE_DIR = \"model_logs\" \n"
      ],
      "metadata": {
        "id": "97LoG1EVN_Qk"
      },
      "execution_count": 51,
      "outputs": []
    },
    {
      "cell_type": "code",
      "source": [
        "# Check out text vectorizer and embeddings layers\n",
        "print(text_vectorizer)\n",
        "print(embedding)"
      ],
      "metadata": {
        "colab": {
          "base_uri": "https://localhost:8080/"
        },
        "id": "Oey2BQdxSCFX",
        "outputId": "a2b79071-fd2a-485c-9a02-8e9ba4bd3012"
      },
      "execution_count": 52,
      "outputs": [
        {
          "output_type": "stream",
          "name": "stdout",
          "text": [
            "<keras.layers.preprocessing.text_vectorization.TextVectorization object at 0x7f82c05a1e10>\n",
            "<keras.layers.embeddings.Embedding object at 0x7f82c0437810>\n"
          ]
        }
      ]
    },
    {
      "cell_type": "code",
      "source": [
        "# Build model with the Functional API\n",
        "inputs = layers.Input(shape=(1,), dtype=tf.string) # inputs are 1-dimensional string\n",
        "x = text_vectorizer(inputs) # turn the input text into numbers\n",
        "x = embedding(x) # create an embedding of the numberized inputs\n",
        "x = layers.GlobalAveragePooling1D()(x) # lower the dimensionality of the embedding \n",
        "outputs = layers.Dense(1, activation=\"sigmoid\") (x) # create the output layer, want binary outputs (disaster or not a disaster) so use sigmoid activation\n",
        "model_1 = tf.keras.Model(inputs, outputs, name=\"model_1_dense\") # construct the model\n"
      ],
      "metadata": {
        "id": "wvnKsJ6QN_Ty"
      },
      "execution_count": 53,
      "outputs": []
    },
    {
      "cell_type": "code",
      "source": [
        "# Get model summary \n",
        "model_1.summary()"
      ],
      "metadata": {
        "colab": {
          "base_uri": "https://localhost:8080/"
        },
        "id": "0Ct6Wq_JN_Wf",
        "outputId": "e9fb237f-a814-4a2d-8fd7-e19d3c89e167"
      },
      "execution_count": 54,
      "outputs": [
        {
          "output_type": "stream",
          "name": "stdout",
          "text": [
            "Model: \"model_1_dense\"\n",
            "_________________________________________________________________\n",
            " Layer (type)                Output Shape              Param #   \n",
            "=================================================================\n",
            " input_1 (InputLayer)        [(None, 1)]               0         \n",
            "                                                                 \n",
            " text_vectorization_1 (TextV  (None, 15)               0         \n",
            " ectorization)                                                   \n",
            "                                                                 \n",
            " embedding (Embedding)       (None, 15, 128)           1280000   \n",
            "                                                                 \n",
            " global_average_pooling1d (G  (None, 128)              0         \n",
            " lobalAveragePooling1D)                                          \n",
            "                                                                 \n",
            " dense (Dense)               (None, 1)                 129       \n",
            "                                                                 \n",
            "=================================================================\n",
            "Total params: 1,280,129\n",
            "Trainable params: 1,280,129\n",
            "Non-trainable params: 0\n",
            "_________________________________________________________________\n"
          ]
        }
      ]
    },
    {
      "cell_type": "code",
      "source": [
        "# Compile the model \n",
        "model_1.compile(loss=\"binary_crossentropy\", \n",
        "                optimizer=tf.keras.optimizers.Adam(),\n",
        "                metrics=[\"accuracy\"])"
      ],
      "metadata": {
        "id": "OvKSnLfnTmmc"
      },
      "execution_count": 55,
      "outputs": []
    },
    {
      "cell_type": "code",
      "source": [
        "# Fit the model \n",
        "model_1_history = model_1.fit(train_tweets, # input tweets can be a list of strings due to text preprocessing layer built-in model\n",
        "                              train_labels,\n",
        "                              epochs=10,\n",
        "                              validation_data=(val_tweets, val_labels),\n",
        "                              callbacks=[create_tensorboard_callback(dir_name=SAVE_DIR, \n",
        "                                                                     experiment_name=\"model_1_dense\")])"
      ],
      "metadata": {
        "colab": {
          "base_uri": "https://localhost:8080/"
        },
        "id": "H6GzKbpvTmql",
        "outputId": "0367903f-e72a-4dc9-dbed-429eb7a9099c"
      },
      "execution_count": 56,
      "outputs": [
        {
          "output_type": "stream",
          "name": "stdout",
          "text": [
            "Saving TensorBoard log files to: model_logs/model_1_dense/20220624-194414\n",
            "Epoch 1/10\n",
            "191/191 [==============================] - 5s 5ms/step - loss: 0.6200 - accuracy: 0.6816 - val_loss: 0.5461 - val_accuracy: 0.7557\n",
            "Epoch 2/10\n",
            "191/191 [==============================] - 1s 5ms/step - loss: 0.4517 - accuracy: 0.8143 - val_loss: 0.4759 - val_accuracy: 0.7807\n",
            "Epoch 3/10\n",
            "191/191 [==============================] - 1s 5ms/step - loss: 0.3511 - accuracy: 0.8603 - val_loss: 0.4620 - val_accuracy: 0.7879\n",
            "Epoch 4/10\n",
            "191/191 [==============================] - 1s 4ms/step - loss: 0.2854 - accuracy: 0.8923 - val_loss: 0.4662 - val_accuracy: 0.7945\n",
            "Epoch 5/10\n",
            "191/191 [==============================] - 1s 5ms/step - loss: 0.2358 - accuracy: 0.9141 - val_loss: 0.4776 - val_accuracy: 0.7859\n",
            "Epoch 6/10\n",
            "191/191 [==============================] - 1s 5ms/step - loss: 0.1971 - accuracy: 0.9325 - val_loss: 0.5024 - val_accuracy: 0.7814\n",
            "Epoch 7/10\n",
            "191/191 [==============================] - 1s 5ms/step - loss: 0.1674 - accuracy: 0.9437 - val_loss: 0.5196 - val_accuracy: 0.7859\n",
            "Epoch 8/10\n",
            "191/191 [==============================] - 1s 5ms/step - loss: 0.1432 - accuracy: 0.9542 - val_loss: 0.5441 - val_accuracy: 0.7781\n",
            "Epoch 9/10\n",
            "191/191 [==============================] - 1s 5ms/step - loss: 0.1244 - accuracy: 0.9578 - val_loss: 0.5723 - val_accuracy: 0.7768\n",
            "Epoch 10/10\n",
            "191/191 [==============================] - 1s 4ms/step - loss: 0.1097 - accuracy: 0.9644 - val_loss: 0.5993 - val_accuracy: 0.7840\n"
          ]
        }
      ]
    },
    {
      "cell_type": "code",
      "source": [
        "# Check the results \n",
        "model_1.evaluate(val_tweets, val_labels)"
      ],
      "metadata": {
        "colab": {
          "base_uri": "https://localhost:8080/"
        },
        "id": "LZJN25Q_Y5v6",
        "outputId": "87a11966-f4f1-4685-bec3-d1734b9497c9"
      },
      "execution_count": 57,
      "outputs": [
        {
          "output_type": "stream",
          "name": "stdout",
          "text": [
            "48/48 [==============================] - 0s 3ms/step - loss: 0.5993 - accuracy: 0.7840\n"
          ]
        },
        {
          "output_type": "execute_result",
          "data": {
            "text/plain": [
              "[0.5992710590362549, 0.7839789986610413]"
            ]
          },
          "metadata": {},
          "execution_count": 57
        }
      ]
    },
    {
      "cell_type": "code",
      "source": [
        "# Make predictions with model_1\n",
        "model_1_pred_probs = model_1.predict(val_tweets)\n",
        "print(model_1_pred_probs[0],\"\\n\") # Look at a single prediciton\n",
        "print(model_1_pred_probs[:10]) # Look at the first 10 predictions\n",
        "print(model_1_pred_probs.shape)"
      ],
      "metadata": {
        "colab": {
          "base_uri": "https://localhost:8080/"
        },
        "id": "rIsWDpe5Wr0K",
        "outputId": "b9bb7cb4-7185-4042-d312-17cd9d987dc6"
      },
      "execution_count": 58,
      "outputs": [
        {
          "output_type": "stream",
          "name": "stdout",
          "text": [
            "[0.5594832] \n",
            "\n",
            "[[0.5594832 ]\n",
            " [0.9162675 ]\n",
            " [0.9994741 ]\n",
            " [0.02932342]\n",
            " [0.00919162]\n",
            " [0.9869997 ]\n",
            " [0.9808187 ]\n",
            " [0.99960524]\n",
            " [0.99403507]\n",
            " [0.39084953]]\n",
            "(1523, 1)\n"
          ]
        }
      ]
    },
    {
      "cell_type": "code",
      "source": [
        "val_labels[:10]"
      ],
      "metadata": {
        "colab": {
          "base_uri": "https://localhost:8080/"
        },
        "id": "Y1miobd-Xcl6",
        "outputId": "3f9b902b-0c79-434f-fd77-43f089cf6afa"
      },
      "execution_count": 59,
      "outputs": [
        {
          "output_type": "execute_result",
          "data": {
            "text/plain": [
              "array([0, 0, 1, 1, 1, 1, 1, 1, 1, 0])"
            ]
          },
          "metadata": {},
          "execution_count": 59
        }
      ]
    },
    {
      "cell_type": "code",
      "source": [
        "# Convert model prediction probabilities to label format\n",
        "model_1_preds = tf.squeeze(tf.round(model_1_pred_probs))\n",
        "model_1_preds[:10]"
      ],
      "metadata": {
        "colab": {
          "base_uri": "https://localhost:8080/"
        },
        "id": "Xi5CvTKfWrvw",
        "outputId": "604f9ae0-5158-4153-ad23-cd39ed71f0d6"
      },
      "execution_count": 60,
      "outputs": [
        {
          "output_type": "execute_result",
          "data": {
            "text/plain": [
              "<tf.Tensor: shape=(10,), dtype=float32, numpy=array([1., 1., 1., 0., 0., 1., 1., 1., 1., 0.], dtype=float32)>"
            ]
          },
          "metadata": {},
          "execution_count": 60
        }
      ]
    },
    {
      "cell_type": "markdown",
      "source": [
        "#### Compare baseline and model_1 preformance"
      ],
      "metadata": {
        "id": "ufdUyZuoYGIv"
      }
    },
    {
      "cell_type": "code",
      "source": [
        "model_1_results = calculate_results(y_true=val_labels,\n",
        "                                     y_pred=model_1_preds)\n",
        "model_1_results"
      ],
      "metadata": {
        "colab": {
          "base_uri": "https://localhost:8080/"
        },
        "id": "IF9LsC5mWU75",
        "outputId": "e9453d65-173c-4a19-8577-d6030e15e9b7"
      },
      "execution_count": 61,
      "outputs": [
        {
          "output_type": "execute_result",
          "data": {
            "text/plain": [
              "{'accuracy': 0.7839789888378201,\n",
              " 'f1': 0.7820472307448497,\n",
              " 'precision': 0.7840406266090455,\n",
              " 'recall': 0.7839789888378201}"
            ]
          },
          "metadata": {},
          "execution_count": 61
        }
      ]
    },
    {
      "cell_type": "code",
      "source": [
        "baseline_results"
      ],
      "metadata": {
        "colab": {
          "base_uri": "https://localhost:8080/"
        },
        "id": "h6D-Qs7zWNXC",
        "outputId": "19ea1a9e-4dcb-4026-ec8b-05dd4b691b8e"
      },
      "execution_count": 62,
      "outputs": [
        {
          "output_type": "execute_result",
          "data": {
            "text/plain": [
              "{'accuracy': 0.799080761654629,\n",
              " 'f1': 0.7920155324845473,\n",
              " 'precision': 0.8146358812834972,\n",
              " 'recall': 0.799080761654629}"
            ]
          },
          "metadata": {},
          "execution_count": 62
        }
      ]
    },
    {
      "cell_type": "code",
      "source": [
        "# Compare models performance\n",
        "np.array(list(model_1_results.values())) > np.array(list(baseline_results.values()))"
      ],
      "metadata": {
        "colab": {
          "base_uri": "https://localhost:8080/"
        },
        "id": "AIyCIan-WUPw",
        "outputId": "81b17374-1a98-45a5-e749-492f2ead86b0"
      },
      "execution_count": 63,
      "outputs": [
        {
          "output_type": "execute_result",
          "data": {
            "text/plain": [
              "array([False, False, False, False])"
            ]
          },
          "metadata": {},
          "execution_count": 63
        }
      ]
    },
    {
      "cell_type": "markdown",
      "source": [
        "# Visualizing learned embeddings\n",
        "\n",
        "Let's visualize the word embeddings, to do so, we'll get the weights matrix (embedding matrix) from our embedding layer and visualize it using the Embedding project tool."
      ],
      "metadata": {
        "id": "fcdz6RtmZz_L"
      }
    },
    {
      "cell_type": "code",
      "source": [
        "# Get the vocabulary from the text vectorization layer\n",
        "words_in_vocab = text_vectorizer.get_vocabulary()\n",
        "len(words_in_vocab), words_in_vocab[:20]"
      ],
      "metadata": {
        "colab": {
          "base_uri": "https://localhost:8080/"
        },
        "id": "_3i2x2AUZ0CY",
        "outputId": "9072132d-a040-4f7a-d548-c48c86670a0d"
      },
      "execution_count": 64,
      "outputs": [
        {
          "output_type": "execute_result",
          "data": {
            "text/plain": [
              "(10000,\n",
              " ['',\n",
              "  '[UNK]',\n",
              "  'the',\n",
              "  'a',\n",
              "  'in',\n",
              "  'to',\n",
              "  'of',\n",
              "  'and',\n",
              "  'i',\n",
              "  'is',\n",
              "  'for',\n",
              "  'on',\n",
              "  'you',\n",
              "  'my',\n",
              "  'with',\n",
              "  'it',\n",
              "  'that',\n",
              "  'at',\n",
              "  'by',\n",
              "  'this'])"
            ]
          },
          "metadata": {},
          "execution_count": 64
        }
      ]
    },
    {
      "cell_type": "code",
      "source": [
        "# Model_1 Summary \n",
        "model_1.summary()"
      ],
      "metadata": {
        "colab": {
          "base_uri": "https://localhost:8080/"
        },
        "id": "U0hF2WMFZ0FF",
        "outputId": "eede1e8e-21e5-4d49-91bf-f7dfbfca3e55"
      },
      "execution_count": 65,
      "outputs": [
        {
          "output_type": "stream",
          "name": "stdout",
          "text": [
            "Model: \"model_1_dense\"\n",
            "_________________________________________________________________\n",
            " Layer (type)                Output Shape              Param #   \n",
            "=================================================================\n",
            " input_1 (InputLayer)        [(None, 1)]               0         \n",
            "                                                                 \n",
            " text_vectorization_1 (TextV  (None, 15)               0         \n",
            " ectorization)                                                   \n",
            "                                                                 \n",
            " embedding (Embedding)       (None, 15, 128)           1280000   \n",
            "                                                                 \n",
            " global_average_pooling1d (G  (None, 128)              0         \n",
            " lobalAveragePooling1D)                                          \n",
            "                                                                 \n",
            " dense (Dense)               (None, 1)                 129       \n",
            "                                                                 \n",
            "=================================================================\n",
            "Total params: 1,280,129\n",
            "Trainable params: 1,280,129\n",
            "Non-trainable params: 0\n",
            "_________________________________________________________________\n"
          ]
        }
      ]
    },
    {
      "cell_type": "code",
      "source": [
        "# Get the weight matrix of embedding layer\n",
        "# (the weights are the numerical patterns between the text in the training dataset that the model has learned)\n",
        "embed_weights = model_1.get_layer(\"embedding\").get_weights()[0]\n",
        "print(embed_weights)\n",
        "print(embed_weights.shape)"
      ],
      "metadata": {
        "colab": {
          "base_uri": "https://localhost:8080/"
        },
        "id": "kX5ZfYrqa1f-",
        "outputId": "e6e0d613-7e93-40c8-fcfd-827262b31127"
      },
      "execution_count": 67,
      "outputs": [
        {
          "output_type": "stream",
          "name": "stdout",
          "text": [
            "[[ 0.03503445  0.03089445 -0.02294346 ... -0.06962352  0.04722873\n",
            "   0.01647759]\n",
            " [ 0.00952813  0.01654835  0.01296494 ... -0.04324798  0.04800655\n",
            "   0.04732879]\n",
            " [ 0.04489195 -0.01714419  0.01141796 ...  0.02653235  0.03703734\n",
            "   0.00552984]\n",
            " ...\n",
            " [-0.04550081  0.02392579  0.03057669 ... -0.09083466  0.0697969\n",
            "   0.09938256]\n",
            " [ 0.03357466 -0.00519176 -0.07548806 ...  0.02773649 -0.00681324\n",
            "   0.01076705]\n",
            " [ 0.07573131 -0.10759249 -0.11426631 ...  0.04348827 -0.05224377\n",
            "  -0.05535935]]\n",
            "(10000, 128)\n"
          ]
        }
      ]
    },
    {
      "cell_type": "code",
      "source": [
        "embedding.weights"
      ],
      "metadata": {
        "id": "eGymRMyRY6HX",
        "colab": {
          "base_uri": "https://localhost:8080/"
        },
        "outputId": "1128afdf-4d7f-4df7-ec8a-8448a5d48dee"
      },
      "execution_count": 68,
      "outputs": [
        {
          "output_type": "execute_result",
          "data": {
            "text/plain": [
              "[<tf.Variable 'embedding/embeddings:0' shape=(10000, 128) dtype=float32, numpy=\n",
              " array([[ 0.03503445,  0.03089445, -0.02294346, ..., -0.06962352,\n",
              "          0.04722873,  0.01647759],\n",
              "        [ 0.00952813,  0.01654835,  0.01296494, ..., -0.04324798,\n",
              "          0.04800655,  0.04732879],\n",
              "        [ 0.04489195, -0.01714419,  0.01141796, ...,  0.02653235,\n",
              "          0.03703734,  0.00552984],\n",
              "        ...,\n",
              "        [-0.04550081,  0.02392579,  0.03057669, ..., -0.09083466,\n",
              "          0.0697969 ,  0.09938256],\n",
              "        [ 0.03357466, -0.00519176, -0.07548806, ...,  0.02773649,\n",
              "         -0.00681324,  0.01076705],\n",
              "        [ 0.07573131, -0.10759249, -0.11426631, ...,  0.04348827,\n",
              "         -0.05224377, -0.05535935]], dtype=float32)>]"
            ]
          },
          "metadata": {},
          "execution_count": 68
        }
      ]
    },
    {
      "cell_type": "code",
      "source": [
        "embed_weights = model_1.get_layer(\"embedding\").get_weights()[0]\n",
        "print(embed_weights.shape)"
      ],
      "metadata": {
        "id": "q6S0VORlY6qT",
        "colab": {
          "base_uri": "https://localhost:8080/"
        },
        "outputId": "4cc43293-f290-4c5c-d429-09f79538f48c"
      },
      "execution_count": 69,
      "outputs": [
        {
          "output_type": "stream",
          "name": "stdout",
          "text": [
            "(10000, 128)\n"
          ]
        }
      ]
    },
    {
      "cell_type": "code",
      "source": [
        "# Code to save trained embeddings to file - Got this from here: https://www.tensorflow.org/tutorials/text/word_embeddings#retrieve_the_trained_word_embeddings_and_save_them_to_disk\n",
        "out_v = io.open('vectors.tsv', 'w', encoding='utf-8')\n",
        "out_m = io.open('metadata.tsv', 'w', encoding='utf-8')\n",
        "\n",
        "for index, word in enumerate(words_in_vocab):\n",
        "  if index == 0:\n",
        "    continue  # skip 0, it's padding.\n",
        "  vec = embed_weights[index]\n",
        "  out_v.write('\\t'.join([str(x) for x in vec]) + \"\\n\")\n",
        "  out_m.write(word + \"\\n\")\n",
        "out_v.close()\n",
        "out_m.close()"
      ],
      "metadata": {
        "id": "_KeED2zdcKBi"
      },
      "execution_count": 70,
      "outputs": []
    },
    {
      "cell_type": "code",
      "source": [
        "# Let's download the saved embeddings locally\n",
        "try:\n",
        "  files.download('vectors.tsv')\n",
        "  files.download('metadata.tsv')\n",
        "except Exception:\n",
        "  pass"
      ],
      "metadata": {
        "colab": {
          "base_uri": "https://localhost:8080/",
          "height": 17
        },
        "id": "YOY0PzzWcKEp",
        "outputId": "9b10fe85-201c-47a4-c273-de365e3c41f6"
      },
      "execution_count": 71,
      "outputs": [
        {
          "output_type": "display_data",
          "data": {
            "text/plain": [
              "<IPython.core.display.Javascript object>"
            ],
            "application/javascript": [
              "\n",
              "    async function download(id, filename, size) {\n",
              "      if (!google.colab.kernel.accessAllowed) {\n",
              "        return;\n",
              "      }\n",
              "      const div = document.createElement('div');\n",
              "      const label = document.createElement('label');\n",
              "      label.textContent = `Downloading \"${filename}\": `;\n",
              "      div.appendChild(label);\n",
              "      const progress = document.createElement('progress');\n",
              "      progress.max = size;\n",
              "      div.appendChild(progress);\n",
              "      document.body.appendChild(div);\n",
              "\n",
              "      const buffers = [];\n",
              "      let downloaded = 0;\n",
              "\n",
              "      const channel = await google.colab.kernel.comms.open(id);\n",
              "      // Send a message to notify the kernel that we're ready.\n",
              "      channel.send({})\n",
              "\n",
              "      for await (const message of channel.messages) {\n",
              "        // Send a message to notify the kernel that we're ready.\n",
              "        channel.send({})\n",
              "        if (message.buffers) {\n",
              "          for (const buffer of message.buffers) {\n",
              "            buffers.push(buffer);\n",
              "            downloaded += buffer.byteLength;\n",
              "            progress.value = downloaded;\n",
              "          }\n",
              "        }\n",
              "      }\n",
              "      const blob = new Blob(buffers, {type: 'application/binary'});\n",
              "      const a = document.createElement('a');\n",
              "      a.href = window.URL.createObjectURL(blob);\n",
              "      a.download = filename;\n",
              "      div.appendChild(a);\n",
              "      a.click();\n",
              "      div.remove();\n",
              "    }\n",
              "  "
            ]
          },
          "metadata": {}
        },
        {
          "output_type": "display_data",
          "data": {
            "text/plain": [
              "<IPython.core.display.Javascript object>"
            ],
            "application/javascript": [
              "download(\"download_3944f35a-7cfa-4618-8fda-a05642a44cc1\", \"vectors.tsv\", 15176494)"
            ]
          },
          "metadata": {}
        },
        {
          "output_type": "display_data",
          "data": {
            "text/plain": [
              "<IPython.core.display.Javascript object>"
            ],
            "application/javascript": [
              "\n",
              "    async function download(id, filename, size) {\n",
              "      if (!google.colab.kernel.accessAllowed) {\n",
              "        return;\n",
              "      }\n",
              "      const div = document.createElement('div');\n",
              "      const label = document.createElement('label');\n",
              "      label.textContent = `Downloading \"${filename}\": `;\n",
              "      div.appendChild(label);\n",
              "      const progress = document.createElement('progress');\n",
              "      progress.max = size;\n",
              "      div.appendChild(progress);\n",
              "      document.body.appendChild(div);\n",
              "\n",
              "      const buffers = [];\n",
              "      let downloaded = 0;\n",
              "\n",
              "      const channel = await google.colab.kernel.comms.open(id);\n",
              "      // Send a message to notify the kernel that we're ready.\n",
              "      channel.send({})\n",
              "\n",
              "      for await (const message of channel.messages) {\n",
              "        // Send a message to notify the kernel that we're ready.\n",
              "        channel.send({})\n",
              "        if (message.buffers) {\n",
              "          for (const buffer of message.buffers) {\n",
              "            buffers.push(buffer);\n",
              "            downloaded += buffer.byteLength;\n",
              "            progress.value = downloaded;\n",
              "          }\n",
              "        }\n",
              "      }\n",
              "      const blob = new Blob(buffers, {type: 'application/binary'});\n",
              "      const a = document.createElement('a');\n",
              "      a.href = window.URL.createObjectURL(blob);\n",
              "      a.download = filename;\n",
              "      div.appendChild(a);\n",
              "      a.click();\n",
              "      div.remove();\n",
              "    }\n",
              "  "
            ]
          },
          "metadata": {}
        },
        {
          "output_type": "display_data",
          "data": {
            "text/plain": [
              "<IPython.core.display.Javascript object>"
            ],
            "application/javascript": [
              "download(\"download_063bf423-5c7d-482b-bc28-9af39b0683b2\", \"metadata.tsv\", 80587)"
            ]
          },
          "metadata": {}
        }
      ]
    },
    {
      "cell_type": "markdown",
      "source": [
        "### **Model 2**: LSTM model"
      ],
      "metadata": {
        "id": "dDBWvdhHcKHl"
      }
    },
    {
      "cell_type": "code",
      "source": [
        "# Create an LSTM model \n",
        "inputs = layers.Input(shape=(1,), dtype=\"string\")\n",
        "x = text_vectorizer(inputs)\n",
        "x = embedding(x)\n",
        "# print(x.shape)\n",
        "# x = layers.LSTM(units=64, return_sequences=True)(x)\n",
        "# print(x.shape)\n",
        "x = layers.LSTM(units=64)(x)\n",
        "#print(x.shape)\n",
        "# x = layers.Dense(units=64, activation=\"relu\")(x)\n",
        "# print(x.shape)\n",
        "outputs = layers.Dense(1, activation=\"sigmoid\")(x)\n",
        "model_2 = tf.keras.Model(inputs, outputs, name=\"model_2_LSTM\")"
      ],
      "metadata": {
        "id": "uVr8n5KTcKJ5"
      },
      "execution_count": 72,
      "outputs": []
    },
    {
      "cell_type": "code",
      "source": [
        "# Model_2_LSTM Summary \n",
        "model_2.summary()"
      ],
      "metadata": {
        "colab": {
          "base_uri": "https://localhost:8080/"
        },
        "id": "mAfwBW1wjrBm",
        "outputId": "8a70f1cc-744d-482d-c734-c4daaf9f4fdc"
      },
      "execution_count": 73,
      "outputs": [
        {
          "output_type": "stream",
          "name": "stdout",
          "text": [
            "Model: \"model_2_LSTM\"\n",
            "_________________________________________________________________\n",
            " Layer (type)                Output Shape              Param #   \n",
            "=================================================================\n",
            " input_2 (InputLayer)        [(None, 1)]               0         \n",
            "                                                                 \n",
            " text_vectorization_1 (TextV  (None, 15)               0         \n",
            " ectorization)                                                   \n",
            "                                                                 \n",
            " embedding (Embedding)       (None, 15, 128)           1280000   \n",
            "                                                                 \n",
            " lstm (LSTM)                 (None, 64)                49408     \n",
            "                                                                 \n",
            " dense_1 (Dense)             (None, 1)                 65        \n",
            "                                                                 \n",
            "=================================================================\n",
            "Total params: 1,329,473\n",
            "Trainable params: 1,329,473\n",
            "Non-trainable params: 0\n",
            "_________________________________________________________________\n"
          ]
        }
      ]
    },
    {
      "cell_type": "code",
      "source": [
        "\n",
        "# Compile model\n",
        "model_2.compile(loss=\"binary_crossentropy\",\n",
        "                optimizer=tf.keras.optimizers.Adam(),\n",
        "                metrics=[\"accuracy\"])\n",
        "\n"
      ],
      "metadata": {
        "id": "t2Ew9Fk5jrFM"
      },
      "execution_count": 74,
      "outputs": []
    },
    {
      "cell_type": "code",
      "source": [
        "# Fit model\n",
        "history_2 = model_2.fit(train_tweets,\n",
        "                        train_labels,\n",
        "                        epochs=10,\n",
        "                        validation_data=(val_tweets, val_labels),\n",
        "                        callbacks=[create_tensorboard_callback(dir_name=SAVE_DIR,\n",
        "                                                               experiment_name=\"model_2_LSTM\")])"
      ],
      "metadata": {
        "colab": {
          "base_uri": "https://localhost:8080/"
        },
        "id": "dsnP7esqngmt",
        "outputId": "48aaac26-8faa-480e-efc2-d1b4f7117bf5"
      },
      "execution_count": 75,
      "outputs": [
        {
          "output_type": "stream",
          "name": "stdout",
          "text": [
            "Saving TensorBoard log files to: model_logs/model_2_LSTM/20220624-194511\n",
            "Epoch 1/10\n",
            "191/191 [==============================] - 6s 9ms/step - loss: 0.1381 - accuracy: 0.9557 - val_loss: 0.7283 - val_accuracy: 0.7754\n",
            "Epoch 2/10\n",
            "191/191 [==============================] - 1s 6ms/step - loss: 0.0794 - accuracy: 0.9709 - val_loss: 0.7351 - val_accuracy: 0.7656\n",
            "Epoch 3/10\n",
            "191/191 [==============================] - 1s 6ms/step - loss: 0.0668 - accuracy: 0.9726 - val_loss: 0.9205 - val_accuracy: 0.7754\n",
            "Epoch 4/10\n",
            "191/191 [==============================] - 1s 6ms/step - loss: 0.0602 - accuracy: 0.9745 - val_loss: 1.0536 - val_accuracy: 0.7754\n",
            "Epoch 5/10\n",
            "191/191 [==============================] - 1s 6ms/step - loss: 0.0543 - accuracy: 0.9782 - val_loss: 1.0633 - val_accuracy: 0.7702\n",
            "Epoch 6/10\n",
            "191/191 [==============================] - 1s 6ms/step - loss: 0.0461 - accuracy: 0.9793 - val_loss: 1.0381 - val_accuracy: 0.7768\n",
            "Epoch 7/10\n",
            "191/191 [==============================] - 1s 7ms/step - loss: 0.0402 - accuracy: 0.9813 - val_loss: 1.3270 - val_accuracy: 0.7584\n",
            "Epoch 8/10\n",
            "191/191 [==============================] - 1s 8ms/step - loss: 0.0388 - accuracy: 0.9818 - val_loss: 1.5464 - val_accuracy: 0.7708\n",
            "Epoch 9/10\n",
            "191/191 [==============================] - 1s 6ms/step - loss: 0.0407 - accuracy: 0.9811 - val_loss: 1.2792 - val_accuracy: 0.7682\n",
            "Epoch 10/10\n",
            "191/191 [==============================] - 1s 6ms/step - loss: 0.0367 - accuracy: 0.9831 - val_loss: 1.3963 - val_accuracy: 0.7715\n"
          ]
        }
      ]
    },
    {
      "cell_type": "code",
      "source": [
        "# Make predictions with model_2_LSTM model\n",
        "model_2_preds_probs = model_2.predict(val_tweets)\n",
        "model_2_preds_probs[:10]"
      ],
      "metadata": {
        "colab": {
          "base_uri": "https://localhost:8080/"
        },
        "id": "m3K4ibUqngpb",
        "outputId": "4f27a7e1-4c6d-49c7-deb9-79744c5cf1aa"
      },
      "execution_count": 76,
      "outputs": [
        {
          "output_type": "execute_result",
          "data": {
            "text/plain": [
              "array([[3.1878814e-01],\n",
              "       [5.2339268e-01],\n",
              "       [9.9987030e-01],\n",
              "       [2.0660834e-04],\n",
              "       [7.8842466e-05],\n",
              "       [9.9961191e-01],\n",
              "       [9.9348748e-01],\n",
              "       [9.9994910e-01],\n",
              "       [9.9991465e-01],\n",
              "       [9.9911135e-01]], dtype=float32)"
            ]
          },
          "metadata": {},
          "execution_count": 76
        }
      ]
    },
    {
      "cell_type": "code",
      "source": [
        "# Convert model_2 predictions probabilities to label format \n",
        "model_2_preds = tf.squeeze(tf.round(model_2_preds_probs))\n",
        "model_2_preds[:10]"
      ],
      "metadata": {
        "colab": {
          "base_uri": "https://localhost:8080/"
        },
        "id": "-XXjS22on1RQ",
        "outputId": "faaba79e-d84c-43b8-de08-6348ce5a3f65"
      },
      "execution_count": 77,
      "outputs": [
        {
          "output_type": "execute_result",
          "data": {
            "text/plain": [
              "<tf.Tensor: shape=(10,), dtype=float32, numpy=array([0., 1., 1., 0., 0., 1., 1., 1., 1., 1.], dtype=float32)>"
            ]
          },
          "metadata": {},
          "execution_count": 77
        }
      ]
    },
    {
      "cell_type": "code",
      "source": [
        "val_labels[:10]"
      ],
      "metadata": {
        "colab": {
          "base_uri": "https://localhost:8080/"
        },
        "id": "YTRSol8cn1UO",
        "outputId": "48706182-a407-49c5-e0ca-8b052effe8b0"
      },
      "execution_count": 78,
      "outputs": [
        {
          "output_type": "execute_result",
          "data": {
            "text/plain": [
              "array([0, 0, 1, 1, 1, 1, 1, 1, 1, 0])"
            ]
          },
          "metadata": {},
          "execution_count": 78
        }
      ]
    },
    {
      "cell_type": "code",
      "source": [
        "# Calculate model_2_LSTM results\n",
        "model_2_results = calculate_results(y_true=val_labels,\n",
        "                                    y_pred=model_2_preds)\n",
        "model_2_results"
      ],
      "metadata": {
        "colab": {
          "base_uri": "https://localhost:8080/"
        },
        "id": "FAwV8y3SoR9u",
        "outputId": "a31a1198-438e-4eba-994e-897d97bd6bc6"
      },
      "execution_count": 79,
      "outputs": [
        {
          "output_type": "execute_result",
          "data": {
            "text/plain": [
              "{'accuracy': 0.7715036112934996,\n",
              " 'f1': 0.7709308534287584,\n",
              " 'precision': 0.7708136173868189,\n",
              " 'recall': 0.7715036112934996}"
            ]
          },
          "metadata": {},
          "execution_count": 79
        }
      ]
    },
    {
      "cell_type": "code",
      "source": [
        "baseline_results"
      ],
      "metadata": {
        "colab": {
          "base_uri": "https://localhost:8080/"
        },
        "id": "JrhEiV5toSCG",
        "outputId": "81a393d7-1857-4545-c773-af4471ddcae7"
      },
      "execution_count": 80,
      "outputs": [
        {
          "output_type": "execute_result",
          "data": {
            "text/plain": [
              "{'accuracy': 0.799080761654629,\n",
              " 'f1': 0.7920155324845473,\n",
              " 'precision': 0.8146358812834972,\n",
              " 'recall': 0.799080761654629}"
            ]
          },
          "metadata": {},
          "execution_count": 80
        }
      ]
    },
    {
      "cell_type": "markdown",
      "source": [
        "### **Model 3**: GRU model"
      ],
      "metadata": {
        "id": "o419BU5_o-T4"
      }
    },
    {
      "cell_type": "code",
      "source": [
        "inputs = layers.Input(shape=(1,), dtype=\"string\")\n",
        "x = text_vectorizer(inputs)\n",
        "x = embedding(x)\n",
        "# x = layers.GRU(64, activation=\"tanh\", return_sequences=True)(x) # return_sequences=True is required for stacking recurrent cells\n",
        "# print(x.shape)\n",
        "x = layers.GRU(64, activation=\"tanh\")(x)\n",
        "outputs = layers.Dense(1, activation=\"sigmoid\")(x)\n",
        "model_3 = tf.keras.Model(inputs, outputs, name=\"model_3_GRU\")"
      ],
      "metadata": {
        "id": "vIkswErppABa"
      },
      "execution_count": 81,
      "outputs": []
    },
    {
      "cell_type": "code",
      "source": [
        "# Model_3 Summary \n",
        "model_3.summary()"
      ],
      "metadata": {
        "colab": {
          "base_uri": "https://localhost:8080/"
        },
        "id": "tZgdJwELpAEc",
        "outputId": "85bfef56-87d2-4455-9a6b-e9bdc0341584"
      },
      "execution_count": 82,
      "outputs": [
        {
          "output_type": "stream",
          "name": "stdout",
          "text": [
            "Model: \"model_3_GRU\"\n",
            "_________________________________________________________________\n",
            " Layer (type)                Output Shape              Param #   \n",
            "=================================================================\n",
            " input_3 (InputLayer)        [(None, 1)]               0         \n",
            "                                                                 \n",
            " text_vectorization_1 (TextV  (None, 15)               0         \n",
            " ectorization)                                                   \n",
            "                                                                 \n",
            " embedding (Embedding)       (None, 15, 128)           1280000   \n",
            "                                                                 \n",
            " gru (GRU)                   (None, 64)                37248     \n",
            "                                                                 \n",
            " dense_2 (Dense)             (None, 1)                 65        \n",
            "                                                                 \n",
            "=================================================================\n",
            "Total params: 1,317,313\n",
            "Trainable params: 1,317,313\n",
            "Non-trainable params: 0\n",
            "_________________________________________________________________\n"
          ]
        }
      ]
    },
    {
      "cell_type": "code",
      "source": [
        "# Compile the model \n",
        "model_3.compile(loss=\"binary_crossentropy\",\n",
        "                optimizer=tf.keras.optimizers.Adam(),\n",
        "                metrics=[\"accuracy\"])\n"
      ],
      "metadata": {
        "id": "hEvfIwe0pAHc"
      },
      "execution_count": 83,
      "outputs": []
    },
    {
      "cell_type": "code",
      "source": [
        "# Fit model\n",
        "model_3_history = model_3.fit(train_tweets,\n",
        "                              train_labels,\n",
        "                              epochs=10,\n",
        "                              validation_data=(val_tweets, val_labels),\n",
        "                              callbacks=[create_tensorboard_callback(dir_name=SAVE_DIR,\n",
        "                                                                     experiment_name=\"model_3_GRU\")])"
      ],
      "metadata": {
        "colab": {
          "base_uri": "https://localhost:8080/"
        },
        "id": "EC4LO-EmpAJt",
        "outputId": "949beccc-299c-4499-c2cb-6d5085a162da"
      },
      "execution_count": 84,
      "outputs": [
        {
          "output_type": "stream",
          "name": "stdout",
          "text": [
            "Saving TensorBoard log files to: model_logs/model_3_GRU/20220624-194535\n",
            "Epoch 1/10\n",
            "191/191 [==============================] - 3s 8ms/step - loss: 0.1283 - accuracy: 0.9486 - val_loss: 0.9443 - val_accuracy: 0.7741\n",
            "Epoch 2/10\n",
            "191/191 [==============================] - 1s 6ms/step - loss: 0.0522 - accuracy: 0.9808 - val_loss: 0.9078 - val_accuracy: 0.7636\n",
            "Epoch 3/10\n",
            "191/191 [==============================] - 1s 6ms/step - loss: 0.0487 - accuracy: 0.9790 - val_loss: 1.1299 - val_accuracy: 0.7702\n",
            "Epoch 4/10\n",
            "191/191 [==============================] - 1s 6ms/step - loss: 0.0373 - accuracy: 0.9816 - val_loss: 1.3096 - val_accuracy: 0.7610\n",
            "Epoch 5/10\n",
            "191/191 [==============================] - 1s 6ms/step - loss: 0.0412 - accuracy: 0.9814 - val_loss: 1.2483 - val_accuracy: 0.7708\n",
            "Epoch 6/10\n",
            "191/191 [==============================] - 1s 6ms/step - loss: 0.0320 - accuracy: 0.9826 - val_loss: 1.5608 - val_accuracy: 0.7538\n",
            "Epoch 7/10\n",
            "191/191 [==============================] - 1s 6ms/step - loss: 0.0393 - accuracy: 0.9829 - val_loss: 1.2839 - val_accuracy: 0.7682\n",
            "Epoch 8/10\n",
            "191/191 [==============================] - 1s 6ms/step - loss: 0.0324 - accuracy: 0.9846 - val_loss: 1.5092 - val_accuracy: 0.7689\n",
            "Epoch 9/10\n",
            "191/191 [==============================] - 1s 6ms/step - loss: 0.0309 - accuracy: 0.9837 - val_loss: 1.4854 - val_accuracy: 0.7695\n",
            "Epoch 10/10\n",
            "191/191 [==============================] - 1s 6ms/step - loss: 0.0317 - accuracy: 0.9837 - val_loss: 1.4035 - val_accuracy: 0.7656\n"
          ]
        }
      ]
    },
    {
      "cell_type": "code",
      "source": [
        "# Make predictions with model_3\n",
        "model_3_pred_probs = model_3.predict(val_tweets)\n",
        "model_3_pred_probs[:10], model_3_pred_probs.shape"
      ],
      "metadata": {
        "colab": {
          "base_uri": "https://localhost:8080/"
        },
        "id": "LFYWeJHao-W3",
        "outputId": "972dd85f-e214-4698-b2ca-80b41c1a5fc9"
      },
      "execution_count": 85,
      "outputs": [
        {
          "output_type": "execute_result",
          "data": {
            "text/plain": [
              "(array([[5.7061136e-01],\n",
              "        [8.5234457e-01],\n",
              "        [9.9992585e-01],\n",
              "        [2.5233752e-04],\n",
              "        [7.6386619e-05],\n",
              "        [9.9989903e-01],\n",
              "        [9.9875033e-01],\n",
              "        [9.9995422e-01],\n",
              "        [9.9992239e-01],\n",
              "        [9.9930155e-01]], dtype=float32), (1523, 1))"
            ]
          },
          "metadata": {},
          "execution_count": 85
        }
      ]
    },
    {
      "cell_type": "code",
      "source": [
        "# Convert model_3 pred probs into label format\n",
        "model_3_preds = tf.squeeze(tf.round(model_3_pred_probs))\n",
        "model_3_preds[:10]"
      ],
      "metadata": {
        "colab": {
          "base_uri": "https://localhost:8080/"
        },
        "id": "-H08YFaKo-ZH",
        "outputId": "af806b85-acab-41b6-8b2a-8bd5fcc4540e"
      },
      "execution_count": 86,
      "outputs": [
        {
          "output_type": "execute_result",
          "data": {
            "text/plain": [
              "<tf.Tensor: shape=(10,), dtype=float32, numpy=array([1., 1., 1., 0., 0., 1., 1., 1., 1., 1.], dtype=float32)>"
            ]
          },
          "metadata": {},
          "execution_count": 86
        }
      ]
    },
    {
      "cell_type": "code",
      "source": [
        "val_labels[:10]"
      ],
      "metadata": {
        "colab": {
          "base_uri": "https://localhost:8080/"
        },
        "id": "o6uJ82qS-h-V",
        "outputId": "1c33d836-4eb4-4d1c-8983-f2c415d33691"
      },
      "execution_count": 87,
      "outputs": [
        {
          "output_type": "execute_result",
          "data": {
            "text/plain": [
              "array([0, 0, 1, 1, 1, 1, 1, 1, 1, 0])"
            ]
          },
          "metadata": {},
          "execution_count": 87
        }
      ]
    },
    {
      "cell_type": "code",
      "source": [
        "# Calculate results for model_3\n",
        "model_3_results = calculate_results(y_true=val_labels,\n",
        "                                    y_pred=model_3_preds)\n",
        "model_3_results"
      ],
      "metadata": {
        "colab": {
          "base_uri": "https://localhost:8080/"
        },
        "id": "8d_6J484-iBq",
        "outputId": "1a62999c-033e-44fb-beea-50c6e668746b"
      },
      "execution_count": 88,
      "outputs": [
        {
          "output_type": "execute_result",
          "data": {
            "text/plain": [
              "{'accuracy': 0.7655942219304005,\n",
              " 'f1': 0.7656139383186525,\n",
              " 'precision': 0.7656343187690227,\n",
              " 'recall': 0.7655942219304005}"
            ]
          },
          "metadata": {},
          "execution_count": 88
        }
      ]
    },
    {
      "cell_type": "code",
      "source": [
        "baseline_results"
      ],
      "metadata": {
        "colab": {
          "base_uri": "https://localhost:8080/"
        },
        "id": "gRjAVCbI-iGK",
        "outputId": "ed492cd1-44fa-422f-97d4-578a1030a9cf"
      },
      "execution_count": 89,
      "outputs": [
        {
          "output_type": "execute_result",
          "data": {
            "text/plain": [
              "{'accuracy': 0.799080761654629,\n",
              " 'f1': 0.7920155324845473,\n",
              " 'precision': 0.8146358812834972,\n",
              " 'recall': 0.799080761654629}"
            ]
          },
          "metadata": {},
          "execution_count": 89
        }
      ]
    },
    {
      "cell_type": "markdown",
      "source": [
        "### **Model 4**: Bidirectional RNN Model"
      ],
      "metadata": {
        "id": "u7xh9Omr-tIb"
      }
    },
    {
      "cell_type": "code",
      "source": [
        "inputs = layers.Input(shape=(1,), dtype=\"string\")\n",
        "x = text_vectorizer(inputs)\n",
        "x = embedding(x)\n",
        "# x = layers.Bidirectional(layers.LSTM(64, return_sequences=True))(x) # return_sequences=True required for stacking RNN layers\n",
        "x = layers.Bidirectional(layers.LSTM(64))(x)\n",
        "outputs = layers.Dense(1, activation=\"sigmoid\")(x)\n",
        "model_4 = tf.keras.Model(inputs, outputs, name=\"model_4_bidirectional\")"
      ],
      "metadata": {
        "id": "2O-57UHq-tLj"
      },
      "execution_count": 90,
      "outputs": []
    },
    {
      "cell_type": "code",
      "source": [
        "# Get Model_4 Summary\n",
        "model_4.summary()"
      ],
      "metadata": {
        "colab": {
          "base_uri": "https://localhost:8080/"
        },
        "id": "BWngqkbJ-tOa",
        "outputId": "74997f2b-f3d0-4325-99de-82dd474103c6"
      },
      "execution_count": 91,
      "outputs": [
        {
          "output_type": "stream",
          "name": "stdout",
          "text": [
            "Model: \"model_4_bidirectional\"\n",
            "_________________________________________________________________\n",
            " Layer (type)                Output Shape              Param #   \n",
            "=================================================================\n",
            " input_4 (InputLayer)        [(None, 1)]               0         \n",
            "                                                                 \n",
            " text_vectorization_1 (TextV  (None, 15)               0         \n",
            " ectorization)                                                   \n",
            "                                                                 \n",
            " embedding (Embedding)       (None, 15, 128)           1280000   \n",
            "                                                                 \n",
            " bidirectional (Bidirectiona  (None, 128)              98816     \n",
            " l)                                                              \n",
            "                                                                 \n",
            " dense_3 (Dense)             (None, 1)                 129       \n",
            "                                                                 \n",
            "=================================================================\n",
            "Total params: 1,378,945\n",
            "Trainable params: 1,378,945\n",
            "Non-trainable params: 0\n",
            "_________________________________________________________________\n"
          ]
        }
      ]
    },
    {
      "cell_type": "code",
      "source": [
        "# Compile model_4\n",
        "model_4.compile(loss=\"binary_crossentropy\",\n",
        "                optimizer=tf.keras.optimizers.Adam(),\n",
        "                metrics=[\"accuracy\"])\n"
      ],
      "metadata": {
        "id": "Vq48UznL-tQ3"
      },
      "execution_count": 92,
      "outputs": []
    },
    {
      "cell_type": "code",
      "source": [
        "# Fit model_4\n",
        "history_model_4 = model_4.fit(train_tweets,\n",
        "                              train_labels,\n",
        "                              epochs=10,\n",
        "                              validation_data=(val_tweets, val_labels),\n",
        "                              callbacks=[create_tensorboard_callback(dir_name=SAVE_DIR,\n",
        "                                                                     experiment_name=\"model_4_bidirectional\")])"
      ],
      "metadata": {
        "colab": {
          "base_uri": "https://localhost:8080/"
        },
        "id": "Xk43thsPoTB7",
        "outputId": "f74939d5-b6f9-4786-b22b-68d5de990303"
      },
      "execution_count": 93,
      "outputs": [
        {
          "output_type": "stream",
          "name": "stdout",
          "text": [
            "Saving TensorBoard log files to: model_logs/model_4_bidirectional/20220624-194550\n",
            "Epoch 1/10\n",
            "191/191 [==============================] - 5s 12ms/step - loss: 0.0886 - accuracy: 0.9773 - val_loss: 1.0384 - val_accuracy: 0.7538\n",
            "Epoch 2/10\n",
            "191/191 [==============================] - 2s 8ms/step - loss: 0.0345 - accuracy: 0.9842 - val_loss: 1.3094 - val_accuracy: 0.7538\n",
            "Epoch 3/10\n",
            "191/191 [==============================] - 2s 8ms/step - loss: 0.0339 - accuracy: 0.9851 - val_loss: 1.3872 - val_accuracy: 0.7544\n",
            "Epoch 4/10\n",
            "191/191 [==============================] - 2s 8ms/step - loss: 0.0289 - accuracy: 0.9844 - val_loss: 1.4993 - val_accuracy: 0.7603\n",
            "Epoch 5/10\n",
            "191/191 [==============================] - 2s 8ms/step - loss: 0.0323 - accuracy: 0.9837 - val_loss: 1.3767 - val_accuracy: 0.7636\n",
            "Epoch 6/10\n",
            "191/191 [==============================] - 2s 8ms/step - loss: 0.0358 - accuracy: 0.9834 - val_loss: 1.3675 - val_accuracy: 0.7584\n",
            "Epoch 7/10\n",
            "191/191 [==============================] - 2s 9ms/step - loss: 0.0295 - accuracy: 0.9851 - val_loss: 1.4784 - val_accuracy: 0.7656\n",
            "Epoch 8/10\n",
            "191/191 [==============================] - 2s 8ms/step - loss: 0.0287 - accuracy: 0.9854 - val_loss: 1.5720 - val_accuracy: 0.7643\n",
            "Epoch 9/10\n",
            "191/191 [==============================] - 2s 8ms/step - loss: 0.0278 - accuracy: 0.9859 - val_loss: 1.5098 - val_accuracy: 0.7636\n",
            "Epoch 10/10\n",
            "191/191 [==============================] - 2s 8ms/step - loss: 0.0277 - accuracy: 0.9841 - val_loss: 1.4090 - val_accuracy: 0.7643\n"
          ]
        }
      ]
    },
    {
      "cell_type": "code",
      "source": [
        "# Make predictions with our bidirectional model\n",
        "model_4_pred_probs = model_4.predict(val_tweets)\n",
        "model_4_pred_probs[:10], model_4_pred_probs.shape"
      ],
      "metadata": {
        "colab": {
          "base_uri": "https://localhost:8080/"
        },
        "id": "kCy01bzuoTFR",
        "outputId": "6fcce03d-3eb2-4673-b74e-dcdf7046aa65"
      },
      "execution_count": 94,
      "outputs": [
        {
          "output_type": "execute_result",
          "data": {
            "text/plain": [
              "(array([[2.2444312e-02],\n",
              "        [6.7909038e-01],\n",
              "        [9.9997890e-01],\n",
              "        [3.4534368e-03],\n",
              "        [2.8160746e-05],\n",
              "        [9.9996245e-01],\n",
              "        [9.9882334e-01],\n",
              "        [9.9999225e-01],\n",
              "        [9.9994898e-01],\n",
              "        [9.9963164e-01]], dtype=float32), (1523, 1))"
            ]
          },
          "metadata": {},
          "execution_count": 94
        }
      ]
    },
    {
      "cell_type": "code",
      "source": [
        "\n",
        "type(val_labels)"
      ],
      "metadata": {
        "colab": {
          "base_uri": "https://localhost:8080/"
        },
        "id": "NDh3a2C8otXY",
        "outputId": "e33f9d38-93f8-40bf-ace3-2eb48287f40d"
      },
      "execution_count": 95,
      "outputs": [
        {
          "output_type": "execute_result",
          "data": {
            "text/plain": [
              "numpy.ndarray"
            ]
          },
          "metadata": {},
          "execution_count": 95
        }
      ]
    },
    {
      "cell_type": "code",
      "source": [
        "# Convert pred probs to label format\n",
        "model_4_preds = tf.squeeze(tf.round(model_4_pred_probs))\n",
        "model_4_preds[:10], val_labels[:10]"
      ],
      "metadata": {
        "colab": {
          "base_uri": "https://localhost:8080/"
        },
        "id": "0sIdEEynoTHh",
        "outputId": "0278a11a-f738-4bce-a6b5-515872d103f3"
      },
      "execution_count": 96,
      "outputs": [
        {
          "output_type": "execute_result",
          "data": {
            "text/plain": [
              "(<tf.Tensor: shape=(10,), dtype=float32, numpy=array([0., 1., 1., 0., 0., 1., 1., 1., 1., 1.], dtype=float32)>,\n",
              " array([0, 0, 1, 1, 1, 1, 1, 1, 1, 0]))"
            ]
          },
          "metadata": {},
          "execution_count": 96
        }
      ]
    },
    {
      "cell_type": "code",
      "source": [
        "# Calculate model 4 results\n",
        "model_4_results = calculate_results(y_true=val_labels,\n",
        "                                    y_pred=model_4_preds)\n",
        "model_4_results"
      ],
      "metadata": {
        "colab": {
          "base_uri": "https://localhost:8080/"
        },
        "id": "tB0PQA3goTKO",
        "outputId": "c950b7a7-7936-45c9-e39d-61b7eb306ee3"
      },
      "execution_count": 97,
      "outputs": [
        {
          "output_type": "execute_result",
          "data": {
            "text/plain": [
              "{'accuracy': 0.7642810242941562,\n",
              " 'f1': 0.7636125683497123,\n",
              " 'precision': 0.7635056752409535,\n",
              " 'recall': 0.7642810242941562}"
            ]
          },
          "metadata": {},
          "execution_count": 97
        }
      ]
    },
    {
      "cell_type": "markdown",
      "source": [
        "### **Model 5**: 1D Convolutional Neural Network"
      ],
      "metadata": {
        "id": "ysZIV1BQopTU"
      }
    },
    {
      "cell_type": "code",
      "source": [
        "# Let's do a little test to see what things look like through the eyes of a Conv1D layer\n",
        "embedding_test = embedding(text_vectorizer([\"My name is Ali Almalki\"])) # turn target sentence into embedding\n"
      ],
      "metadata": {
        "id": "sQIiKlLwo4QO"
      },
      "execution_count": 98,
      "outputs": []
    },
    {
      "cell_type": "code",
      "source": [
        "embedding_test"
      ],
      "metadata": {
        "colab": {
          "base_uri": "https://localhost:8080/"
        },
        "id": "4Fvt7_TRup_R",
        "outputId": "6484ead5-da9f-4f21-ed24-8f597b550bc0"
      },
      "execution_count": 99,
      "outputs": [
        {
          "output_type": "execute_result",
          "data": {
            "text/plain": [
              "<tf.Tensor: shape=(1, 15, 128), dtype=float32, numpy=\n",
              "array([[[-0.03484831,  0.07891946,  0.03130705, ..., -0.07721213,\n",
              "          0.07679687,  0.04936841],\n",
              "        [-0.17366818,  0.10822959,  0.12564838, ..., -0.06190975,\n",
              "          0.18643695,  0.09927509],\n",
              "        [-0.03236427, -0.0015175 ,  0.00573264, ..., -0.06320584,\n",
              "          0.02763166,  0.0475626 ],\n",
              "        ...,\n",
              "        [ 0.01229935,  0.02393961, -0.00995475, ..., -0.05394716,\n",
              "          0.03966745,  0.02072157],\n",
              "        [ 0.01229935,  0.02393961, -0.00995475, ..., -0.05394716,\n",
              "          0.03966745,  0.02072157],\n",
              "        [ 0.01229935,  0.02393961, -0.00995475, ..., -0.05394716,\n",
              "          0.03966745,  0.02072157]]], dtype=float32)>"
            ]
          },
          "metadata": {},
          "execution_count": 99
        }
      ]
    },
    {
      "cell_type": "code",
      "source": [
        "conv_1d_layer = layers.Conv1D(filters=32,\n",
        "                              kernel_size=5, # setting this to 5 means it'll look at 5 words at a time, 3 would mean 3 words at a time\n",
        "                              activation=\"relu\",\n",
        "                              padding=\"valid\")\n",
        "conv_1d_output = conv_1d_layer(embedding_test)\n",
        "max_pool = layers.GlobalMaxPool1D()\n",
        "max_pool_output = max_pool(conv_1d_output)\n",
        "print(f\"Embedding output shape: {embedding_test.shape}\")\n",
        "print(f\"Conv1D output shape: {conv_1d_output.shape}\")\n",
        "print(f\"Max pool output shape: {max_pool_output.shape}\")"
      ],
      "metadata": {
        "colab": {
          "base_uri": "https://localhost:8080/"
        },
        "id": "WSZdoXARo4TI",
        "outputId": "055b402c-f1d5-477f-8e62-ae5519e4c360"
      },
      "execution_count": 100,
      "outputs": [
        {
          "output_type": "stream",
          "name": "stdout",
          "text": [
            "Embedding output shape: (1, 15, 128)\n",
            "Conv1D output shape: (1, 11, 32)\n",
            "Max pool output shape: (1, 32)\n"
          ]
        }
      ]
    },
    {
      "cell_type": "code",
      "source": [
        "conv_1d_output"
      ],
      "metadata": {
        "colab": {
          "base_uri": "https://localhost:8080/"
        },
        "id": "zZSSBDb8o4V8",
        "outputId": "499e71aa-9a0b-40ab-82dd-7c2db448608c"
      },
      "execution_count": 101,
      "outputs": [
        {
          "output_type": "execute_result",
          "data": {
            "text/plain": [
              "<tf.Tensor: shape=(1, 11, 32), dtype=float32, numpy=\n",
              "array([[[0.00000000e+00, 1.12998299e-01, 0.00000000e+00, 2.80982871e-02,\n",
              "         1.40327573e-01, 0.00000000e+00, 1.16329163e-01, 0.00000000e+00,\n",
              "         7.76921748e-04, 2.29687572e-01, 7.26132244e-02, 0.00000000e+00,\n",
              "         9.70416144e-03, 0.00000000e+00, 2.01344088e-01, 6.18348196e-02,\n",
              "         0.00000000e+00, 9.47650075e-02, 3.36462036e-02, 0.00000000e+00,\n",
              "         0.00000000e+00, 0.00000000e+00, 0.00000000e+00, 0.00000000e+00,\n",
              "         0.00000000e+00, 2.03146100e-01, 0.00000000e+00, 0.00000000e+00,\n",
              "         8.96556675e-02, 2.25196540e-01, 0.00000000e+00, 1.84596270e-01],\n",
              "        [0.00000000e+00, 7.90804774e-02, 0.00000000e+00, 1.15980357e-01,\n",
              "         0.00000000e+00, 0.00000000e+00, 2.08787978e-01, 4.45160717e-02,\n",
              "         0.00000000e+00, 1.05603814e-01, 0.00000000e+00, 1.42181646e-02,\n",
              "         0.00000000e+00, 0.00000000e+00, 7.86727443e-02, 9.88077819e-02,\n",
              "         0.00000000e+00, 3.24571393e-02, 7.47762769e-02, 2.67003179e-02,\n",
              "         9.66577977e-02, 0.00000000e+00, 0.00000000e+00, 0.00000000e+00,\n",
              "         1.62273645e-02, 1.69854313e-01, 0.00000000e+00, 4.17975672e-02,\n",
              "         1.68478675e-02, 2.59732902e-01, 1.20824791e-01, 1.55539408e-01],\n",
              "        [1.76771282e-04, 0.00000000e+00, 0.00000000e+00, 8.47907066e-02,\n",
              "         1.99672207e-02, 0.00000000e+00, 9.28893536e-02, 4.29591611e-02,\n",
              "         0.00000000e+00, 2.08590552e-02, 3.89124453e-02, 0.00000000e+00,\n",
              "         4.03022543e-02, 0.00000000e+00, 0.00000000e+00, 7.67594576e-02,\n",
              "         3.17384414e-02, 4.02298942e-02, 5.10712527e-02, 0.00000000e+00,\n",
              "         8.15790743e-02, 0.00000000e+00, 0.00000000e+00, 0.00000000e+00,\n",
              "         0.00000000e+00, 8.64471793e-02, 0.00000000e+00, 0.00000000e+00,\n",
              "         1.03882495e-02, 6.48147613e-02, 6.51398599e-02, 6.51802272e-02],\n",
              "        [0.00000000e+00, 0.00000000e+00, 0.00000000e+00, 3.14285681e-02,\n",
              "         2.41455883e-02, 0.00000000e+00, 3.25435326e-02, 0.00000000e+00,\n",
              "         0.00000000e+00, 1.43070016e-02, 5.72443083e-02, 0.00000000e+00,\n",
              "         2.73766220e-02, 7.25226291e-03, 0.00000000e+00, 6.76599294e-02,\n",
              "         2.66149566e-02, 5.74053265e-03, 7.89647251e-02, 0.00000000e+00,\n",
              "         7.27124214e-02, 0.00000000e+00, 0.00000000e+00, 4.18072194e-03,\n",
              "         0.00000000e+00, 1.06350690e-01, 1.84396021e-02, 0.00000000e+00,\n",
              "         1.56714313e-03, 2.18988955e-02, 7.25061744e-02, 2.58285012e-02],\n",
              "        [5.47840213e-03, 0.00000000e+00, 9.25844535e-03, 0.00000000e+00,\n",
              "         1.11112278e-02, 0.00000000e+00, 4.78854030e-02, 0.00000000e+00,\n",
              "         0.00000000e+00, 2.19762400e-02, 5.97684309e-02, 0.00000000e+00,\n",
              "         2.72381529e-02, 3.44614405e-03, 0.00000000e+00, 9.69316214e-02,\n",
              "         0.00000000e+00, 2.76018791e-02, 6.00300170e-02, 0.00000000e+00,\n",
              "         5.92523515e-02, 0.00000000e+00, 0.00000000e+00, 2.76753865e-02,\n",
              "         0.00000000e+00, 5.25947586e-02, 0.00000000e+00, 0.00000000e+00,\n",
              "         0.00000000e+00, 2.88956165e-02, 4.69626933e-02, 0.00000000e+00],\n",
              "        [1.41933840e-03, 0.00000000e+00, 1.71153415e-02, 0.00000000e+00,\n",
              "         0.00000000e+00, 0.00000000e+00, 8.62160474e-02, 0.00000000e+00,\n",
              "         0.00000000e+00, 7.55655905e-03, 6.62212223e-02, 0.00000000e+00,\n",
              "         1.16099631e-02, 1.82541087e-04, 1.58801675e-02, 9.30077434e-02,\n",
              "         0.00000000e+00, 1.99829154e-02, 5.89584932e-02, 0.00000000e+00,\n",
              "         1.01117752e-02, 0.00000000e+00, 0.00000000e+00, 1.74011625e-02,\n",
              "         0.00000000e+00, 4.18922752e-02, 0.00000000e+00, 0.00000000e+00,\n",
              "         2.67993100e-03, 2.71657202e-02, 1.69100054e-03, 6.77237734e-02],\n",
              "        [1.41933828e-03, 0.00000000e+00, 1.71153601e-02, 0.00000000e+00,\n",
              "         0.00000000e+00, 0.00000000e+00, 8.62160474e-02, 0.00000000e+00,\n",
              "         0.00000000e+00, 7.55656511e-03, 6.62212297e-02, 0.00000000e+00,\n",
              "         1.16099566e-02, 1.82549833e-04, 1.58801712e-02, 9.30077434e-02,\n",
              "         0.00000000e+00, 1.99829191e-02, 5.89584894e-02, 0.00000000e+00,\n",
              "         1.01117529e-02, 0.00000000e+00, 0.00000000e+00, 1.74011663e-02,\n",
              "         0.00000000e+00, 4.18922603e-02, 0.00000000e+00, 0.00000000e+00,\n",
              "         2.67992751e-03, 2.71657109e-02, 1.69097190e-03, 6.77237883e-02],\n",
              "        [1.41933979e-03, 0.00000000e+00, 1.71153769e-02, 0.00000000e+00,\n",
              "         0.00000000e+00, 0.00000000e+00, 8.62160325e-02, 0.00000000e+00,\n",
              "         0.00000000e+00, 7.55654648e-03, 6.62212521e-02, 0.00000000e+00,\n",
              "         1.16099501e-02, 1.82547054e-04, 1.58801731e-02, 9.30077359e-02,\n",
              "         0.00000000e+00, 1.99829228e-02, 5.89585155e-02, 0.00000000e+00,\n",
              "         1.01117305e-02, 0.00000000e+00, 0.00000000e+00, 1.74011625e-02,\n",
              "         0.00000000e+00, 4.18922603e-02, 0.00000000e+00, 0.00000000e+00,\n",
              "         2.67993263e-03, 2.71657035e-02, 1.69097260e-03, 6.77237958e-02],\n",
              "        [1.41933910e-03, 0.00000000e+00, 1.71153639e-02, 0.00000000e+00,\n",
              "         0.00000000e+00, 0.00000000e+00, 8.62160474e-02, 0.00000000e+00,\n",
              "         0.00000000e+00, 7.55654369e-03, 6.62212297e-02, 0.00000000e+00,\n",
              "         1.16099585e-02, 1.82553136e-04, 1.58801880e-02, 9.30077210e-02,\n",
              "         0.00000000e+00, 1.99829265e-02, 5.89585155e-02, 0.00000000e+00,\n",
              "         1.01117417e-02, 0.00000000e+00, 0.00000000e+00, 1.74011551e-02,\n",
              "         0.00000000e+00, 4.18922454e-02, 0.00000000e+00, 0.00000000e+00,\n",
              "         2.67991982e-03, 2.71656979e-02, 1.69097865e-03, 6.77237809e-02],\n",
              "        [1.41934608e-03, 0.00000000e+00, 1.71153545e-02, 0.00000000e+00,\n",
              "         0.00000000e+00, 0.00000000e+00, 8.62160474e-02, 0.00000000e+00,\n",
              "         0.00000000e+00, 7.55655393e-03, 6.62212074e-02, 0.00000000e+00,\n",
              "         1.16099501e-02, 1.82550342e-04, 1.58801712e-02, 9.30077285e-02,\n",
              "         0.00000000e+00, 1.99829116e-02, 5.89584857e-02, 0.00000000e+00,\n",
              "         1.01117603e-02, 0.00000000e+00, 0.00000000e+00, 1.74011551e-02,\n",
              "         0.00000000e+00, 4.18922454e-02, 0.00000000e+00, 0.00000000e+00,\n",
              "         2.67992960e-03, 2.71657128e-02, 1.69098470e-03, 6.77237660e-02],\n",
              "        [1.41933665e-03, 0.00000000e+00, 1.71153527e-02, 0.00000000e+00,\n",
              "         0.00000000e+00, 0.00000000e+00, 8.62160325e-02, 0.00000000e+00,\n",
              "         0.00000000e+00, 7.55654974e-03, 6.62212223e-02, 0.00000000e+00,\n",
              "         1.16099548e-02, 1.82551710e-04, 1.58801712e-02, 9.30077434e-02,\n",
              "         0.00000000e+00, 1.99829154e-02, 5.89585081e-02, 0.00000000e+00,\n",
              "         1.01117492e-02, 0.00000000e+00, 0.00000000e+00, 1.74011700e-02,\n",
              "         0.00000000e+00, 4.18922529e-02, 0.00000000e+00, 0.00000000e+00,\n",
              "         2.67992262e-03, 2.71657147e-02, 1.69098319e-03, 6.77237660e-02]]],\n",
              "      dtype=float32)>"
            ]
          },
          "metadata": {},
          "execution_count": 101
        }
      ]
    },
    {
      "cell_type": "code",
      "source": [
        "inputs = layers.Input(shape=(1,), dtype=\"string\")\n",
        "x = text_vectorizer(inputs)\n",
        "x = embedding(x)\n",
        "x = layers.Conv1D(filters=64, kernel_size=5, strides=1 ,activation=\"relu\")(x)\n",
        "x = layers.GlobalMaxPool1D()(x)\n",
        "# x = layers.Dense(64, activation=\"relu\")(x)\n",
        "outputs = layers.Dense(1, activation=\"sigmoid\", name=\"output_layer\")(x)\n",
        "model_5 = tf.keras.Model(inputs, outputs, name=\"model_5_conv1d\")"
      ],
      "metadata": {
        "id": "H_6Ce1vfo4Yj"
      },
      "execution_count": 102,
      "outputs": []
    },
    {
      "cell_type": "code",
      "source": [
        "# Get model_5 summary \n",
        "model_5.summary()"
      ],
      "metadata": {
        "colab": {
          "base_uri": "https://localhost:8080/"
        },
        "id": "-CbqYMNq0iAb",
        "outputId": "6131de48-924a-44d6-f89b-0868848effb6"
      },
      "execution_count": 103,
      "outputs": [
        {
          "output_type": "stream",
          "name": "stdout",
          "text": [
            "Model: \"model_5_conv1d\"\n",
            "_________________________________________________________________\n",
            " Layer (type)                Output Shape              Param #   \n",
            "=================================================================\n",
            " input_5 (InputLayer)        [(None, 1)]               0         \n",
            "                                                                 \n",
            " text_vectorization_1 (TextV  (None, 15)               0         \n",
            " ectorization)                                                   \n",
            "                                                                 \n",
            " embedding (Embedding)       (None, 15, 128)           1280000   \n",
            "                                                                 \n",
            " conv1d_1 (Conv1D)           (None, 11, 64)            41024     \n",
            "                                                                 \n",
            " global_max_pooling1d_1 (Glo  (None, 64)               0         \n",
            " balMaxPooling1D)                                                \n",
            "                                                                 \n",
            " output_layer (Dense)        (None, 1)                 65        \n",
            "                                                                 \n",
            "=================================================================\n",
            "Total params: 1,321,089\n",
            "Trainable params: 1,321,089\n",
            "Non-trainable params: 0\n",
            "_________________________________________________________________\n"
          ]
        }
      ]
    },
    {
      "cell_type": "code",
      "source": [
        "# Set batch size to be 32 \n",
        "BATCH_SIZE = 32"
      ],
      "metadata": {
        "id": "4XbTI-qj0iD3"
      },
      "execution_count": 104,
      "outputs": []
    },
    {
      "cell_type": "code",
      "source": [
        "# Compile model\n",
        "model_5.compile(loss=\"binary_crossentropy\",\n",
        "                optimizer=tf.keras.optimizers.Adam(),\n",
        "                metrics=[\"accuracy\"])"
      ],
      "metadata": {
        "id": "X-xKSoqA0iGB"
      },
      "execution_count": 105,
      "outputs": []
    },
    {
      "cell_type": "code",
      "source": [
        "# Fit the model\n",
        "history_model_5 = model_5.fit(train_tweets,\n",
        "                              train_labels,\n",
        "                              epochs=10,\n",
        "                              batch_size=BATCH_SIZE,\n",
        "                              validation_data=(val_tweets, val_labels),\n",
        "                              callbacks=[create_tensorboard_callback(dir_name=SAVE_DIR,\n",
        "                                                                     experiment_name=\"model_5_conv1d\")])"
      ],
      "metadata": {
        "colab": {
          "base_uri": "https://localhost:8080/"
        },
        "id": "6AFgPddZ00vv",
        "outputId": "9c04fef5-2acc-41ce-a39f-9b10a8227530"
      },
      "execution_count": 106,
      "outputs": [
        {
          "output_type": "stream",
          "name": "stdout",
          "text": [
            "Saving TensorBoard log files to: model_logs/model_5_conv1d/20220624-194616\n",
            "Epoch 1/10\n",
            "191/191 [==============================] - 3s 8ms/step - loss: 0.0957 - accuracy: 0.9709 - val_loss: 0.9743 - val_accuracy: 0.7669\n",
            "Epoch 2/10\n",
            "191/191 [==============================] - 2s 9ms/step - loss: 0.0535 - accuracy: 0.9813 - val_loss: 1.1072 - val_accuracy: 0.7636\n",
            "Epoch 3/10\n",
            "191/191 [==============================] - 2s 8ms/step - loss: 0.0479 - accuracy: 0.9800 - val_loss: 1.2851 - val_accuracy: 0.7643\n",
            "Epoch 4/10\n",
            "191/191 [==============================] - 1s 7ms/step - loss: 0.0450 - accuracy: 0.9810 - val_loss: 1.2985 - val_accuracy: 0.7695\n",
            "Epoch 5/10\n",
            "191/191 [==============================] - 1s 5ms/step - loss: 0.0432 - accuracy: 0.9805 - val_loss: 1.2725 - val_accuracy: 0.7564\n",
            "Epoch 6/10\n",
            "191/191 [==============================] - 1s 5ms/step - loss: 0.0406 - accuracy: 0.9824 - val_loss: 1.2626 - val_accuracy: 0.7577\n",
            "Epoch 7/10\n",
            "191/191 [==============================] - 1s 5ms/step - loss: 0.0400 - accuracy: 0.9816 - val_loss: 1.2692 - val_accuracy: 0.7518\n",
            "Epoch 8/10\n",
            "191/191 [==============================] - 1s 5ms/step - loss: 0.0368 - accuracy: 0.9829 - val_loss: 1.2915 - val_accuracy: 0.7505\n",
            "Epoch 9/10\n",
            "191/191 [==============================] - 1s 5ms/step - loss: 0.0356 - accuracy: 0.9834 - val_loss: 1.3207 - val_accuracy: 0.7525\n",
            "Epoch 10/10\n",
            "191/191 [==============================] - 1s 5ms/step - loss: 0.0360 - accuracy: 0.9831 - val_loss: 1.2970 - val_accuracy: 0.7518\n"
          ]
        }
      ]
    },
    {
      "cell_type": "code",
      "source": [
        "# Make predictions with our 1D CNN\n",
        "model_5_pred_probs = model_5.predict(val_tweets)\n",
        "model_5_pred_probs[:5], model_5_pred_probs.shape"
      ],
      "metadata": {
        "colab": {
          "base_uri": "https://localhost:8080/"
        },
        "id": "1g2WMLpO00yz",
        "outputId": "3d67f409-ab34-4d7d-fa58-8d0577390b73"
      },
      "execution_count": 107,
      "outputs": [
        {
          "output_type": "execute_result",
          "data": {
            "text/plain": [
              "(array([[9.1451305e-01],\n",
              "        [9.4349027e-01],\n",
              "        [9.9999702e-01],\n",
              "        [1.1713248e-03],\n",
              "        [8.4589789e-07]], dtype=float32), (1523, 1))"
            ]
          },
          "metadata": {},
          "execution_count": 107
        }
      ]
    },
    {
      "cell_type": "code",
      "source": [
        "# Convert model 5 pred probs to label format \n",
        "model_5_preds = tf.squeeze(tf.round(model_5_pred_probs))\n",
        "model_5_preds[:10], val_labels[:10]"
      ],
      "metadata": {
        "colab": {
          "base_uri": "https://localhost:8080/"
        },
        "id": "6cLXR1rY001D",
        "outputId": "0b41c7aa-c115-42bb-ddeb-b93c152fc177"
      },
      "execution_count": 108,
      "outputs": [
        {
          "output_type": "execute_result",
          "data": {
            "text/plain": [
              "(<tf.Tensor: shape=(10,), dtype=float32, numpy=array([1., 1., 1., 0., 0., 1., 1., 1., 1., 1.], dtype=float32)>,\n",
              " array([0, 0, 1, 1, 1, 1, 1, 1, 1, 0]))"
            ]
          },
          "metadata": {},
          "execution_count": 108
        }
      ]
    },
    {
      "cell_type": "code",
      "source": [
        "# Calculate results for model 5\n",
        "model_5_results = calculate_results(y_true=val_labels,\n",
        "                                    y_pred=model_5_preds)\n",
        "model_5_results"
      ],
      "metadata": {
        "colab": {
          "base_uri": "https://localhost:8080/"
        },
        "id": "-H307cnf1D1b",
        "outputId": "adc16ad5-edf9-4c16-be79-b0e32c5f8ff2"
      },
      "execution_count": 109,
      "outputs": [
        {
          "output_type": "execute_result",
          "data": {
            "text/plain": [
              "{'accuracy': 0.7518056467498359,\n",
              " 'f1': 0.7518878055526148,\n",
              " 'precision': 0.7519803839588943,\n",
              " 'recall': 0.7518056467498359}"
            ]
          },
          "metadata": {},
          "execution_count": 109
        }
      ]
    },
    {
      "cell_type": "code",
      "source": [
        "baseline_results"
      ],
      "metadata": {
        "colab": {
          "base_uri": "https://localhost:8080/"
        },
        "id": "CdkjAAmb1D4-",
        "outputId": "5463f5bf-0449-4d92-e5ab-902fd7492756"
      },
      "execution_count": 110,
      "outputs": [
        {
          "output_type": "execute_result",
          "data": {
            "text/plain": [
              "{'accuracy': 0.799080761654629,\n",
              " 'f1': 0.7920155324845473,\n",
              " 'precision': 0.8146358812834972,\n",
              " 'recall': 0.799080761654629}"
            ]
          },
          "metadata": {},
          "execution_count": 110
        }
      ]
    },
    {
      "cell_type": "markdown",
      "source": [
        "### Try to improve model_5 Conv1D"
      ],
      "metadata": {
        "id": "FjheNL5Y2jd4"
      }
    },
    {
      "cell_type": "code",
      "source": [
        "inputs = layers.Input(shape=(1,), dtype=\"string\")\n",
        "x = text_vectorizer(inputs)\n",
        "x = embedding(x)\n",
        "x = layers.Conv1D(filters=64, kernel_size=5, strides=1 ,activation=\"relu\")(x)\n",
        "x = layers.Conv1D(filters=64, kernel_size=5, strides=1 ,activation=\"relu\")(x)\n",
        "x = layers.Conv1D(filters=64, kernel_size=5, strides=1 ,activation=\"relu\")(x)\n",
        "x = layers.GlobalMaxPool1D()(x)\n",
        "# x = layers.Dense(64, activation=\"relu\")(x)\n",
        "outputs = layers.Dense(1, activation=\"sigmoid\", name=\"output_layer\")(x)\n",
        "model_5_improved = tf.keras.Model(inputs, outputs, name=\"model_5_conv1d\")"
      ],
      "metadata": {
        "id": "cRkfbZ9_2jhN"
      },
      "execution_count": 111,
      "outputs": []
    },
    {
      "cell_type": "code",
      "source": [
        "# Get model summary \n",
        "model_5_improved.summary()"
      ],
      "metadata": {
        "colab": {
          "base_uri": "https://localhost:8080/"
        },
        "id": "1QjZ_MMw2jjf",
        "outputId": "9e516e47-18f6-4a69-e3cb-609c77a4b923"
      },
      "execution_count": 112,
      "outputs": [
        {
          "output_type": "stream",
          "name": "stdout",
          "text": [
            "Model: \"model_5_conv1d\"\n",
            "_________________________________________________________________\n",
            " Layer (type)                Output Shape              Param #   \n",
            "=================================================================\n",
            " input_6 (InputLayer)        [(None, 1)]               0         \n",
            "                                                                 \n",
            " text_vectorization_1 (TextV  (None, 15)               0         \n",
            " ectorization)                                                   \n",
            "                                                                 \n",
            " embedding (Embedding)       (None, 15, 128)           1280000   \n",
            "                                                                 \n",
            " conv1d_2 (Conv1D)           (None, 11, 64)            41024     \n",
            "                                                                 \n",
            " conv1d_3 (Conv1D)           (None, 7, 64)             20544     \n",
            "                                                                 \n",
            " conv1d_4 (Conv1D)           (None, 3, 64)             20544     \n",
            "                                                                 \n",
            " global_max_pooling1d_2 (Glo  (None, 64)               0         \n",
            " balMaxPooling1D)                                                \n",
            "                                                                 \n",
            " output_layer (Dense)        (None, 1)                 65        \n",
            "                                                                 \n",
            "=================================================================\n",
            "Total params: 1,362,177\n",
            "Trainable params: 1,362,177\n",
            "Non-trainable params: 0\n",
            "_________________________________________________________________\n"
          ]
        }
      ]
    },
    {
      "cell_type": "code",
      "source": [
        "# Set batch size to be 32 \n",
        "BATCH_SIZE = 32"
      ],
      "metadata": {
        "id": "Rb3J92pZ3Bxq"
      },
      "execution_count": 113,
      "outputs": []
    },
    {
      "cell_type": "code",
      "source": [
        "# Compile model\n",
        "model_5_improved.compile(loss=\"binary_crossentropy\",\n",
        "                optimizer=tf.keras.optimizers.Adam(),\n",
        "                metrics=[\"accuracy\"])\n",
        "\n"
      ],
      "metadata": {
        "id": "LVOoqkXW3B1O"
      },
      "execution_count": 114,
      "outputs": []
    },
    {
      "cell_type": "code",
      "source": [
        "# Fit the model\n",
        "history_model_5_improved = model_5_improved.fit(train_tweets,\n",
        "                              train_labels,\n",
        "                              epochs=50,\n",
        "                              batch_size=BATCH_SIZE,\n",
        "                              validation_data=(val_tweets, val_labels),\n",
        "                              callbacks=[create_tensorboard_callback(dir_name=SAVE_DIR,\n",
        "                                                                     experiment_name=\"model_5_conv1d_improved\")])"
      ],
      "metadata": {
        "colab": {
          "base_uri": "https://localhost:8080/"
        },
        "id": "k8uPHGG23B30",
        "outputId": "ac211418-9f91-4b58-ecdb-37b165fea637"
      },
      "execution_count": 115,
      "outputs": [
        {
          "output_type": "stream",
          "name": "stdout",
          "text": [
            "Saving TensorBoard log files to: model_logs/model_5_conv1d_improved/20220624-194631\n",
            "Epoch 1/50\n",
            "191/191 [==============================] - 2s 8ms/step - loss: 0.0885 - accuracy: 0.9662 - val_loss: 1.1375 - val_accuracy: 0.7531\n",
            "Epoch 2/50\n",
            "191/191 [==============================] - 1s 6ms/step - loss: 0.0409 - accuracy: 0.9814 - val_loss: 1.6107 - val_accuracy: 0.7610\n",
            "Epoch 3/50\n",
            "191/191 [==============================] - 2s 9ms/step - loss: 0.0333 - accuracy: 0.9831 - val_loss: 1.7373 - val_accuracy: 0.7617\n",
            "Epoch 4/50\n",
            "191/191 [==============================] - 2s 10ms/step - loss: 0.0304 - accuracy: 0.9831 - val_loss: 1.8281 - val_accuracy: 0.7571\n",
            "Epoch 5/50\n",
            "191/191 [==============================] - 2s 10ms/step - loss: 0.0285 - accuracy: 0.9841 - val_loss: 1.9226 - val_accuracy: 0.7498\n",
            "Epoch 6/50\n",
            "191/191 [==============================] - 2s 9ms/step - loss: 0.0280 - accuracy: 0.9852 - val_loss: 2.1810 - val_accuracy: 0.7452\n",
            "Epoch 7/50\n",
            "191/191 [==============================] - 1s 6ms/step - loss: 0.0274 - accuracy: 0.9862 - val_loss: 2.3439 - val_accuracy: 0.7505\n",
            "Epoch 8/50\n",
            "191/191 [==============================] - 1s 6ms/step - loss: 0.0255 - accuracy: 0.9859 - val_loss: 2.5677 - val_accuracy: 0.7603\n",
            "Epoch 9/50\n",
            "191/191 [==============================] - 1s 6ms/step - loss: 0.0257 - accuracy: 0.9870 - val_loss: 2.6674 - val_accuracy: 0.7406\n",
            "Epoch 10/50\n",
            "191/191 [==============================] - 1s 6ms/step - loss: 0.0253 - accuracy: 0.9859 - val_loss: 2.5233 - val_accuracy: 0.7590\n",
            "Epoch 11/50\n",
            "191/191 [==============================] - 1s 6ms/step - loss: 0.0248 - accuracy: 0.9870 - val_loss: 2.8636 - val_accuracy: 0.7387\n",
            "Epoch 12/50\n",
            "191/191 [==============================] - 1s 6ms/step - loss: 0.0245 - accuracy: 0.9869 - val_loss: 3.0817 - val_accuracy: 0.7577\n",
            "Epoch 13/50\n",
            "191/191 [==============================] - 1s 6ms/step - loss: 0.0311 - accuracy: 0.9857 - val_loss: 3.1871 - val_accuracy: 0.7387\n",
            "Epoch 14/50\n",
            "191/191 [==============================] - 1s 6ms/step - loss: 0.0425 - accuracy: 0.9824 - val_loss: 2.5279 - val_accuracy: 0.7400\n",
            "Epoch 15/50\n",
            "191/191 [==============================] - 1s 6ms/step - loss: 0.0261 - accuracy: 0.9874 - val_loss: 2.4173 - val_accuracy: 0.7479\n",
            "Epoch 16/50\n",
            "191/191 [==============================] - 1s 6ms/step - loss: 0.0248 - accuracy: 0.9865 - val_loss: 2.8034 - val_accuracy: 0.7420\n",
            "Epoch 17/50\n",
            "191/191 [==============================] - 1s 7ms/step - loss: 0.0242 - accuracy: 0.9860 - val_loss: 2.7818 - val_accuracy: 0.7459\n",
            "Epoch 18/50\n",
            "191/191 [==============================] - 2s 9ms/step - loss: 0.0238 - accuracy: 0.9875 - val_loss: 2.7944 - val_accuracy: 0.7479\n",
            "Epoch 19/50\n",
            "191/191 [==============================] - 2s 10ms/step - loss: 0.0237 - accuracy: 0.9874 - val_loss: 3.0464 - val_accuracy: 0.7498\n",
            "Epoch 20/50\n",
            "191/191 [==============================] - 2s 10ms/step - loss: 0.0236 - accuracy: 0.9872 - val_loss: 2.7430 - val_accuracy: 0.7446\n",
            "Epoch 21/50\n",
            "191/191 [==============================] - 1s 6ms/step - loss: 0.0229 - accuracy: 0.9875 - val_loss: 3.2473 - val_accuracy: 0.7433\n",
            "Epoch 22/50\n",
            "191/191 [==============================] - 1s 6ms/step - loss: 0.0228 - accuracy: 0.9875 - val_loss: 3.0644 - val_accuracy: 0.7406\n",
            "Epoch 23/50\n",
            "191/191 [==============================] - 1s 6ms/step - loss: 0.0230 - accuracy: 0.9877 - val_loss: 3.1467 - val_accuracy: 0.7452\n",
            "Epoch 24/50\n",
            "191/191 [==============================] - 1s 6ms/step - loss: 0.0227 - accuracy: 0.9870 - val_loss: 3.3224 - val_accuracy: 0.7420\n",
            "Epoch 25/50\n",
            "191/191 [==============================] - 1s 6ms/step - loss: 0.0239 - accuracy: 0.9872 - val_loss: 3.2111 - val_accuracy: 0.7433\n",
            "Epoch 26/50\n",
            "191/191 [==============================] - 1s 6ms/step - loss: 0.0334 - accuracy: 0.9852 - val_loss: 2.7155 - val_accuracy: 0.7603\n",
            "Epoch 27/50\n",
            "191/191 [==============================] - 1s 6ms/step - loss: 0.0257 - accuracy: 0.9867 - val_loss: 2.7443 - val_accuracy: 0.7557\n",
            "Epoch 28/50\n",
            "191/191 [==============================] - 1s 6ms/step - loss: 0.0228 - accuracy: 0.9880 - val_loss: 2.9657 - val_accuracy: 0.7498\n",
            "Epoch 29/50\n",
            "191/191 [==============================] - 1s 6ms/step - loss: 0.0227 - accuracy: 0.9875 - val_loss: 2.9903 - val_accuracy: 0.7544\n",
            "Epoch 30/50\n",
            "191/191 [==============================] - 1s 6ms/step - loss: 0.0222 - accuracy: 0.9882 - val_loss: 3.0961 - val_accuracy: 0.7525\n",
            "Epoch 31/50\n",
            "191/191 [==============================] - 1s 6ms/step - loss: 0.0221 - accuracy: 0.9872 - val_loss: 3.1291 - val_accuracy: 0.7531\n",
            "Epoch 32/50\n",
            "191/191 [==============================] - 1s 6ms/step - loss: 0.0221 - accuracy: 0.9880 - val_loss: 3.1547 - val_accuracy: 0.7538\n",
            "Epoch 33/50\n",
            "191/191 [==============================] - 1s 6ms/step - loss: 0.0222 - accuracy: 0.9883 - val_loss: 3.3630 - val_accuracy: 0.7557\n",
            "Epoch 34/50\n",
            "191/191 [==============================] - 1s 6ms/step - loss: 0.0217 - accuracy: 0.9880 - val_loss: 3.4398 - val_accuracy: 0.7531\n",
            "Epoch 35/50\n",
            "191/191 [==============================] - 1s 6ms/step - loss: 0.0220 - accuracy: 0.9882 - val_loss: 3.1647 - val_accuracy: 0.7525\n",
            "Epoch 36/50\n",
            "191/191 [==============================] - 1s 6ms/step - loss: 0.0220 - accuracy: 0.9880 - val_loss: 3.0219 - val_accuracy: 0.7439\n",
            "Epoch 37/50\n",
            "191/191 [==============================] - 1s 6ms/step - loss: 0.0220 - accuracy: 0.9882 - val_loss: 3.3793 - val_accuracy: 0.7485\n",
            "Epoch 38/50\n",
            "191/191 [==============================] - 1s 6ms/step - loss: 0.0219 - accuracy: 0.9877 - val_loss: 3.4538 - val_accuracy: 0.7472\n",
            "Epoch 39/50\n",
            "191/191 [==============================] - 1s 6ms/step - loss: 0.0217 - accuracy: 0.9883 - val_loss: 3.8213 - val_accuracy: 0.7564\n",
            "Epoch 40/50\n",
            "191/191 [==============================] - 1s 6ms/step - loss: 0.0239 - accuracy: 0.9872 - val_loss: 3.1607 - val_accuracy: 0.7452\n",
            "Epoch 41/50\n",
            "191/191 [==============================] - 1s 6ms/step - loss: 0.0262 - accuracy: 0.9867 - val_loss: 3.5902 - val_accuracy: 0.7406\n",
            "Epoch 42/50\n",
            "191/191 [==============================] - 1s 6ms/step - loss: 0.0299 - accuracy: 0.9860 - val_loss: 3.1559 - val_accuracy: 0.7518\n",
            "Epoch 43/50\n",
            "191/191 [==============================] - 1s 6ms/step - loss: 0.0248 - accuracy: 0.9872 - val_loss: 3.2119 - val_accuracy: 0.7511\n",
            "Epoch 44/50\n",
            "191/191 [==============================] - 1s 6ms/step - loss: 0.0227 - accuracy: 0.9874 - val_loss: 3.5570 - val_accuracy: 0.7505\n",
            "Epoch 45/50\n",
            "191/191 [==============================] - 1s 6ms/step - loss: 0.0271 - accuracy: 0.9862 - val_loss: 3.5948 - val_accuracy: 0.7334\n",
            "Epoch 46/50\n",
            "191/191 [==============================] - 1s 6ms/step - loss: 0.0242 - accuracy: 0.9878 - val_loss: 3.2837 - val_accuracy: 0.7511\n",
            "Epoch 47/50\n",
            "191/191 [==============================] - 2s 9ms/step - loss: 0.0228 - accuracy: 0.9874 - val_loss: 3.3540 - val_accuracy: 0.7538\n",
            "Epoch 48/50\n",
            "191/191 [==============================] - 1s 7ms/step - loss: 0.0217 - accuracy: 0.9869 - val_loss: 3.2807 - val_accuracy: 0.7479\n",
            "Epoch 49/50\n",
            "191/191 [==============================] - 1s 6ms/step - loss: 0.0217 - accuracy: 0.9880 - val_loss: 3.2623 - val_accuracy: 0.7472\n",
            "Epoch 50/50\n",
            "191/191 [==============================] - 1s 6ms/step - loss: 0.0213 - accuracy: 0.9878 - val_loss: 3.4315 - val_accuracy: 0.7472\n"
          ]
        }
      ]
    },
    {
      "cell_type": "code",
      "source": [
        "# Make predictions with our improved 1D CNN \n",
        "model_5_improved_pred_probs = model_5_improved.predict(val_tweets)\n",
        "model_5_improved_pred_probs[:5], model_5_improved_pred_probs.shape"
      ],
      "metadata": {
        "colab": {
          "base_uri": "https://localhost:8080/"
        },
        "id": "PIKV5uao3XUj",
        "outputId": "4c795186-dc2a-479d-c6ab-45abd798dcad"
      },
      "execution_count": 116,
      "outputs": [
        {
          "output_type": "execute_result",
          "data": {
            "text/plain": [
              "(array([[4.1224223e-02],\n",
              "        [9.8807400e-01],\n",
              "        [1.0000000e+00],\n",
              "        [1.5698951e-07],\n",
              "        [1.2972199e-15]], dtype=float32), (1523, 1))"
            ]
          },
          "metadata": {},
          "execution_count": 116
        }
      ]
    },
    {
      "cell_type": "code",
      "source": [
        "# Convert model 5 improved pred probs to label format\n",
        "model_5_improved_preds = tf.squeeze(tf.round(model_5_pred_probs))\n",
        "model_5_improved_preds[:10], val_labels[:10]"
      ],
      "metadata": {
        "colab": {
          "base_uri": "https://localhost:8080/"
        },
        "id": "YkbjWlY43XXq",
        "outputId": "53a93086-a480-4c5e-fc59-412c15a4d548"
      },
      "execution_count": 117,
      "outputs": [
        {
          "output_type": "execute_result",
          "data": {
            "text/plain": [
              "(<tf.Tensor: shape=(10,), dtype=float32, numpy=array([1., 1., 1., 0., 0., 1., 1., 1., 1., 1.], dtype=float32)>,\n",
              " array([0, 0, 1, 1, 1, 1, 1, 1, 1, 0]))"
            ]
          },
          "metadata": {},
          "execution_count": 117
        }
      ]
    },
    {
      "cell_type": "code",
      "source": [
        "# Calculate results for model 5\n",
        "model_5_improved_results = calculate_results(y_true=val_labels,\n",
        "                                    y_pred=model_5_improved_preds)\n",
        "model_5_improved_results"
      ],
      "metadata": {
        "colab": {
          "base_uri": "https://localhost:8080/"
        },
        "id": "ssecAMNG3Xad",
        "outputId": "d0bfd715-0ec2-4ee2-c3f5-0afa6477d9f0"
      },
      "execution_count": 118,
      "outputs": [
        {
          "output_type": "execute_result",
          "data": {
            "text/plain": [
              "{'accuracy': 0.7518056467498359,\n",
              " 'f1': 0.7518878055526148,\n",
              " 'precision': 0.7519803839588943,\n",
              " 'recall': 0.7518056467498359}"
            ]
          },
          "metadata": {},
          "execution_count": 118
        }
      ]
    },
    {
      "cell_type": "code",
      "source": [
        "baseline_results"
      ],
      "metadata": {
        "colab": {
          "base_uri": "https://localhost:8080/"
        },
        "id": "Fll6jbzH3Xc9",
        "outputId": "f96069c7-89e9-41b4-e161-ebf2f0fbe460"
      },
      "execution_count": 119,
      "outputs": [
        {
          "output_type": "execute_result",
          "data": {
            "text/plain": [
              "{'accuracy': 0.799080761654629,\n",
              " 'f1': 0.7920155324845473,\n",
              " 'precision': 0.8146358812834972,\n",
              " 'recall': 0.799080761654629}"
            ]
          },
          "metadata": {},
          "execution_count": 119
        }
      ]
    },
    {
      "cell_type": "markdown",
      "source": [
        "### **Model 6**: TensorFlow Hub Pretrained Feature Extractor"
      ],
      "metadata": {
        "id": "G2IIcM-z1Mde"
      }
    },
    {
      "cell_type": "code",
      "source": [
        "# Load USE pre-trained embedding layer \n",
        "embed = hub.load(\"https://tfhub.dev/google/universal-sentence-encoder/4\")"
      ],
      "metadata": {
        "id": "yfSLAJD71Mgu"
      },
      "execution_count": 120,
      "outputs": []
    },
    {
      "cell_type": "code",
      "source": [
        "sample_sentence = \"This is a sample sentence\""
      ],
      "metadata": {
        "id": "c8FyUhcn8Zud"
      },
      "execution_count": 121,
      "outputs": []
    },
    {
      "cell_type": "code",
      "source": [
        "embed_samples = embed([sample_sentence,\n",
        "                       \"When you can the universal sentence encoder on a sentence, it turns it into numbers.\"])\n",
        "print(embed_samples[0][:50])"
      ],
      "metadata": {
        "colab": {
          "base_uri": "https://localhost:8080/"
        },
        "id": "bIh-TUXK1Mja",
        "outputId": "bf111c69-92c1-4a46-8a32-081906320f9c"
      },
      "execution_count": 122,
      "outputs": [
        {
          "output_type": "stream",
          "name": "stdout",
          "text": [
            "tf.Tensor(\n",
            "[ 0.02977698 -0.00973895  0.00557957  0.02802082 -0.06812037  0.00998993\n",
            "  0.0533644   0.06521872  0.00836992  0.02471027 -0.03885113  0.00238559\n",
            " -0.04320041  0.06734677 -0.01469686 -0.07557523 -0.02528279 -0.00998903\n",
            " -0.03554086 -0.03333504  0.03651324  0.0555104  -0.02342965  0.06534462\n",
            " -0.06750899  0.07081413 -0.00211465 -0.07342657  0.03833517 -0.04406539\n",
            "  0.02539304 -0.00729961 -0.02637325 -0.03199447 -0.09696697  0.0014572\n",
            "  0.00869264  0.00793812 -0.05916344  0.00559159 -0.02367862  0.03981502\n",
            " -0.03100172  0.06804526 -0.04422791  0.00125464  0.05244232 -0.01462981\n",
            "  0.04709483 -0.00095289], shape=(50,), dtype=float32)\n"
          ]
        }
      ]
    },
    {
      "cell_type": "code",
      "source": [
        "embed_samples.shape"
      ],
      "metadata": {
        "colab": {
          "base_uri": "https://localhost:8080/"
        },
        "id": "3PKOGgn88oh0",
        "outputId": "0f0cf05e-afb4-46c7-fd53-049a7fac51f7"
      },
      "execution_count": 123,
      "outputs": [
        {
          "output_type": "execute_result",
          "data": {
            "text/plain": [
              "TensorShape([2, 512])"
            ]
          },
          "metadata": {},
          "execution_count": 123
        }
      ]
    },
    {
      "cell_type": "code",
      "source": [
        "# Create a Keras Layer using the USE pretrained layer from tensorflow hub\n",
        "sentence_encoder_layer = hub.KerasLayer(\"https://tfhub.dev/google/universal-sentence-encoder/4\",\n",
        "                                        input_shape=[], # Any input length can go into this embedding layer\n",
        "                                        dtype=tf.string,\n",
        "                                        trainable=False,\n",
        "                                        name=\"USE\")"
      ],
      "metadata": {
        "id": "Kfk8PPu68olQ"
      },
      "execution_count": 124,
      "outputs": []
    },
    {
      "cell_type": "code",
      "source": [
        "# Create model using the Sequential API\n",
        "model_6 = tf.keras.Sequential([\n",
        "  sentence_encoder_layer,\n",
        "  layers.Dense(64, activation=\"relu\"),\n",
        "  layers.Dense(1, activation=\"sigmoid\", name=\"output_layer\")                               \n",
        "], name=\"model_6_USE\")\n",
        "\n"
      ],
      "metadata": {
        "id": "F-aACYiv8_oc"
      },
      "execution_count": 125,
      "outputs": []
    },
    {
      "cell_type": "code",
      "source": [
        "# Compile model_6\n",
        "model_6.compile(loss=\"binary_crossentropy\",\n",
        "                optimizer=tf.keras.optimizers.Adam(),\n",
        "                metrics=[\"accuracy\"])\n",
        "\n"
      ],
      "metadata": {
        "id": "kyCbvEv98_rh"
      },
      "execution_count": 126,
      "outputs": []
    },
    {
      "cell_type": "code",
      "source": [
        "# Get model_6 summary \n",
        "model_6.summary()"
      ],
      "metadata": {
        "colab": {
          "base_uri": "https://localhost:8080/"
        },
        "id": "j4Eof2hO8_uW",
        "outputId": "253fe5f3-3918-4a04-88ed-30c058f6ccc5"
      },
      "execution_count": 127,
      "outputs": [
        {
          "output_type": "stream",
          "name": "stdout",
          "text": [
            "Model: \"model_6_USE\"\n",
            "_________________________________________________________________\n",
            " Layer (type)                Output Shape              Param #   \n",
            "=================================================================\n",
            " USE (KerasLayer)            (None, 512)               256797824 \n",
            "                                                                 \n",
            " dense_4 (Dense)             (None, 64)                32832     \n",
            "                                                                 \n",
            " output_layer (Dense)        (None, 1)                 65        \n",
            "                                                                 \n",
            "=================================================================\n",
            "Total params: 256,830,721\n",
            "Trainable params: 32,897\n",
            "Non-trainable params: 256,797,824\n",
            "_________________________________________________________________\n"
          ]
        }
      ]
    },
    {
      "cell_type": "code",
      "source": [
        "# Train a classifier on top of USE pretrained embeddings\n",
        "model_6_history = model_6.fit(train_tweets,\n",
        "                              train_labels,\n",
        "                              epochs=10,\n",
        "                              validation_data=(val_tweets, val_labels),\n",
        "                              callbacks=[create_tensorboard_callback(SAVE_DIR,\n",
        "                                                                     \"tf_hub_sentence_encoder\")])"
      ],
      "metadata": {
        "colab": {
          "base_uri": "https://localhost:8080/"
        },
        "id": "YItVIDYM9dvf",
        "outputId": "32721e80-abd0-4396-fbeb-d3fb1afe2b81"
      },
      "execution_count": 128,
      "outputs": [
        {
          "output_type": "stream",
          "name": "stdout",
          "text": [
            "Saving TensorBoard log files to: model_logs/tf_hub_sentence_encoder/20220624-194816\n",
            "Epoch 1/10\n",
            "191/191 [==============================] - 5s 15ms/step - loss: 0.5125 - accuracy: 0.7828 - val_loss: 0.4486 - val_accuracy: 0.7958\n",
            "Epoch 2/10\n",
            "191/191 [==============================] - 3s 13ms/step - loss: 0.4139 - accuracy: 0.8158 - val_loss: 0.4420 - val_accuracy: 0.7978\n",
            "Epoch 3/10\n",
            "191/191 [==============================] - 3s 13ms/step - loss: 0.3979 - accuracy: 0.8241 - val_loss: 0.4405 - val_accuracy: 0.7997\n",
            "Epoch 4/10\n",
            "191/191 [==============================] - 2s 12ms/step - loss: 0.3897 - accuracy: 0.8274 - val_loss: 0.4371 - val_accuracy: 0.8043\n",
            "Epoch 5/10\n",
            "191/191 [==============================] - 3s 13ms/step - loss: 0.3831 - accuracy: 0.8307 - val_loss: 0.4369 - val_accuracy: 0.8063\n",
            "Epoch 6/10\n",
            "191/191 [==============================] - 2s 12ms/step - loss: 0.3779 - accuracy: 0.8338 - val_loss: 0.4367 - val_accuracy: 0.8050\n",
            "Epoch 7/10\n",
            "191/191 [==============================] - 3s 13ms/step - loss: 0.3734 - accuracy: 0.8325 - val_loss: 0.4339 - val_accuracy: 0.8148\n",
            "Epoch 8/10\n",
            "191/191 [==============================] - 3s 13ms/step - loss: 0.3678 - accuracy: 0.8381 - val_loss: 0.4370 - val_accuracy: 0.8063\n",
            "Epoch 9/10\n",
            "191/191 [==============================] - 2s 13ms/step - loss: 0.3623 - accuracy: 0.8419 - val_loss: 0.4362 - val_accuracy: 0.8148\n",
            "Epoch 10/10\n",
            "191/191 [==============================] - 2s 12ms/step - loss: 0.3568 - accuracy: 0.8429 - val_loss: 0.4347 - val_accuracy: 0.8155\n"
          ]
        }
      ]
    },
    {
      "cell_type": "code",
      "source": [
        "# Make predictions with model_6 USE TF Hub Model\n",
        "model_6_pred_probs = model_6.predict(val_tweets)\n",
        "model_6_pred_probs[:10]"
      ],
      "metadata": {
        "colab": {
          "base_uri": "https://localhost:8080/"
        },
        "id": "ybx0OeGA9dyX",
        "outputId": "387f38cd-3074-4681-bb3b-375c55f4d540"
      },
      "execution_count": 129,
      "outputs": [
        {
          "output_type": "execute_result",
          "data": {
            "text/plain": [
              "array([[0.20928274],\n",
              "       [0.81411994],\n",
              "       [0.9947031 ],\n",
              "       [0.12646978],\n",
              "       [0.67640924],\n",
              "       [0.788631  ],\n",
              "       [0.98854464],\n",
              "       [0.99007297],\n",
              "       [0.9383287 ],\n",
              "       [0.0823497 ]], dtype=float32)"
            ]
          },
          "metadata": {},
          "execution_count": 129
        }
      ]
    },
    {
      "cell_type": "code",
      "source": [
        "# Convert prediction probabilities to label format\n",
        "model_6_preds = tf.squeeze(tf.round(model_6_pred_probs))\n",
        "model_6_preds[:10], val_labels[:10]"
      ],
      "metadata": {
        "colab": {
          "base_uri": "https://localhost:8080/"
        },
        "id": "dko_RRzp9d1O",
        "outputId": "519ca5b9-e65e-4872-a2e1-ca4c36e9e0ac"
      },
      "execution_count": 130,
      "outputs": [
        {
          "output_type": "execute_result",
          "data": {
            "text/plain": [
              "(<tf.Tensor: shape=(10,), dtype=float32, numpy=array([0., 1., 1., 0., 1., 1., 1., 1., 1., 0.], dtype=float32)>,\n",
              " array([0, 0, 1, 1, 1, 1, 1, 1, 1, 0]))"
            ]
          },
          "metadata": {},
          "execution_count": 130
        }
      ]
    },
    {
      "cell_type": "code",
      "source": [
        "# Calculate model 6 performance metrics\n",
        "model_6_results = calculate_results(y_true=val_labels,\n",
        "                                    y_pred=model_6_preds)\n",
        "model_6_results"
      ],
      "metadata": {
        "colab": {
          "base_uri": "https://localhost:8080/"
        },
        "id": "Rra6KQuw9wo9",
        "outputId": "e3f7fc7a-94b6-4b88-d556-9eede83124f5"
      },
      "execution_count": 131,
      "outputs": [
        {
          "output_type": "execute_result",
          "data": {
            "text/plain": [
              "{'accuracy': 0.8154957321076822,\n",
              " 'f1': 0.8137301795543065,\n",
              " 'precision': 0.8165200610381643,\n",
              " 'recall': 0.8154957321076822}"
            ]
          },
          "metadata": {},
          "execution_count": 131
        }
      ]
    },
    {
      "cell_type": "code",
      "source": [
        "baseline_results"
      ],
      "metadata": {
        "colab": {
          "base_uri": "https://localhost:8080/"
        },
        "id": "Ko3hZM1p9wsm",
        "outputId": "30b44c10-3b8b-4bf6-c236-9f5c9d4164cc"
      },
      "execution_count": 132,
      "outputs": [
        {
          "output_type": "execute_result",
          "data": {
            "text/plain": [
              "{'accuracy': 0.799080761654629,\n",
              " 'f1': 0.7920155324845473,\n",
              " 'precision': 0.8146358812834972,\n",
              " 'recall': 0.799080761654629}"
            ]
          },
          "metadata": {},
          "execution_count": 132
        }
      ]
    },
    {
      "cell_type": "markdown",
      "source": [
        "### **Model 7**: TF Hub Pretrained USE (same as model_6) with 10% of training data"
      ],
      "metadata": {
        "id": "I97cmoETTuaE"
      }
    },
    {
      "cell_type": "code",
      "source": [
        "len(train_tweets), type(train_tweets)"
      ],
      "metadata": {
        "id": "9ltjHGH0Tuf1",
        "outputId": "65d7047a-e33e-4d21-c390-5ffb8bbda5c1",
        "colab": {
          "base_uri": "https://localhost:8080/"
        }
      },
      "execution_count": 133,
      "outputs": [
        {
          "output_type": "execute_result",
          "data": {
            "text/plain": [
              "(6090, numpy.ndarray)"
            ]
          },
          "metadata": {},
          "execution_count": 133
        }
      ]
    },
    {
      "cell_type": "code",
      "source": [
        "train_tweets[:2]"
      ],
      "metadata": {
        "id": "C7xmhwM9YQye",
        "outputId": "224de259-e937-4765-809c-dd57e8e78ad2",
        "colab": {
          "base_uri": "https://localhost:8080/"
        }
      },
      "execution_count": 134,
      "outputs": [
        {
          "output_type": "execute_result",
          "data": {
            "text/plain": [
              "array(['Detonation fashionable mountaineering electronic watch water-resistant couples leisure tab\\x89Û_ http://t.co/E61x9Y65QD http://t.co/OVLET0gDqm',\n",
              "       \"Men escape car engulfed in flames in Parley's Canyon crews investigating cause - http://t.co/tFan6qq2Ys http://t.co/rAkwWritPo\"],\n",
              "      dtype=object)"
            ]
          },
          "metadata": {},
          "execution_count": 134
        }
      ]
    },
    {
      "cell_type": "markdown",
      "source": [
        "##### NOTE: Making data splits like below leads to data leakage (model_7 trained on 10% data, outperforms model_6 trained on 100% data)\n",
        "##### DO NOT MAKE DATA SPLITS WHICH LEAK DATA FROM VALIDATION/TEST SETS INTO TRAINING SET"
      ],
      "metadata": {
        "id": "C-vpv-OGsfIS"
      }
    },
    {
      "cell_type": "code",
      "source": [
        "# # Split the dataset with 10% training samples\n",
        "# train_10_percent_split = train_df_shuffled[[\"text\", \"target\"]].sample(frac=0.1, random_state=42)\n",
        "# train_tweets_10_percent = train_10_percent_split[\"text\"].to_list()\n",
        "# train_labels_10_percent = train_10_percent_split[\"target\"].to_list()\n"
      ],
      "metadata": {
        "id": "CXqK0KhXYQ1m"
      },
      "execution_count": 135,
      "outputs": []
    },
    {
      "cell_type": "code",
      "source": [
        "# Making a better dataset split (no data leakage)\n",
        "train_10_percent_split = int(0.1 * len(train_tweets))\n",
        "train_tweets_10_percent = train_tweets[:train_10_percent_split]\n",
        "train_labels_10_percent = train_labels[:train_10_percent_split]"
      ],
      "metadata": {
        "id": "JY7uWCyctAWL"
      },
      "execution_count": 136,
      "outputs": []
    },
    {
      "cell_type": "code",
      "source": [
        "len(train_tweets_10_percent), len(train_labels_10_percent)"
      ],
      "metadata": {
        "id": "TM2mgWZSnr8H",
        "outputId": "c68e2c2a-6916-4037-beb6-8da21ef510d6",
        "colab": {
          "base_uri": "https://localhost:8080/"
        }
      },
      "execution_count": 137,
      "outputs": [
        {
          "output_type": "execute_result",
          "data": {
            "text/plain": [
              "(609, 609)"
            ]
          },
          "metadata": {},
          "execution_count": 137
        }
      ]
    },
    {
      "cell_type": "code",
      "source": [
        "# Check the number of each label in the updated training data subset\n",
        "pd.Series(np.array(train_labels_10_percent)).value_counts()"
      ],
      "metadata": {
        "id": "QQrziLTCmluZ",
        "outputId": "46336eaf-4b9b-47a2-d9e0-dbf133be3495",
        "colab": {
          "base_uri": "https://localhost:8080/"
        }
      },
      "execution_count": 138,
      "outputs": [
        {
          "output_type": "execute_result",
          "data": {
            "text/plain": [
              "0    324\n",
              "1    285\n",
              "dtype: int64"
            ]
          },
          "metadata": {},
          "execution_count": 138
        }
      ]
    },
    {
      "cell_type": "code",
      "source": [
        "# Check the number of targets in our subset of data\n",
        "train_df_shuffled[\"target\"].value_counts()"
      ],
      "metadata": {
        "id": "ACLlYbycmlxj",
        "outputId": "9bfcc79a-cb9d-4f34-facf-1d231f048270",
        "colab": {
          "base_uri": "https://localhost:8080/"
        }
      },
      "execution_count": 139,
      "outputs": [
        {
          "output_type": "execute_result",
          "data": {
            "text/plain": [
              "0    4342\n",
              "1    3271\n",
              "Name: target, dtype: int64"
            ]
          },
          "metadata": {},
          "execution_count": 139
        }
      ]
    },
    {
      "cell_type": "code",
      "source": [
        "# Create model_7 the same as in model_6\n",
        "model_7 = tf.keras.models.clone_model(model_6)"
      ],
      "metadata": {
        "id": "f2U011XEmsxq"
      },
      "execution_count": 140,
      "outputs": []
    },
    {
      "cell_type": "code",
      "source": [
        "# Compile model\n",
        "model_7.compile(loss=\"binary_crossentropy\",\n",
        "                optimizer=tf.keras.optimizers.Adam(),\n",
        "                metrics=[\"accuracy\"])"
      ],
      "metadata": {
        "id": "iNP0Ibylms00"
      },
      "execution_count": 141,
      "outputs": []
    },
    {
      "cell_type": "code",
      "source": [
        "# Get model_7 summary \n",
        "model_7.summary()"
      ],
      "metadata": {
        "id": "YQT3PciPms3X",
        "outputId": "7c47f8e5-764b-453e-9cb4-786efd6eef33",
        "colab": {
          "base_uri": "https://localhost:8080/"
        }
      },
      "execution_count": 142,
      "outputs": [
        {
          "output_type": "stream",
          "name": "stdout",
          "text": [
            "Model: \"model_6_USE\"\n",
            "_________________________________________________________________\n",
            " Layer (type)                Output Shape              Param #   \n",
            "=================================================================\n",
            " USE (KerasLayer)            (None, 512)               256797824 \n",
            "                                                                 \n",
            " dense_4 (Dense)             (None, 64)                32832     \n",
            "                                                                 \n",
            " output_layer (Dense)        (None, 1)                 65        \n",
            "                                                                 \n",
            "=================================================================\n",
            "Total params: 256,830,721\n",
            "Trainable params: 32,897\n",
            "Non-trainable params: 256,797,824\n",
            "_________________________________________________________________\n"
          ]
        }
      ]
    },
    {
      "cell_type": "code",
      "source": [
        "# Fit the model to the 10% training data subsets\n",
        "model_7_history = model_7.fit(train_tweets_10_percent,\n",
        "                              train_labels_10_percent,\n",
        "                              epochs=10,\n",
        "                              validation_data=(val_tweets, val_labels),\n",
        "                              callbacks=[create_tensorboard_callback(SAVE_DIR,\n",
        "                                                                     \"tf_hub_sentence_encoder_10_percent_correct_split\")])"
      ],
      "metadata": {
        "id": "5XB-ufkAms6C",
        "outputId": "3cb5a483-d2e2-48d8-8339-4d4f888f4732",
        "colab": {
          "base_uri": "https://localhost:8080/"
        }
      },
      "execution_count": 143,
      "outputs": [
        {
          "output_type": "stream",
          "name": "stdout",
          "text": [
            "Saving TensorBoard log files to: model_logs/tf_hub_sentence_encoder_10_percent_correct_split/20220624-194905\n",
            "Epoch 1/10\n",
            "20/20 [==============================] - 4s 82ms/step - loss: 0.6762 - accuracy: 0.6453 - val_loss: 0.6544 - val_accuracy: 0.7636\n",
            "Epoch 2/10\n",
            "20/20 [==============================] - 1s 44ms/step - loss: 0.6211 - accuracy: 0.8194 - val_loss: 0.6068 - val_accuracy: 0.7761\n",
            "Epoch 3/10\n",
            "20/20 [==============================] - 1s 33ms/step - loss: 0.5584 - accuracy: 0.8177 - val_loss: 0.5545 - val_accuracy: 0.7754\n",
            "Epoch 4/10\n",
            "20/20 [==============================] - 1s 44ms/step - loss: 0.4969 - accuracy: 0.8276 - val_loss: 0.5162 - val_accuracy: 0.7722\n",
            "Epoch 5/10\n",
            "20/20 [==============================] - 1s 32ms/step - loss: 0.4509 - accuracy: 0.8342 - val_loss: 0.4987 - val_accuracy: 0.7689\n",
            "Epoch 6/10\n",
            "20/20 [==============================] - 1s 33ms/step - loss: 0.4182 - accuracy: 0.8374 - val_loss: 0.4854 - val_accuracy: 0.7807\n",
            "Epoch 7/10\n",
            "20/20 [==============================] - 1s 44ms/step - loss: 0.3937 - accuracy: 0.8506 - val_loss: 0.4810 - val_accuracy: 0.7741\n",
            "Epoch 8/10\n",
            "20/20 [==============================] - 1s 33ms/step - loss: 0.3710 - accuracy: 0.8654 - val_loss: 0.4792 - val_accuracy: 0.7748\n",
            "Epoch 9/10\n",
            "20/20 [==============================] - 1s 44ms/step - loss: 0.3536 - accuracy: 0.8686 - val_loss: 0.4794 - val_accuracy: 0.7754\n",
            "Epoch 10/10\n",
            "20/20 [==============================] - 1s 44ms/step - loss: 0.3399 - accuracy: 0.8670 - val_loss: 0.4859 - val_accuracy: 0.7669\n"
          ]
        }
      ]
    },
    {
      "cell_type": "code",
      "source": [
        "# Make predictions with the model trained on 10% of the data\n",
        "model_7_pred_probs = model_7.predict(val_tweets)\n",
        "model_7_pred_probs[:10]"
      ],
      "metadata": {
        "id": "jHGDy9bWozEf",
        "outputId": "83709a22-5a5f-4e6b-a9dd-f52fca858baa",
        "colab": {
          "base_uri": "https://localhost:8080/"
        }
      },
      "execution_count": 144,
      "outputs": [
        {
          "output_type": "execute_result",
          "data": {
            "text/plain": [
              "array([[0.270578  ],\n",
              "       [0.93283546],\n",
              "       [0.9446134 ],\n",
              "       [0.5651035 ],\n",
              "       [0.887375  ],\n",
              "       [0.8572259 ],\n",
              "       [0.96378994],\n",
              "       [0.9620102 ],\n",
              "       [0.9055945 ],\n",
              "       [0.12781985]], dtype=float32)"
            ]
          },
          "metadata": {},
          "execution_count": 144
        }
      ]
    },
    {
      "cell_type": "code",
      "source": [
        "# Turn pred probs into label format (ones and zeros)\n",
        "model_7_preds = tf.squeeze(tf.round(model_7_pred_probs))\n",
        "model_7_preds[:10], val_labels[:10]"
      ],
      "metadata": {
        "id": "YhOSfW8gozH2",
        "outputId": "67a340a9-2be6-40e1-b942-38219bb2654d",
        "colab": {
          "base_uri": "https://localhost:8080/"
        }
      },
      "execution_count": 145,
      "outputs": [
        {
          "output_type": "execute_result",
          "data": {
            "text/plain": [
              "(<tf.Tensor: shape=(10,), dtype=float32, numpy=array([0., 1., 1., 1., 1., 1., 1., 1., 1., 0.], dtype=float32)>,\n",
              " array([0, 0, 1, 1, 1, 1, 1, 1, 1, 0]))"
            ]
          },
          "metadata": {},
          "execution_count": 145
        }
      ]
    },
    {
      "cell_type": "code",
      "source": [
        "# Evalaute model 7 predictions\n",
        "model_7_results = calculate_results(y_true=val_labels,\n",
        "                                    y_pred=model_7_preds)\n",
        "model_7_results"
      ],
      "metadata": {
        "id": "EEEpBfYWozKZ",
        "outputId": "a3a6615a-40c0-4161-d160-a0ce455502e5",
        "colab": {
          "base_uri": "https://localhost:8080/"
        }
      },
      "execution_count": 146,
      "outputs": [
        {
          "output_type": "execute_result",
          "data": {
            "text/plain": [
              "{'accuracy': 0.7669074195666448,\n",
              " 'f1': 0.7675830722887758,\n",
              " 'precision': 0.7695973214344519,\n",
              " 'recall': 0.7669074195666448}"
            ]
          },
          "metadata": {},
          "execution_count": 146
        }
      ]
    },
    {
      "cell_type": "code",
      "source": [
        "print(baseline_results)\n",
        "print(model_6_results)\n",
        "print(model_7_results)"
      ],
      "metadata": {
        "id": "2n3R9YKipN5x",
        "outputId": "c32e0999-c662-474b-a902-3d3f3be199ea",
        "colab": {
          "base_uri": "https://localhost:8080/"
        }
      },
      "execution_count": 147,
      "outputs": [
        {
          "output_type": "stream",
          "name": "stdout",
          "text": [
            "{'accuracy': 0.799080761654629, 'precision': 0.8146358812834972, 'recall': 0.799080761654629, 'f1': 0.7920155324845473}\n",
            "{'accuracy': 0.8154957321076822, 'precision': 0.8165200610381643, 'recall': 0.8154957321076822, 'f1': 0.8137301795543065}\n",
            "{'accuracy': 0.7669074195666448, 'precision': 0.7695973214344519, 'recall': 0.7669074195666448, 'f1': 0.7675830722887758}\n"
          ]
        }
      ]
    },
    {
      "cell_type": "code",
      "source": [
        "# Combine model results into a DataFrame\n",
        "all_model_results = pd.DataFrame({\"0_baseline\": baseline_results,\n",
        "                                  \"1_simple_dense\": model_1_results,\n",
        "                                  \"2_lstm\": model_2_results,\n",
        "                                  \"3_gru\": model_3_results,\n",
        "                                  \"4_bidirectional\": model_4_results,\n",
        "                                  \"5_conv1d\": model_5_results,\n",
        "                                  \"6_tf_hub_use_encoder\": model_6_results,\n",
        "                                  \"7_tf_hub_use_encoder_10_percent\": model_7_results})\n",
        "all_model_results = all_model_results.transpose()\n",
        "all_model_results"
      ],
      "metadata": {
        "id": "8ed7GkcTpanT",
        "outputId": "4e4dadb0-4932-46cf-b679-50dfbdd7328f",
        "colab": {
          "base_uri": "https://localhost:8080/",
          "height": 300
        }
      },
      "execution_count": 148,
      "outputs": [
        {
          "output_type": "execute_result",
          "data": {
            "text/plain": [
              "                                 accuracy  precision    recall        f1\n",
              "0_baseline                       0.799081   0.814636  0.799081  0.792016\n",
              "1_simple_dense                   0.783979   0.784041  0.783979  0.782047\n",
              "2_lstm                           0.771504   0.770814  0.771504  0.770931\n",
              "3_gru                            0.765594   0.765634  0.765594  0.765614\n",
              "4_bidirectional                  0.764281   0.763506  0.764281  0.763613\n",
              "5_conv1d                         0.751806   0.751980  0.751806  0.751888\n",
              "6_tf_hub_use_encoder             0.815496   0.816520  0.815496  0.813730\n",
              "7_tf_hub_use_encoder_10_percent  0.766907   0.769597  0.766907  0.767583"
            ],
            "text/html": [
              "\n",
              "  <div id=\"df-13de24c2-d2da-4d44-ad0b-6bada7a8768d\">\n",
              "    <div class=\"colab-df-container\">\n",
              "      <div>\n",
              "<style scoped>\n",
              "    .dataframe tbody tr th:only-of-type {\n",
              "        vertical-align: middle;\n",
              "    }\n",
              "\n",
              "    .dataframe tbody tr th {\n",
              "        vertical-align: top;\n",
              "    }\n",
              "\n",
              "    .dataframe thead th {\n",
              "        text-align: right;\n",
              "    }\n",
              "</style>\n",
              "<table border=\"1\" class=\"dataframe\">\n",
              "  <thead>\n",
              "    <tr style=\"text-align: right;\">\n",
              "      <th></th>\n",
              "      <th>accuracy</th>\n",
              "      <th>precision</th>\n",
              "      <th>recall</th>\n",
              "      <th>f1</th>\n",
              "    </tr>\n",
              "  </thead>\n",
              "  <tbody>\n",
              "    <tr>\n",
              "      <th>0_baseline</th>\n",
              "      <td>0.799081</td>\n",
              "      <td>0.814636</td>\n",
              "      <td>0.799081</td>\n",
              "      <td>0.792016</td>\n",
              "    </tr>\n",
              "    <tr>\n",
              "      <th>1_simple_dense</th>\n",
              "      <td>0.783979</td>\n",
              "      <td>0.784041</td>\n",
              "      <td>0.783979</td>\n",
              "      <td>0.782047</td>\n",
              "    </tr>\n",
              "    <tr>\n",
              "      <th>2_lstm</th>\n",
              "      <td>0.771504</td>\n",
              "      <td>0.770814</td>\n",
              "      <td>0.771504</td>\n",
              "      <td>0.770931</td>\n",
              "    </tr>\n",
              "    <tr>\n",
              "      <th>3_gru</th>\n",
              "      <td>0.765594</td>\n",
              "      <td>0.765634</td>\n",
              "      <td>0.765594</td>\n",
              "      <td>0.765614</td>\n",
              "    </tr>\n",
              "    <tr>\n",
              "      <th>4_bidirectional</th>\n",
              "      <td>0.764281</td>\n",
              "      <td>0.763506</td>\n",
              "      <td>0.764281</td>\n",
              "      <td>0.763613</td>\n",
              "    </tr>\n",
              "    <tr>\n",
              "      <th>5_conv1d</th>\n",
              "      <td>0.751806</td>\n",
              "      <td>0.751980</td>\n",
              "      <td>0.751806</td>\n",
              "      <td>0.751888</td>\n",
              "    </tr>\n",
              "    <tr>\n",
              "      <th>6_tf_hub_use_encoder</th>\n",
              "      <td>0.815496</td>\n",
              "      <td>0.816520</td>\n",
              "      <td>0.815496</td>\n",
              "      <td>0.813730</td>\n",
              "    </tr>\n",
              "    <tr>\n",
              "      <th>7_tf_hub_use_encoder_10_percent</th>\n",
              "      <td>0.766907</td>\n",
              "      <td>0.769597</td>\n",
              "      <td>0.766907</td>\n",
              "      <td>0.767583</td>\n",
              "    </tr>\n",
              "  </tbody>\n",
              "</table>\n",
              "</div>\n",
              "      <button class=\"colab-df-convert\" onclick=\"convertToInteractive('df-13de24c2-d2da-4d44-ad0b-6bada7a8768d')\"\n",
              "              title=\"Convert this dataframe to an interactive table.\"\n",
              "              style=\"display:none;\">\n",
              "        \n",
              "  <svg xmlns=\"http://www.w3.org/2000/svg\" height=\"24px\"viewBox=\"0 0 24 24\"\n",
              "       width=\"24px\">\n",
              "    <path d=\"M0 0h24v24H0V0z\" fill=\"none\"/>\n",
              "    <path d=\"M18.56 5.44l.94 2.06.94-2.06 2.06-.94-2.06-.94-.94-2.06-.94 2.06-2.06.94zm-11 1L8.5 8.5l.94-2.06 2.06-.94-2.06-.94L8.5 2.5l-.94 2.06-2.06.94zm10 10l.94 2.06.94-2.06 2.06-.94-2.06-.94-.94-2.06-.94 2.06-2.06.94z\"/><path d=\"M17.41 7.96l-1.37-1.37c-.4-.4-.92-.59-1.43-.59-.52 0-1.04.2-1.43.59L10.3 9.45l-7.72 7.72c-.78.78-.78 2.05 0 2.83L4 21.41c.39.39.9.59 1.41.59.51 0 1.02-.2 1.41-.59l7.78-7.78 2.81-2.81c.8-.78.8-2.07 0-2.86zM5.41 20L4 18.59l7.72-7.72 1.47 1.35L5.41 20z\"/>\n",
              "  </svg>\n",
              "      </button>\n",
              "      \n",
              "  <style>\n",
              "    .colab-df-container {\n",
              "      display:flex;\n",
              "      flex-wrap:wrap;\n",
              "      gap: 12px;\n",
              "    }\n",
              "\n",
              "    .colab-df-convert {\n",
              "      background-color: #E8F0FE;\n",
              "      border: none;\n",
              "      border-radius: 50%;\n",
              "      cursor: pointer;\n",
              "      display: none;\n",
              "      fill: #1967D2;\n",
              "      height: 32px;\n",
              "      padding: 0 0 0 0;\n",
              "      width: 32px;\n",
              "    }\n",
              "\n",
              "    .colab-df-convert:hover {\n",
              "      background-color: #E2EBFA;\n",
              "      box-shadow: 0px 1px 2px rgba(60, 64, 67, 0.3), 0px 1px 3px 1px rgba(60, 64, 67, 0.15);\n",
              "      fill: #174EA6;\n",
              "    }\n",
              "\n",
              "    [theme=dark] .colab-df-convert {\n",
              "      background-color: #3B4455;\n",
              "      fill: #D2E3FC;\n",
              "    }\n",
              "\n",
              "    [theme=dark] .colab-df-convert:hover {\n",
              "      background-color: #434B5C;\n",
              "      box-shadow: 0px 1px 3px 1px rgba(0, 0, 0, 0.15);\n",
              "      filter: drop-shadow(0px 1px 2px rgba(0, 0, 0, 0.3));\n",
              "      fill: #FFFFFF;\n",
              "    }\n",
              "  </style>\n",
              "\n",
              "      <script>\n",
              "        const buttonEl =\n",
              "          document.querySelector('#df-13de24c2-d2da-4d44-ad0b-6bada7a8768d button.colab-df-convert');\n",
              "        buttonEl.style.display =\n",
              "          google.colab.kernel.accessAllowed ? 'block' : 'none';\n",
              "\n",
              "        async function convertToInteractive(key) {\n",
              "          const element = document.querySelector('#df-13de24c2-d2da-4d44-ad0b-6bada7a8768d');\n",
              "          const dataTable =\n",
              "            await google.colab.kernel.invokeFunction('convertToInteractive',\n",
              "                                                     [key], {});\n",
              "          if (!dataTable) return;\n",
              "\n",
              "          const docLinkHtml = 'Like what you see? Visit the ' +\n",
              "            '<a target=\"_blank\" href=https://colab.research.google.com/notebooks/data_table.ipynb>data table notebook</a>'\n",
              "            + ' to learn more about interactive tables.';\n",
              "          element.innerHTML = '';\n",
              "          dataTable['output_type'] = 'display_data';\n",
              "          await google.colab.output.renderOutput(dataTable, element);\n",
              "          const docLink = document.createElement('div');\n",
              "          docLink.innerHTML = docLinkHtml;\n",
              "          element.appendChild(docLink);\n",
              "        }\n",
              "      </script>\n",
              "    </div>\n",
              "  </div>\n",
              "  "
            ]
          },
          "metadata": {},
          "execution_count": 148
        }
      ]
    },
    {
      "cell_type": "code",
      "source": [
        "# Reduce the accuracy to the same scale as other metrics\n",
        "all_model_results[\"accuracy\"] = all_model_results[\"accuracy\"]\n",
        "all_model_results"
      ],
      "metadata": {
        "id": "ZUDfItInpaqN",
        "outputId": "76b4ff2d-2e7e-4d1f-ad31-a8dbeda2ad54",
        "colab": {
          "base_uri": "https://localhost:8080/",
          "height": 300
        }
      },
      "execution_count": 149,
      "outputs": [
        {
          "output_type": "execute_result",
          "data": {
            "text/plain": [
              "                                 accuracy  precision    recall        f1\n",
              "0_baseline                       0.799081   0.814636  0.799081  0.792016\n",
              "1_simple_dense                   0.783979   0.784041  0.783979  0.782047\n",
              "2_lstm                           0.771504   0.770814  0.771504  0.770931\n",
              "3_gru                            0.765594   0.765634  0.765594  0.765614\n",
              "4_bidirectional                  0.764281   0.763506  0.764281  0.763613\n",
              "5_conv1d                         0.751806   0.751980  0.751806  0.751888\n",
              "6_tf_hub_use_encoder             0.815496   0.816520  0.815496  0.813730\n",
              "7_tf_hub_use_encoder_10_percent  0.766907   0.769597  0.766907  0.767583"
            ],
            "text/html": [
              "\n",
              "  <div id=\"df-e33ef8c9-5360-4cf9-bafc-e12f28881d8c\">\n",
              "    <div class=\"colab-df-container\">\n",
              "      <div>\n",
              "<style scoped>\n",
              "    .dataframe tbody tr th:only-of-type {\n",
              "        vertical-align: middle;\n",
              "    }\n",
              "\n",
              "    .dataframe tbody tr th {\n",
              "        vertical-align: top;\n",
              "    }\n",
              "\n",
              "    .dataframe thead th {\n",
              "        text-align: right;\n",
              "    }\n",
              "</style>\n",
              "<table border=\"1\" class=\"dataframe\">\n",
              "  <thead>\n",
              "    <tr style=\"text-align: right;\">\n",
              "      <th></th>\n",
              "      <th>accuracy</th>\n",
              "      <th>precision</th>\n",
              "      <th>recall</th>\n",
              "      <th>f1</th>\n",
              "    </tr>\n",
              "  </thead>\n",
              "  <tbody>\n",
              "    <tr>\n",
              "      <th>0_baseline</th>\n",
              "      <td>0.799081</td>\n",
              "      <td>0.814636</td>\n",
              "      <td>0.799081</td>\n",
              "      <td>0.792016</td>\n",
              "    </tr>\n",
              "    <tr>\n",
              "      <th>1_simple_dense</th>\n",
              "      <td>0.783979</td>\n",
              "      <td>0.784041</td>\n",
              "      <td>0.783979</td>\n",
              "      <td>0.782047</td>\n",
              "    </tr>\n",
              "    <tr>\n",
              "      <th>2_lstm</th>\n",
              "      <td>0.771504</td>\n",
              "      <td>0.770814</td>\n",
              "      <td>0.771504</td>\n",
              "      <td>0.770931</td>\n",
              "    </tr>\n",
              "    <tr>\n",
              "      <th>3_gru</th>\n",
              "      <td>0.765594</td>\n",
              "      <td>0.765634</td>\n",
              "      <td>0.765594</td>\n",
              "      <td>0.765614</td>\n",
              "    </tr>\n",
              "    <tr>\n",
              "      <th>4_bidirectional</th>\n",
              "      <td>0.764281</td>\n",
              "      <td>0.763506</td>\n",
              "      <td>0.764281</td>\n",
              "      <td>0.763613</td>\n",
              "    </tr>\n",
              "    <tr>\n",
              "      <th>5_conv1d</th>\n",
              "      <td>0.751806</td>\n",
              "      <td>0.751980</td>\n",
              "      <td>0.751806</td>\n",
              "      <td>0.751888</td>\n",
              "    </tr>\n",
              "    <tr>\n",
              "      <th>6_tf_hub_use_encoder</th>\n",
              "      <td>0.815496</td>\n",
              "      <td>0.816520</td>\n",
              "      <td>0.815496</td>\n",
              "      <td>0.813730</td>\n",
              "    </tr>\n",
              "    <tr>\n",
              "      <th>7_tf_hub_use_encoder_10_percent</th>\n",
              "      <td>0.766907</td>\n",
              "      <td>0.769597</td>\n",
              "      <td>0.766907</td>\n",
              "      <td>0.767583</td>\n",
              "    </tr>\n",
              "  </tbody>\n",
              "</table>\n",
              "</div>\n",
              "      <button class=\"colab-df-convert\" onclick=\"convertToInteractive('df-e33ef8c9-5360-4cf9-bafc-e12f28881d8c')\"\n",
              "              title=\"Convert this dataframe to an interactive table.\"\n",
              "              style=\"display:none;\">\n",
              "        \n",
              "  <svg xmlns=\"http://www.w3.org/2000/svg\" height=\"24px\"viewBox=\"0 0 24 24\"\n",
              "       width=\"24px\">\n",
              "    <path d=\"M0 0h24v24H0V0z\" fill=\"none\"/>\n",
              "    <path d=\"M18.56 5.44l.94 2.06.94-2.06 2.06-.94-2.06-.94-.94-2.06-.94 2.06-2.06.94zm-11 1L8.5 8.5l.94-2.06 2.06-.94-2.06-.94L8.5 2.5l-.94 2.06-2.06.94zm10 10l.94 2.06.94-2.06 2.06-.94-2.06-.94-.94-2.06-.94 2.06-2.06.94z\"/><path d=\"M17.41 7.96l-1.37-1.37c-.4-.4-.92-.59-1.43-.59-.52 0-1.04.2-1.43.59L10.3 9.45l-7.72 7.72c-.78.78-.78 2.05 0 2.83L4 21.41c.39.39.9.59 1.41.59.51 0 1.02-.2 1.41-.59l7.78-7.78 2.81-2.81c.8-.78.8-2.07 0-2.86zM5.41 20L4 18.59l7.72-7.72 1.47 1.35L5.41 20z\"/>\n",
              "  </svg>\n",
              "      </button>\n",
              "      \n",
              "  <style>\n",
              "    .colab-df-container {\n",
              "      display:flex;\n",
              "      flex-wrap:wrap;\n",
              "      gap: 12px;\n",
              "    }\n",
              "\n",
              "    .colab-df-convert {\n",
              "      background-color: #E8F0FE;\n",
              "      border: none;\n",
              "      border-radius: 50%;\n",
              "      cursor: pointer;\n",
              "      display: none;\n",
              "      fill: #1967D2;\n",
              "      height: 32px;\n",
              "      padding: 0 0 0 0;\n",
              "      width: 32px;\n",
              "    }\n",
              "\n",
              "    .colab-df-convert:hover {\n",
              "      background-color: #E2EBFA;\n",
              "      box-shadow: 0px 1px 2px rgba(60, 64, 67, 0.3), 0px 1px 3px 1px rgba(60, 64, 67, 0.15);\n",
              "      fill: #174EA6;\n",
              "    }\n",
              "\n",
              "    [theme=dark] .colab-df-convert {\n",
              "      background-color: #3B4455;\n",
              "      fill: #D2E3FC;\n",
              "    }\n",
              "\n",
              "    [theme=dark] .colab-df-convert:hover {\n",
              "      background-color: #434B5C;\n",
              "      box-shadow: 0px 1px 3px 1px rgba(0, 0, 0, 0.15);\n",
              "      filter: drop-shadow(0px 1px 2px rgba(0, 0, 0, 0.3));\n",
              "      fill: #FFFFFF;\n",
              "    }\n",
              "  </style>\n",
              "\n",
              "      <script>\n",
              "        const buttonEl =\n",
              "          document.querySelector('#df-e33ef8c9-5360-4cf9-bafc-e12f28881d8c button.colab-df-convert');\n",
              "        buttonEl.style.display =\n",
              "          google.colab.kernel.accessAllowed ? 'block' : 'none';\n",
              "\n",
              "        async function convertToInteractive(key) {\n",
              "          const element = document.querySelector('#df-e33ef8c9-5360-4cf9-bafc-e12f28881d8c');\n",
              "          const dataTable =\n",
              "            await google.colab.kernel.invokeFunction('convertToInteractive',\n",
              "                                                     [key], {});\n",
              "          if (!dataTable) return;\n",
              "\n",
              "          const docLinkHtml = 'Like what you see? Visit the ' +\n",
              "            '<a target=\"_blank\" href=https://colab.research.google.com/notebooks/data_table.ipynb>data table notebook</a>'\n",
              "            + ' to learn more about interactive tables.';\n",
              "          element.innerHTML = '';\n",
              "          dataTable['output_type'] = 'display_data';\n",
              "          await google.colab.output.renderOutput(dataTable, element);\n",
              "          const docLink = document.createElement('div');\n",
              "          docLink.innerHTML = docLinkHtml;\n",
              "          element.appendChild(docLink);\n",
              "        }\n",
              "      </script>\n",
              "    </div>\n",
              "  </div>\n",
              "  "
            ]
          },
          "metadata": {},
          "execution_count": 149
        }
      ]
    },
    {
      "cell_type": "code",
      "source": [
        "# Plot and compare all of the model results\n",
        "all_model_results.plot(kind=\"bar\", figsize=(10, 7)).legend(bbox_to_anchor=(1.0, 1.0));"
      ],
      "metadata": {
        "id": "KRROZTlvpasj",
        "outputId": "f6831e26-db7c-4e90-d1a4-6aad899a9f3b",
        "colab": {
          "base_uri": "https://localhost:8080/",
          "height": 590
        }
      },
      "execution_count": 150,
      "outputs": [
        {
          "output_type": "display_data",
          "data": {
            "text/plain": [
              "<Figure size 720x504 with 1 Axes>"
            ],
            "image/png": "[encoded data removed]"
          },
          "metadata": {
            "needs_background": "light"
          }
        }
      ]
    },
    {
      "cell_type": "code",
      "source": [
        "# Sort model results by f1-score\n",
        "all_model_results.sort_values(\"f1\", ascending=False)[\"f1\"].plot(kind=\"bar\", figsize=(10, 7));"
      ],
      "metadata": {
        "id": "kxUB8gzap9Wk",
        "outputId": "427c3336-4d3f-4cbd-a216-cf7e7bf277da",
        "colab": {
          "base_uri": "https://localhost:8080/",
          "height": 590
        }
      },
      "execution_count": 151,
      "outputs": [
        {
          "output_type": "display_data",
          "data": {
            "text/plain": [
              "<Figure size 720x504 with 1 Axes>"
            ],
            "image/png": "[encoded data removed]"
          },
          "metadata": {
            "needs_background": "light"
          }
        }
      ]
    },
    {
      "cell_type": "markdown",
      "source": [
        "### Uploading our model training logs to `TesnorBoard.dev`"
      ],
      "metadata": {
        "id": "LLZJykh4p9aZ"
      }
    },
    {
      "cell_type": "code",
      "source": [
        "# View TensorBoard logs of transfer learning modelling experiments (plus all of our other models) and upload TensorBoard dev records\n",
        "!tensorboard dev upload --logdir ./model_logs/ \\\n",
        "--name \"NLP Disaster Tweets Model Experiments\" \\\n",
        "--description \"Comparing multiple different types of model architectures on the Kaggle Tweets text classification dataset\" \\\n",
        "--one_shot # to exit the uploader once uploading is finished"
      ],
      "metadata": {
        "id": "RLJe0P2sQMQj",
        "outputId": "ee03353d-f894-4a88-ff4e-d79cdea0615c",
        "colab": {
          "base_uri": "https://localhost:8080/"
        }
      },
      "execution_count": 152,
      "outputs": [
        {
          "output_type": "stream",
          "name": "stdout",
          "text": [
            "\n",
            "***** TensorBoard Uploader *****\n",
            "\n",
            "This will upload your TensorBoard logs to https://tensorboard.dev/ from\n",
            "the following directory:\n",
            "\n",
            "./model_logs/\n",
            "\n",
            "This TensorBoard will be visible to everyone. Do not upload sensitive\n",
            "data.\n",
            "\n",
            "Your use of this service is subject to Google's Terms of Service\n",
            "<https://policies.google.com/terms> and Privacy Policy\n",
            "<https://policies.google.com/privacy>, and TensorBoard.dev's Terms of Service\n",
            "<https://tensorboard.dev/policy/terms/>.\n",
            "\n",
            "This notice will not be shown again while you are logged into the uploader.\n",
            "To log out, run `tensorboard dev auth revoke`.\n",
            "\n",
            "Continue? (yes/NO) yes\n",
            "\n",
            "Please visit this URL to authorize this application: https://accounts.google.com/o/oauth2/auth?response_type=code&client_id=373649185512-8v619h5kft38l4456nm2dj4ubeqsrvh6.apps.googleusercontent.com&redirect_uri=urn%3Aietf%3Awg%3Aoauth%3A2.0%3Aoob&scope=openid+https%3A%2F%2Fwww.googleapis.com%2Fauth%2Fuserinfo.email&state=4nHdyYq15644MeH3wfVvi2VUEaphOr&prompt=consent&access_type=offline\n",
            "Enter the authorization code: 4/1AX4XfWiLuewM-X4rOUIPZqER0gN-FC9f_H0GO9Tp8xqmi9IoMtiBvURhSGg\n",
            "\n",
            "\n",
            "New experiment created. View your TensorBoard at: https://tensorboard.dev/experiment/GVEiY42ZQQiyKBsOJnB95A/\n",
            "\n",
            "\u001b[1m[2022-06-24T19:57:35]\u001b[0m Started scanning logdir.\n",
            "\u001b[1m[2022-06-24T19:57:43]\u001b[0m Total uploaded: 720 scalars, 0 tensors, 8 binary objects (2.8 MB)\n",
            "\u001b[1m[2022-06-24T19:57:43]\u001b[0m Done scanning logdir.\n",
            "\n",
            "\n",
            "Done. View your TensorBoard at https://tensorboard.dev/experiment/GVEiY42ZQQiyKBsOJnB95A/\n"
          ]
        }
      ]
    },
    {
      "cell_type": "markdown",
      "source": [
        "#### My modelling experiments are visable now on TensorBoard.dev:\n",
        "https://tensorboard.dev/experiment/GVEiY42ZQQiyKBsOJnB95A/"
      ],
      "metadata": {
        "id": "DYhFHk6vQMTf"
      }
    },
    {
      "cell_type": "code",
      "source": [
        "# Check previous experiments saved on TensorBoard dev\n",
        "!tensorboard dev list"
      ],
      "metadata": {
        "id": "qBINN_PoQMWs",
        "outputId": "f50410ad-43c0-45e4-a250-d3e23121313e",
        "colab": {
          "base_uri": "https://localhost:8080/"
        }
      },
      "execution_count": 154,
      "outputs": [
        {
          "output_type": "stream",
          "name": "stdout",
          "text": [
            "https://tensorboard.dev/experiment/GVEiY42ZQQiyKBsOJnB95A/\n",
            "\tName                 NLP Disaster Tweets Model Experiments\n",
            "\tDescription          Comparing multiple different types of model architectures on the Kaggle Tweets text classification dataset\n",
            "\tId                   GVEiY42ZQQiyKBsOJnB95A\n",
            "\tCreated              2022-06-24 19:57:35 (7 minutes ago)\n",
            "\tUpdated              2022-06-24 19:57:43 (6 minutes ago)\n",
            "\tRuns                 16\n",
            "\tTags                 5\n",
            "\tScalars              720\n",
            "\tTensor bytes         0\n",
            "\tBinary object bytes  2961077\n",
            "Total: 1 experiment(s)\n"
          ]
        }
      ]
    },
    {
      "cell_type": "code",
      "source": [
        "# To delete an experiment from TensorBoard, run the following command:\n",
        "# !tensorboard dev delete --experiment_id Eacboed3RbKPWIGcXe1Z6gB"
      ],
      "metadata": {
        "id": "t_8nXPCjQMZg"
      },
      "execution_count": null,
      "outputs": []
    },
    {
      "cell_type": "markdown",
      "source": [
        "### Saving and loading model_6 (best model)\n"
      ],
      "metadata": {
        "id": "jvE5DnWSQMcW"
      }
    },
    {
      "cell_type": "code",
      "source": [
        "# Save the model in HDF5 format\n",
        "model_6.save(\"model_6.h5\")"
      ],
      "metadata": {
        "id": "Y-3JENcJQMfN"
      },
      "execution_count": 155,
      "outputs": []
    },
    {
      "cell_type": "code",
      "source": [
        "# Load the model\n",
        "loaded_model_6 = tf.keras.models.load_model(\"model_6.h5\",\n",
        "                                            custom_objects={\"KerasLayer\": hub.KerasLayer})"
      ],
      "metadata": {
        "id": "to5aMtdgVJeL"
      },
      "execution_count": 156,
      "outputs": []
    },
    {
      "cell_type": "code",
      "source": [
        "# Evaluate model performance\n",
        "loaded_model_6.evaluate(val_tweets, val_labels)"
      ],
      "metadata": {
        "id": "ow1P6bXCVJhL",
        "outputId": "ba17cd26-cb4e-43bd-87ed-1c1fe33d371f",
        "colab": {
          "base_uri": "https://localhost:8080/"
        }
      },
      "execution_count": 158,
      "outputs": [
        {
          "output_type": "stream",
          "name": "stdout",
          "text": [
            "48/48 [==============================] - 2s 19ms/step - loss: 0.4347 - accuracy: 0.8155\n"
          ]
        },
        {
          "output_type": "execute_result",
          "data": {
            "text/plain": [
              "[0.4346992075443268, 0.8154957294464111]"
            ]
          },
          "metadata": {},
          "execution_count": 158
        }
      ]
    },
    {
      "cell_type": "markdown",
      "source": [
        "### References: \n",
        "\n",
        "* [TensorFlow Documentation](https://www.tensorflow.org/api_docs/python/tf/all_symbols)\n",
        "\n",
        "* [Dataset - Natural Language Processing with Disaster Tweets](https://www.kaggle.com/competitions/nlp-getting-started/data)\n",
        "\n",
        "* [TextVectorization](https://www.tensorflow.org/api_docs/python/tf/keras/layers/TextVectorization)\n",
        "\n",
        "* [Keras Layers](https://www.tensorflow.org/api_docs/python/tf/keras/layers/Layer)\n",
        "\n",
        "* [Embedding Layer](https://www.tensorflow.org/api_docs/python/tf/keras/layers/Embedding)\n",
        "\n",
        "* [MultinomialNB](https://scikit-learn.org/stable/modules/generated/sklearn.naive_bayes.MultinomialNB.html#sklearn.naive_bayes.MultinomialNB)\n",
        "\n",
        "* [Tf–idf term weighting](https://scikit-learn.org/stable/modules/generated/sklearn.naive_bayes.MultinomialNB.html#sklearn.naive_bayes.MultinomialNB)\n",
        "\n",
        "* [Scikit-Learn Metrics and Scoring](https://scikit-learn.org/stable/modules/model_evaluation.html)\n",
        "\n",
        "* [Global Average Pooling1D Layer](https://www.tensorflow.org/api_docs/python/tf/keras/layers/GlobalAveragePooling1D)\n",
        "\n",
        "* [Embedding Projector Tool in TensorFlow](https://www.tensorflow.org/tutorials/text/word_embeddings)\n",
        "\n",
        "* [Embedding Projector](https://projector.tensorflow.org/)\n",
        "\n",
        "* [Understanding LSTM Networks](https://colah.github.io/posts/2015-08-Understanding-LSTMs/#:~:text=The%20LSTM%20does%20have%20the,and%20a%20pointwise%20multiplication%20operation.)\n",
        "\n",
        "* [MIT 6.S191: Recurrent Neural Networks](https://www.youtube.com/watch?v=SEnXr6v2ifU)\n",
        "\n",
        "\n",
        "* [TensorFlow Bidirectional ](https://www.tensorflow.org/api_docs/python/tf/keras/layers/Bidirectional)\n",
        "\n",
        "* [Conv1D Layer](https://www.tensorflow.org/api_docs/python/tf/keras/layers/Conv1D)\n",
        "\n",
        "* [USE - universal-sentence-encoder](https://tfhub.dev/google/universal-sentence-encoder/4)\n",
        "\n",
        "* [TensorFlow Model Clone](https://www.tensorflow.org/api_docs/python/tf/keras/models/clone_model)\n",
        "\n",
        "* [TensorBoard.dev](https://tensorboard.dev/)\n",
        "\n",
        "* [Weights & Biases to track modelling experiments](https://wandb.ai/site)\n",
        "\n",
        "* [Save and Load Models](https://www.tensorflow.org/tutorials/keras/save_and_load)\n",
        "\n",
        "\n",
        "\n",
        "\n",
        "\n",
        "\n",
        "\n",
        "\n",
        "\n",
        "\n",
        "\n",
        "\n",
        "\n"
      ],
      "metadata": {
        "id": "nqGzPLdc9Nqj"
      }
    }
  ]
}